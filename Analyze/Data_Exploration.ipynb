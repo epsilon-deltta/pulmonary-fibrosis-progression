{
 "cells": [
  {
   "cell_type": "code",
   "execution_count": 1,
   "metadata": {},
   "outputs": [
    {
     "data": {
      "text/html": [
       "        <script type=\"text/javascript\">\n",
       "        window.PlotlyConfig = {MathJaxConfig: 'local'};\n",
       "        if (window.MathJax) {MathJax.Hub.Config({SVG: {font: \"STIX-Web\"}});}\n",
       "        if (typeof require !== 'undefined') {\n",
       "        require.undef(\"plotly\");\n",
       "        requirejs.config({\n",
       "            paths: {\n",
       "                'plotly': ['https://cdn.plot.ly/plotly-latest.min']\n",
       "            }\n",
       "        });\n",
       "        require(['plotly'], function(Plotly) {\n",
       "            window._Plotly = Plotly;\n",
       "        });\n",
       "        }\n",
       "        </script>\n",
       "        "
      ]
     },
     "metadata": {},
     "output_type": "display_data"
    }
   ],
   "source": [
    "import os\n",
    "from os import listdir\n",
    "import pandas as pd\n",
    "import numpy as np\n",
    "import glob\n",
    "import tqdm\n",
    "from typing import Dict\n",
    "import matplotlib.pyplot as plt\n",
    "%matplotlib inline\n",
    "\n",
    "#plotly\n",
    "\n",
    "import plotly.express as px\n",
    "import chart_studio.plotly as py\n",
    "import plotly.graph_objs as go\n",
    "from plotly.offline import iplot\n",
    "import cufflinks\n",
    "cufflinks.go_offline()\n",
    "cufflinks.set_config_file(world_readable=True, theme='pearl')\n",
    "\n",
    "#color\n",
    "from colorama import Fore, Back, Style\n",
    "\n",
    "import seaborn as sns\n",
    "sns.set(style=\"whitegrid\")\n",
    "\n",
    "#pydicom\n",
    "import pydicom\n",
    "\n",
    "# Suppress warnings \n",
    "import warnings\n",
    "warnings.filterwarnings('ignore')\n",
    "\n",
    "# Settings for pretty nice plots\n",
    "plt.style.use('fivethirtyeight')\n",
    "plt.show()"
   ]
  },
  {
   "cell_type": "code",
   "execution_count": 12,
   "metadata": {
    "collapsed": true
   },
   "outputs": [
    {
     "name": "stdout",
     "output_type": "stream",
     "text": [
      "<class 'pandas.core.frame.DataFrame'>\n",
      "RangeIndex: 1549 entries, 0 to 1548\n",
      "Data columns (total 7 columns):\n",
      " #   Column         Non-Null Count  Dtype  \n",
      "---  ------         --------------  -----  \n",
      " 0   Patient        1549 non-null   object \n",
      " 1   Weeks          1549 non-null   int64  \n",
      " 2   FVC            1549 non-null   int64  \n",
      " 3   Percent        1549 non-null   float64\n",
      " 4   Age            1549 non-null   int64  \n",
      " 5   Sex            1549 non-null   object \n",
      " 6   SmokingStatus  1549 non-null   object \n",
      "dtypes: float64(1), int64(3), object(3)\n",
      "memory usage: 84.8+ KB\n",
      "None\n",
      "====================================================================\n",
      "<class 'pandas.core.frame.DataFrame'>\n",
      "RangeIndex: 5 entries, 0 to 4\n",
      "Data columns (total 7 columns):\n",
      " #   Column         Non-Null Count  Dtype  \n",
      "---  ------         --------------  -----  \n",
      " 0   Patient        5 non-null      object \n",
      " 1   Weeks          5 non-null      int64  \n",
      " 2   FVC            5 non-null      int64  \n",
      " 3   Percent        5 non-null      float64\n",
      " 4   Age            5 non-null      int64  \n",
      " 5   Sex            5 non-null      object \n",
      " 6   SmokingStatus  5 non-null      object \n",
      "dtypes: float64(1), int64(3), object(3)\n",
      "memory usage: 408.0+ bytes\n",
      "None\n"
     ]
    }
   ],
   "source": [
    "###(bs) column [ attribute & dataType ] checking ###\n",
    "train_df = pd.read_csv('../input/train.csv')\n",
    "test_df = pd.read_csv('../input/test.csv')\n",
    "print(train_df.info())\n",
    "print(\"====================================================================\")\n",
    "print(test_df.info())"
   ]
  },
  {
   "cell_type": "code",
   "execution_count": 13,
   "metadata": {
    "collapsed": true
   },
   "outputs": [
    {
     "data": {
      "text/html": [
       "<div>\n",
       "<style scoped>\n",
       "    .dataframe tbody tr th:only-of-type {\n",
       "        vertical-align: middle;\n",
       "    }\n",
       "\n",
       "    .dataframe tbody tr th {\n",
       "        vertical-align: top;\n",
       "    }\n",
       "\n",
       "    .dataframe thead th {\n",
       "        text-align: right;\n",
       "    }\n",
       "</style>\n",
       "<table border=\"1\" class=\"dataframe\">\n",
       "  <thead>\n",
       "    <tr style=\"text-align: right;\">\n",
       "      <th></th>\n",
       "      <th>Weeks</th>\n",
       "      <th>FVC</th>\n",
       "      <th>Percent</th>\n",
       "      <th>Age</th>\n",
       "    </tr>\n",
       "  </thead>\n",
       "  <tbody>\n",
       "    <tr>\n",
       "      <th>count</th>\n",
       "      <td>1549.000000</td>\n",
       "      <td>1549.000000</td>\n",
       "      <td>1549.000000</td>\n",
       "      <td>1549.000000</td>\n",
       "    </tr>\n",
       "    <tr>\n",
       "      <th>mean</th>\n",
       "      <td>31.861846</td>\n",
       "      <td>2690.479019</td>\n",
       "      <td>77.672654</td>\n",
       "      <td>67.188509</td>\n",
       "    </tr>\n",
       "    <tr>\n",
       "      <th>std</th>\n",
       "      <td>23.247550</td>\n",
       "      <td>832.770959</td>\n",
       "      <td>19.823261</td>\n",
       "      <td>7.057395</td>\n",
       "    </tr>\n",
       "    <tr>\n",
       "      <th>min</th>\n",
       "      <td>-5.000000</td>\n",
       "      <td>827.000000</td>\n",
       "      <td>28.877577</td>\n",
       "      <td>49.000000</td>\n",
       "    </tr>\n",
       "    <tr>\n",
       "      <th>25%</th>\n",
       "      <td>12.000000</td>\n",
       "      <td>2109.000000</td>\n",
       "      <td>62.832700</td>\n",
       "      <td>63.000000</td>\n",
       "    </tr>\n",
       "    <tr>\n",
       "      <th>50%</th>\n",
       "      <td>28.000000</td>\n",
       "      <td>2641.000000</td>\n",
       "      <td>75.676937</td>\n",
       "      <td>68.000000</td>\n",
       "    </tr>\n",
       "    <tr>\n",
       "      <th>75%</th>\n",
       "      <td>47.000000</td>\n",
       "      <td>3171.000000</td>\n",
       "      <td>88.621065</td>\n",
       "      <td>72.000000</td>\n",
       "    </tr>\n",
       "    <tr>\n",
       "      <th>max</th>\n",
       "      <td>133.000000</td>\n",
       "      <td>6399.000000</td>\n",
       "      <td>153.145378</td>\n",
       "      <td>88.000000</td>\n",
       "    </tr>\n",
       "  </tbody>\n",
       "</table>\n",
       "</div>"
      ],
      "text/plain": [
       "             Weeks          FVC      Percent          Age\n",
       "count  1549.000000  1549.000000  1549.000000  1549.000000\n",
       "mean     31.861846  2690.479019    77.672654    67.188509\n",
       "std      23.247550   832.770959    19.823261     7.057395\n",
       "min      -5.000000   827.000000    28.877577    49.000000\n",
       "25%      12.000000  2109.000000    62.832700    63.000000\n",
       "50%      28.000000  2641.000000    75.676937    68.000000\n",
       "75%      47.000000  3171.000000    88.621065    72.000000\n",
       "max     133.000000  6399.000000   153.145378    88.000000"
      ]
     },
     "execution_count": 13,
     "metadata": {},
     "output_type": "execute_result"
    }
   ],
   "source": [
    "train_df.describe()"
   ]
  },
  {
   "cell_type": "code",
   "execution_count": 4,
   "metadata": {
    "collapsed": true
   },
   "outputs": [
    {
     "data": {
      "text/plain": [
       "Patient          0\n",
       "Weeks            0\n",
       "FVC              0\n",
       "Percent          0\n",
       "Age              0\n",
       "Sex              0\n",
       "SmokingStatus    0\n",
       "dtype: int64"
      ]
     },
     "execution_count": 4,
     "metadata": {},
     "output_type": "execute_result"
    }
   ],
   "source": [
    "###(bs) Missing values checking ###\n",
    "train_df.isnull().sum()"
   ]
  },
  {
   "cell_type": "code",
   "execution_count": 5,
   "metadata": {},
   "outputs": [
    {
     "data": {
      "text/plain": [
       "Patient          0\n",
       "Weeks            0\n",
       "FVC              0\n",
       "Percent          0\n",
       "Age              0\n",
       "Sex              0\n",
       "SmokingStatus    0\n",
       "dtype: int64"
      ]
     },
     "execution_count": 5,
     "metadata": {},
     "output_type": "execute_result"
    }
   ],
   "source": [
    "test_df.isnull().sum()"
   ]
  },
  {
   "cell_type": "code",
   "execution_count": 28,
   "metadata": {
    "collapsed": true
   },
   "outputs": [
    {
     "data": {
      "text/plain": [
       "array(['ID00007637202177411956430', 'ID00009637202177434476278',\n",
       "       'ID00010637202177584971671', 'ID00011637202177653955184',\n",
       "       'ID00012637202177665765362', 'ID00014637202177757139317',\n",
       "       'ID00015637202177877247924', 'ID00019637202178323708467',\n",
       "       'ID00020637202178344345685', 'ID00023637202179104603099',\n",
       "       'ID00025637202179541264076', 'ID00026637202179561894768',\n",
       "       'ID00027637202179689871102', 'ID00030637202181211009029',\n",
       "       'ID00032637202181710233084', 'ID00035637202182204917484',\n",
       "       'ID00038637202182690843176', 'ID00042637202184406822975',\n",
       "       'ID00047637202184938901501', 'ID00048637202185016727717',\n",
       "       'ID00051637202185848464638', 'ID00052637202186188008618',\n",
       "       'ID00060637202187965290703', 'ID00061637202188184085559',\n",
       "       'ID00062637202188654068490', 'ID00067637202189903532242',\n",
       "       'ID00068637202190879923934', 'ID00072637202198161894406',\n",
       "       'ID00073637202198167792918', 'ID00075637202198610425520',\n",
       "       'ID00076637202199015035026', 'ID00077637202199102000916',\n",
       "       'ID00078637202199415319443', 'ID00082637202201836229724',\n",
       "       'ID00086637202203494931510', 'ID00089637202204675567570',\n",
       "       'ID00090637202204766623410', 'ID00093637202205278167493',\n",
       "       'ID00094637202205333947361', 'ID00099637202206203080121',\n",
       "       'ID00102637202206574119190', 'ID00104637202208063407045',\n",
       "       'ID00105637202208831864134', 'ID00108637202209619669361',\n",
       "       'ID00109637202210454292264', 'ID00110637202210673668310',\n",
       "       'ID00111637202210956877205', 'ID00115637202211874187958',\n",
       "       'ID00117637202212360228007', 'ID00119637202215426335765',\n",
       "       'ID00122637202216437668965', 'ID00123637202217151272140',\n",
       "       'ID00124637202217596410344', 'ID00125637202218590429387',\n",
       "       'ID00126637202218610655908', 'ID00127637202219096738943',\n",
       "       'ID00128637202219474716089', 'ID00129637202219868188000',\n",
       "       'ID00130637202220059448013', 'ID00131637202220424084844',\n",
       "       'ID00132637202222178761324', 'ID00133637202223847701934',\n",
       "       'ID00134637202223873059688', 'ID00135637202224630271439',\n",
       "       'ID00136637202224951350618', 'ID00138637202231603868088',\n",
       "       'ID00139637202231703564336', 'ID00140637202231728595149',\n",
       "       'ID00149637202232704462834', 'ID00161637202235731948764',\n",
       "       'ID00165637202237320314458', 'ID00167637202237397919352',\n",
       "       'ID00168637202237852027833', 'ID00169637202238024117706',\n",
       "       'ID00170637202238079193844', 'ID00172637202238316925179',\n",
       "       'ID00173637202238329754031', 'ID00180637202240177410333',\n",
       "       'ID00183637202241995351650', 'ID00184637202242062969203',\n",
       "       'ID00186637202242472088675', 'ID00190637202244450116191',\n",
       "       'ID00192637202245493238298', 'ID00196637202246668775836',\n",
       "       'ID00197637202246865691526', 'ID00199637202248141386743',\n",
       "       'ID00202637202249376026949', 'ID00207637202252526380974',\n",
       "       'ID00210637202257228694086', 'ID00213637202257692916109',\n",
       "       'ID00214637202257820847190', 'ID00216637202257988213445',\n",
       "       'ID00218637202258156844710', 'ID00219637202258203123958',\n",
       "       'ID00221637202258717315571', 'ID00222637202259066229764',\n",
       "       'ID00224637202259281193413', 'ID00225637202259339837603',\n",
       "       'ID00228637202259965313869', 'ID00229637202260254240583',\n",
       "       'ID00232637202260377586117', 'ID00233637202260580149633',\n",
       "       'ID00234637202261078001846', 'ID00235637202261451839085',\n",
       "       'ID00240637202264138860065', 'ID00241637202264294508775',\n",
       "       'ID00242637202264759739921', 'ID00248637202266698862378',\n",
       "       'ID00249637202266730854017', 'ID00251637202267455595113',\n",
       "       'ID00255637202267923028520', 'ID00264637202270643353440',\n",
       "       'ID00267637202270790561585', 'ID00273637202271319294586',\n",
       "       'ID00275637202271440119890', 'ID00276637202271694539978',\n",
       "       'ID00279637202272164826258', 'ID00283637202278714365037',\n",
       "       'ID00285637202278913507108', 'ID00288637202279148973731',\n",
       "       'ID00290637202279304677843', 'ID00291637202279398396106',\n",
       "       'ID00294637202279614924243', 'ID00296637202279895784347',\n",
       "       'ID00298637202280361773446', 'ID00299637202280383305867',\n",
       "       'ID00305637202281772703145', 'ID00307637202282126172865',\n",
       "       'ID00309637202282195513787', 'ID00312637202282607344793',\n",
       "       'ID00317637202283194142136', 'ID00319637202283897208687',\n",
       "       'ID00322637202284842245491', 'ID00323637202285211956970',\n",
       "       'ID00329637202285906759848', 'ID00331637202286306023714',\n",
       "       'ID00335637202286784464927', 'ID00336637202286801879145',\n",
       "       'ID00337637202286839091062', 'ID00339637202287377736231',\n",
       "       'ID00340637202287399835821', 'ID00341637202287410878488',\n",
       "       'ID00342637202287526592911', 'ID00343637202287577133798',\n",
       "       'ID00344637202287684217717', 'ID00351637202289476567312',\n",
       "       'ID00355637202295106567614', 'ID00358637202295388077032',\n",
       "       'ID00360637202295712204040', 'ID00364637202296074419422',\n",
       "       'ID00365637202296085035729', 'ID00367637202296290303449',\n",
       "       'ID00368637202296470751086', 'ID00370637202296737666151',\n",
       "       'ID00371637202296828615743', 'ID00376637202297677828573',\n",
       "       'ID00378637202298597306391', 'ID00381637202299644114027',\n",
       "       'ID00383637202300493233675', 'ID00388637202301028491611',\n",
       "       'ID00392637202302319160044', 'ID00393637202302431697467',\n",
       "       'ID00398637202303897337979', 'ID00400637202305055099402',\n",
       "       'ID00401637202305320178010', 'ID00405637202308359492977',\n",
       "       'ID00407637202308788732304', 'ID00408637202308839708961',\n",
       "       'ID00411637202309374271828', 'ID00414637202310318891556',\n",
       "       'ID00417637202310901214011', 'ID00419637202311204720264',\n",
       "       'ID00421637202311550012437', 'ID00422637202311677017371',\n",
       "       'ID00423637202312137826377', 'ID00426637202313170790466'],\n",
       "      dtype=object)"
      ]
     },
     "execution_count": 28,
     "metadata": {},
     "output_type": "execute_result"
    }
   ],
   "source": [
    "# unique patient \n",
    "train_df['Patient'].unique()"
   ]
  },
  {
   "cell_type": "code",
   "execution_count": 35,
   "metadata": {
    "collapsed": true
   },
   "outputs": [
    {
     "data": {
      "text/plain": [
       "ID00119637202215426335765    10\n",
       "ID00400637202305055099402    10\n",
       "ID00421637202311550012437    10\n",
       "ID00099637202206203080121    10\n",
       "ID00105637202208831864134    10\n",
       "                             ..\n",
       "ID00052637202186188008618     7\n",
       "ID00128637202219474716089     7\n",
       "ID00276637202271694539978     7\n",
       "ID00047637202184938901501     6\n",
       "ID00267637202270790561585     6\n",
       "Name: Patient, Length: 176, dtype: int64"
      ]
     },
     "execution_count": 35,
     "metadata": {},
     "output_type": "execute_result"
    }
   ],
   "source": [
    "train_df['Patient'].value_counts()"
   ]
  },
  {
   "cell_type": "code",
   "execution_count": 36,
   "metadata": {
    "collapsed": true
   },
   "outputs": [
    {
     "name": "stdout",
     "output_type": "stream",
     "text": [
      "==========\n"
     ]
    },
    {
     "data": {
      "text/plain": [
       "176"
      ]
     },
     "execution_count": 36,
     "metadata": {},
     "output_type": "execute_result"
    }
   ],
   "source": [
    "train_df['Patient'].value_counts().count()"
   ]
  },
  {
   "cell_type": "code",
   "execution_count": 8,
   "metadata": {
    "scrolled": true
   },
   "outputs": [
    {
     "name": "stdout",
     "output_type": "stream",
     "text": [
      "\u001b[33m33,026 \u001b[0m files/images, \u001b[34m176 \u001b[0m folders/patients\n"
     ]
    }
   ],
   "source": [
    "# count of (image files for each patient , patient folder) \n",
    "files = folders = 0\n",
    "\n",
    "path = \"../input/train/\"\n",
    "\n",
    "for _, dirnames, filenames in os.walk(path):\n",
    "  # ^ this idiom means \"we won't be using this value\"\n",
    "    files += len(filenames)\n",
    "    folders += len(dirnames)\n",
    "#print(Fore.YELLOW +\"Total Patients in Train set: \",Style.RESET_ALL,train_df['Patient'].count())\n",
    "print(Fore.YELLOW +f'{files:,}',Style.RESET_ALL,\"files/images, \" + Fore.BLUE + f'{folders:,}',Style.RESET_ALL ,'folders/patients')"
   ]
  },
  {
   "cell_type": "code",
   "execution_count": 31,
   "metadata": {
    "collapsed": true
   },
   "outputs": [
    {
     "name": "stdout",
     "output_type": "stream",
     "text": [
      "<class 'pandas.core.frame.DataFrame'>\n",
      "RangeIndex: 176 entries, 0 to 175\n",
      "Data columns (total 5 columns):\n",
      " #   Column           Non-Null Count  Dtype \n",
      "---  ------           --------------  ----- \n",
      " 0   Patient          176 non-null    object\n",
      " 1   no_of_instances  176 non-null    int64 \n",
      " 2   Age              176 non-null    int64 \n",
      " 3   Sex              176 non-null    object\n",
      " 4   SmokingStatus    176 non-null    object\n",
      "dtypes: int64(2), object(3)\n",
      "memory usage: 7.0+ KB\n",
      "None\n"
     ]
    },
    {
     "data": {
      "text/html": [
       "<div>\n",
       "<style scoped>\n",
       "    .dataframe tbody tr th:only-of-type {\n",
       "        vertical-align: middle;\n",
       "    }\n",
       "\n",
       "    .dataframe tbody tr th {\n",
       "        vertical-align: top;\n",
       "    }\n",
       "\n",
       "    .dataframe thead th {\n",
       "        text-align: right;\n",
       "    }\n",
       "</style>\n",
       "<table border=\"1\" class=\"dataframe\">\n",
       "  <thead>\n",
       "    <tr style=\"text-align: right;\">\n",
       "      <th></th>\n",
       "      <th>Patient</th>\n",
       "      <th>no_of_instances</th>\n",
       "      <th>Age</th>\n",
       "      <th>Sex</th>\n",
       "      <th>SmokingStatus</th>\n",
       "    </tr>\n",
       "  </thead>\n",
       "  <tbody>\n",
       "    <tr>\n",
       "      <th>0</th>\n",
       "      <td>ID00007637202177411956430</td>\n",
       "      <td>30</td>\n",
       "      <td>79</td>\n",
       "      <td>Male</td>\n",
       "      <td>Ex-smoker</td>\n",
       "    </tr>\n",
       "    <tr>\n",
       "      <th>1</th>\n",
       "      <td>ID00009637202177434476278</td>\n",
       "      <td>394</td>\n",
       "      <td>69</td>\n",
       "      <td>Male</td>\n",
       "      <td>Ex-smoker</td>\n",
       "    </tr>\n",
       "    <tr>\n",
       "      <th>2</th>\n",
       "      <td>ID00010637202177584971671</td>\n",
       "      <td>106</td>\n",
       "      <td>60</td>\n",
       "      <td>Male</td>\n",
       "      <td>Ex-smoker</td>\n",
       "    </tr>\n",
       "    <tr>\n",
       "      <th>3</th>\n",
       "      <td>ID00011637202177653955184</td>\n",
       "      <td>31</td>\n",
       "      <td>72</td>\n",
       "      <td>Male</td>\n",
       "      <td>Ex-smoker</td>\n",
       "    </tr>\n",
       "    <tr>\n",
       "      <th>4</th>\n",
       "      <td>ID00012637202177665765362</td>\n",
       "      <td>49</td>\n",
       "      <td>65</td>\n",
       "      <td>Male</td>\n",
       "      <td>Never smoked</td>\n",
       "    </tr>\n",
       "  </tbody>\n",
       "</table>\n",
       "</div>"
      ],
      "text/plain": [
       "                     Patient  no_of_instances  Age   Sex SmokingStatus\n",
       "0  ID00007637202177411956430               30   79  Male     Ex-smoker\n",
       "1  ID00009637202177434476278              394   69  Male     Ex-smoker\n",
       "2  ID00010637202177584971671              106   60  Male     Ex-smoker\n",
       "3  ID00011637202177653955184               31   72  Male     Ex-smoker\n",
       "4  ID00012637202177665765362               49   65  Male  Never smoked"
      ]
     },
     "execution_count": 31,
     "metadata": {},
     "output_type": "execute_result"
    }
   ],
   "source": [
    "#creating new dataframe \n",
    "# Creating unique patient lists and their properties. \n",
    "train_dir = '../input/train/'\n",
    "test_dir = '../input/test/'\n",
    "\n",
    "patient_ids = os.listdir(train_dir)\n",
    "patient_ids = sorted(patient_ids)\n",
    "\n",
    "#Creating new rows\n",
    "no_of_instances = []\n",
    "age = []\n",
    "sex = []\n",
    "smoking_status = []\n",
    "\n",
    "for patient_id in patient_ids:\n",
    "    patient_info = train_df[train_df['Patient'] == patient_id].reset_index()\n",
    "    no_of_instances.append(len(os.listdir(train_dir + patient_id)))\n",
    "    age.append(patient_info['Age'][0])\n",
    "    sex.append(patient_info['Sex'][0])\n",
    "    smoking_status.append(patient_info['SmokingStatus'][0])\n",
    "\n",
    "#Creating the dataframe for the patient info    \n",
    "patient_df = pd.DataFrame(list(zip(patient_ids, no_of_instances, age, sex, smoking_status)), \n",
    "                                 columns =['Patient', 'no_of_instances', 'Age', 'Sex', 'SmokingStatus'])\n",
    "print(patient_df.info())\n",
    "patient_df.head()"
   ]
  },
  {
   "cell_type": "code",
   "execution_count": 40,
   "metadata": {
    "collapsed": true
   },
   "outputs": [
    {
     "data": {
      "text/plain": [
       "Ex-smoker           118\n",
       "Never smoked         49\n",
       "Currently smokes      9\n",
       "Name: SmokingStatus, dtype: int64"
      ]
     },
     "execution_count": 40,
     "metadata": {},
     "output_type": "execute_result"
    }
   ],
   "source": [
    "# Exploring SmokingStatus column\n",
    "patient_df['SmokingStatus'].value_counts()"
   ]
  },
  {
   "cell_type": "code",
   "execution_count": 56,
   "metadata": {
    "collapsed": true
   },
   "outputs": [
    {
     "data": {
      "text/html": [
       "<div>\n",
       "<style scoped>\n",
       "    .dataframe tbody tr th:only-of-type {\n",
       "        vertical-align: middle;\n",
       "    }\n",
       "\n",
       "    .dataframe tbody tr th {\n",
       "        vertical-align: top;\n",
       "    }\n",
       "\n",
       "    .dataframe thead th {\n",
       "        text-align: right;\n",
       "    }\n",
       "</style>\n",
       "<table border=\"1\" class=\"dataframe\">\n",
       "  <thead>\n",
       "    <tr style=\"text-align: right;\">\n",
       "      <th></th>\n",
       "      <th>A</th>\n",
       "    </tr>\n",
       "  </thead>\n",
       "  <tbody>\n",
       "    <tr>\n",
       "      <th>ex-smoker</th>\n",
       "      <td>67%</td>\n",
       "    </tr>\n",
       "    <tr>\n",
       "      <th>Never smoked</th>\n",
       "      <td>28%</td>\n",
       "    </tr>\n",
       "    <tr>\n",
       "      <th>Currently smokes</th>\n",
       "      <td>5%</td>\n",
       "    </tr>\n",
       "  </tbody>\n",
       "</table>\n",
       "</div>"
      ],
      "text/plain": [
       "                    A\n",
       "ex-smoker         67%\n",
       "Never smoked      28%\n",
       "Currently smokes   5%"
      ]
     },
     "execution_count": 56,
     "metadata": {},
     "output_type": "execute_result"
    }
   ],
   "source": [
    "#\n",
    "sum  = patient_df['SmokingStatus'].value_counts().sum()\n",
    "smokepercent =[ round((x/sum)*100) for x in patient_df['SmokingStatus'].value_counts()]\n",
    "smokepercent_0=[]\n",
    "for perc in smokepercent:\n",
    "    smokepercent_0.append(str(perc)+\"%\")\n",
    "sm_df= pd.DataFrame(data=smokepercent_0, index=[\"ex-smoker\",\"Never smoked\",\"Currently smokes\"], columns=['A'])\n",
    "sm_df"
   ]
  },
  {
   "cell_type": "code",
   "execution_count": 57,
   "metadata": {
    "collapsed": true
   },
   "outputs": [
    {
     "data": {
      "application/vnd.plotly.v1+json": {
       "config": {
        "linkText": "Export to plot.ly",
        "plotlyServerURL": "https://plot.ly",
        "showLink": true
       },
       "data": [
        {
         "marker": {
          "color": "rgba(55, 128, 191, 0.7)",
          "line": {
           "color": "rgba(55, 128, 191, 1.0)",
           "width": 1
          }
         },
         "name": "SmokingStatus",
         "orientation": "v",
         "text": "",
         "type": "bar",
         "x": [
          "Ex-smoker",
          "Never smoked",
          "Currently smokes"
         ],
         "y": [
          118,
          49,
          9
         ]
        }
       ],
       "layout": {
        "bargap": 0.5,
        "legend": {
         "bgcolor": "#F5F6F9",
         "font": {
          "color": "#4D5663"
         }
        },
        "paper_bgcolor": "#F5F6F9",
        "plot_bgcolor": "#F5F6F9",
        "template": {
         "data": {
          "bar": [
           {
            "error_x": {
             "color": "#2a3f5f"
            },
            "error_y": {
             "color": "#2a3f5f"
            },
            "marker": {
             "line": {
              "color": "#E5ECF6",
              "width": 0.5
             }
            },
            "type": "bar"
           }
          ],
          "barpolar": [
           {
            "marker": {
             "line": {
              "color": "#E5ECF6",
              "width": 0.5
             }
            },
            "type": "barpolar"
           }
          ],
          "carpet": [
           {
            "aaxis": {
             "endlinecolor": "#2a3f5f",
             "gridcolor": "white",
             "linecolor": "white",
             "minorgridcolor": "white",
             "startlinecolor": "#2a3f5f"
            },
            "baxis": {
             "endlinecolor": "#2a3f5f",
             "gridcolor": "white",
             "linecolor": "white",
             "minorgridcolor": "white",
             "startlinecolor": "#2a3f5f"
            },
            "type": "carpet"
           }
          ],
          "choropleth": [
           {
            "colorbar": {
             "outlinewidth": 0,
             "ticks": ""
            },
            "type": "choropleth"
           }
          ],
          "contour": [
           {
            "colorbar": {
             "outlinewidth": 0,
             "ticks": ""
            },
            "colorscale": [
             [
              0,
              "#0d0887"
             ],
             [
              0.1111111111111111,
              "#46039f"
             ],
             [
              0.2222222222222222,
              "#7201a8"
             ],
             [
              0.3333333333333333,
              "#9c179e"
             ],
             [
              0.4444444444444444,
              "#bd3786"
             ],
             [
              0.5555555555555556,
              "#d8576b"
             ],
             [
              0.6666666666666666,
              "#ed7953"
             ],
             [
              0.7777777777777778,
              "#fb9f3a"
             ],
             [
              0.8888888888888888,
              "#fdca26"
             ],
             [
              1,
              "#f0f921"
             ]
            ],
            "type": "contour"
           }
          ],
          "contourcarpet": [
           {
            "colorbar": {
             "outlinewidth": 0,
             "ticks": ""
            },
            "type": "contourcarpet"
           }
          ],
          "heatmap": [
           {
            "colorbar": {
             "outlinewidth": 0,
             "ticks": ""
            },
            "colorscale": [
             [
              0,
              "#0d0887"
             ],
             [
              0.1111111111111111,
              "#46039f"
             ],
             [
              0.2222222222222222,
              "#7201a8"
             ],
             [
              0.3333333333333333,
              "#9c179e"
             ],
             [
              0.4444444444444444,
              "#bd3786"
             ],
             [
              0.5555555555555556,
              "#d8576b"
             ],
             [
              0.6666666666666666,
              "#ed7953"
             ],
             [
              0.7777777777777778,
              "#fb9f3a"
             ],
             [
              0.8888888888888888,
              "#fdca26"
             ],
             [
              1,
              "#f0f921"
             ]
            ],
            "type": "heatmap"
           }
          ],
          "heatmapgl": [
           {
            "colorbar": {
             "outlinewidth": 0,
             "ticks": ""
            },
            "colorscale": [
             [
              0,
              "#0d0887"
             ],
             [
              0.1111111111111111,
              "#46039f"
             ],
             [
              0.2222222222222222,
              "#7201a8"
             ],
             [
              0.3333333333333333,
              "#9c179e"
             ],
             [
              0.4444444444444444,
              "#bd3786"
             ],
             [
              0.5555555555555556,
              "#d8576b"
             ],
             [
              0.6666666666666666,
              "#ed7953"
             ],
             [
              0.7777777777777778,
              "#fb9f3a"
             ],
             [
              0.8888888888888888,
              "#fdca26"
             ],
             [
              1,
              "#f0f921"
             ]
            ],
            "type": "heatmapgl"
           }
          ],
          "histogram": [
           {
            "marker": {
             "colorbar": {
              "outlinewidth": 0,
              "ticks": ""
             }
            },
            "type": "histogram"
           }
          ],
          "histogram2d": [
           {
            "colorbar": {
             "outlinewidth": 0,
             "ticks": ""
            },
            "colorscale": [
             [
              0,
              "#0d0887"
             ],
             [
              0.1111111111111111,
              "#46039f"
             ],
             [
              0.2222222222222222,
              "#7201a8"
             ],
             [
              0.3333333333333333,
              "#9c179e"
             ],
             [
              0.4444444444444444,
              "#bd3786"
             ],
             [
              0.5555555555555556,
              "#d8576b"
             ],
             [
              0.6666666666666666,
              "#ed7953"
             ],
             [
              0.7777777777777778,
              "#fb9f3a"
             ],
             [
              0.8888888888888888,
              "#fdca26"
             ],
             [
              1,
              "#f0f921"
             ]
            ],
            "type": "histogram2d"
           }
          ],
          "histogram2dcontour": [
           {
            "colorbar": {
             "outlinewidth": 0,
             "ticks": ""
            },
            "colorscale": [
             [
              0,
              "#0d0887"
             ],
             [
              0.1111111111111111,
              "#46039f"
             ],
             [
              0.2222222222222222,
              "#7201a8"
             ],
             [
              0.3333333333333333,
              "#9c179e"
             ],
             [
              0.4444444444444444,
              "#bd3786"
             ],
             [
              0.5555555555555556,
              "#d8576b"
             ],
             [
              0.6666666666666666,
              "#ed7953"
             ],
             [
              0.7777777777777778,
              "#fb9f3a"
             ],
             [
              0.8888888888888888,
              "#fdca26"
             ],
             [
              1,
              "#f0f921"
             ]
            ],
            "type": "histogram2dcontour"
           }
          ],
          "mesh3d": [
           {
            "colorbar": {
             "outlinewidth": 0,
             "ticks": ""
            },
            "type": "mesh3d"
           }
          ],
          "parcoords": [
           {
            "line": {
             "colorbar": {
              "outlinewidth": 0,
              "ticks": ""
             }
            },
            "type": "parcoords"
           }
          ],
          "pie": [
           {
            "automargin": true,
            "type": "pie"
           }
          ],
          "scatter": [
           {
            "marker": {
             "colorbar": {
              "outlinewidth": 0,
              "ticks": ""
             }
            },
            "type": "scatter"
           }
          ],
          "scatter3d": [
           {
            "line": {
             "colorbar": {
              "outlinewidth": 0,
              "ticks": ""
             }
            },
            "marker": {
             "colorbar": {
              "outlinewidth": 0,
              "ticks": ""
             }
            },
            "type": "scatter3d"
           }
          ],
          "scattercarpet": [
           {
            "marker": {
             "colorbar": {
              "outlinewidth": 0,
              "ticks": ""
             }
            },
            "type": "scattercarpet"
           }
          ],
          "scattergeo": [
           {
            "marker": {
             "colorbar": {
              "outlinewidth": 0,
              "ticks": ""
             }
            },
            "type": "scattergeo"
           }
          ],
          "scattergl": [
           {
            "marker": {
             "colorbar": {
              "outlinewidth": 0,
              "ticks": ""
             }
            },
            "type": "scattergl"
           }
          ],
          "scattermapbox": [
           {
            "marker": {
             "colorbar": {
              "outlinewidth": 0,
              "ticks": ""
             }
            },
            "type": "scattermapbox"
           }
          ],
          "scatterpolar": [
           {
            "marker": {
             "colorbar": {
              "outlinewidth": 0,
              "ticks": ""
             }
            },
            "type": "scatterpolar"
           }
          ],
          "scatterpolargl": [
           {
            "marker": {
             "colorbar": {
              "outlinewidth": 0,
              "ticks": ""
             }
            },
            "type": "scatterpolargl"
           }
          ],
          "scatterternary": [
           {
            "marker": {
             "colorbar": {
              "outlinewidth": 0,
              "ticks": ""
             }
            },
            "type": "scatterternary"
           }
          ],
          "surface": [
           {
            "colorbar": {
             "outlinewidth": 0,
             "ticks": ""
            },
            "colorscale": [
             [
              0,
              "#0d0887"
             ],
             [
              0.1111111111111111,
              "#46039f"
             ],
             [
              0.2222222222222222,
              "#7201a8"
             ],
             [
              0.3333333333333333,
              "#9c179e"
             ],
             [
              0.4444444444444444,
              "#bd3786"
             ],
             [
              0.5555555555555556,
              "#d8576b"
             ],
             [
              0.6666666666666666,
              "#ed7953"
             ],
             [
              0.7777777777777778,
              "#fb9f3a"
             ],
             [
              0.8888888888888888,
              "#fdca26"
             ],
             [
              1,
              "#f0f921"
             ]
            ],
            "type": "surface"
           }
          ],
          "table": [
           {
            "cells": {
             "fill": {
              "color": "#EBF0F8"
             },
             "line": {
              "color": "white"
             }
            },
            "header": {
             "fill": {
              "color": "#C8D4E3"
             },
             "line": {
              "color": "white"
             }
            },
            "type": "table"
           }
          ]
         },
         "layout": {
          "annotationdefaults": {
           "arrowcolor": "#2a3f5f",
           "arrowhead": 0,
           "arrowwidth": 1
          },
          "coloraxis": {
           "colorbar": {
            "outlinewidth": 0,
            "ticks": ""
           }
          },
          "colorscale": {
           "diverging": [
            [
             0,
             "#8e0152"
            ],
            [
             0.1,
             "#c51b7d"
            ],
            [
             0.2,
             "#de77ae"
            ],
            [
             0.3,
             "#f1b6da"
            ],
            [
             0.4,
             "#fde0ef"
            ],
            [
             0.5,
             "#f7f7f7"
            ],
            [
             0.6,
             "#e6f5d0"
            ],
            [
             0.7,
             "#b8e186"
            ],
            [
             0.8,
             "#7fbc41"
            ],
            [
             0.9,
             "#4d9221"
            ],
            [
             1,
             "#276419"
            ]
           ],
           "sequential": [
            [
             0,
             "#0d0887"
            ],
            [
             0.1111111111111111,
             "#46039f"
            ],
            [
             0.2222222222222222,
             "#7201a8"
            ],
            [
             0.3333333333333333,
             "#9c179e"
            ],
            [
             0.4444444444444444,
             "#bd3786"
            ],
            [
             0.5555555555555556,
             "#d8576b"
            ],
            [
             0.6666666666666666,
             "#ed7953"
            ],
            [
             0.7777777777777778,
             "#fb9f3a"
            ],
            [
             0.8888888888888888,
             "#fdca26"
            ],
            [
             1,
             "#f0f921"
            ]
           ],
           "sequentialminus": [
            [
             0,
             "#0d0887"
            ],
            [
             0.1111111111111111,
             "#46039f"
            ],
            [
             0.2222222222222222,
             "#7201a8"
            ],
            [
             0.3333333333333333,
             "#9c179e"
            ],
            [
             0.4444444444444444,
             "#bd3786"
            ],
            [
             0.5555555555555556,
             "#d8576b"
            ],
            [
             0.6666666666666666,
             "#ed7953"
            ],
            [
             0.7777777777777778,
             "#fb9f3a"
            ],
            [
             0.8888888888888888,
             "#fdca26"
            ],
            [
             1,
             "#f0f921"
            ]
           ]
          },
          "colorway": [
           "#636efa",
           "#EF553B",
           "#00cc96",
           "#ab63fa",
           "#FFA15A",
           "#19d3f3",
           "#FF6692",
           "#B6E880",
           "#FF97FF",
           "#FECB52"
          ],
          "font": {
           "color": "#2a3f5f"
          },
          "geo": {
           "bgcolor": "white",
           "lakecolor": "white",
           "landcolor": "#E5ECF6",
           "showlakes": true,
           "showland": true,
           "subunitcolor": "white"
          },
          "hoverlabel": {
           "align": "left"
          },
          "hovermode": "closest",
          "mapbox": {
           "style": "light"
          },
          "paper_bgcolor": "white",
          "plot_bgcolor": "#E5ECF6",
          "polar": {
           "angularaxis": {
            "gridcolor": "white",
            "linecolor": "white",
            "ticks": ""
           },
           "bgcolor": "#E5ECF6",
           "radialaxis": {
            "gridcolor": "white",
            "linecolor": "white",
            "ticks": ""
           }
          },
          "scene": {
           "xaxis": {
            "backgroundcolor": "#E5ECF6",
            "gridcolor": "white",
            "gridwidth": 2,
            "linecolor": "white",
            "showbackground": true,
            "ticks": "",
            "zerolinecolor": "white"
           },
           "yaxis": {
            "backgroundcolor": "#E5ECF6",
            "gridcolor": "white",
            "gridwidth": 2,
            "linecolor": "white",
            "showbackground": true,
            "ticks": "",
            "zerolinecolor": "white"
           },
           "zaxis": {
            "backgroundcolor": "#E5ECF6",
            "gridcolor": "white",
            "gridwidth": 2,
            "linecolor": "white",
            "showbackground": true,
            "ticks": "",
            "zerolinecolor": "white"
           }
          },
          "shapedefaults": {
           "line": {
            "color": "#2a3f5f"
           }
          },
          "ternary": {
           "aaxis": {
            "gridcolor": "white",
            "linecolor": "white",
            "ticks": ""
           },
           "baxis": {
            "gridcolor": "white",
            "linecolor": "white",
            "ticks": ""
           },
           "bgcolor": "#E5ECF6",
           "caxis": {
            "gridcolor": "white",
            "linecolor": "white",
            "ticks": ""
           }
          },
          "title": {
           "x": 0.05
          },
          "xaxis": {
           "automargin": true,
           "gridcolor": "white",
           "linecolor": "white",
           "ticks": "",
           "title": {
            "standoff": 15
           },
           "zerolinecolor": "white",
           "zerolinewidth": 2
          },
          "yaxis": {
           "automargin": true,
           "gridcolor": "white",
           "linecolor": "white",
           "ticks": "",
           "title": {
            "standoff": 15
           },
           "zerolinecolor": "white",
           "zerolinewidth": 2
          }
         }
        },
        "title": {
         "font": {
          "color": "#4D5663"
         },
         "text": "Distribution of the SmokingStatus column in the Unique Patient Set"
        },
        "xaxis": {
         "gridcolor": "white",
         "linecolor": "black",
         "showgrid": true,
         "tickfont": {
          "color": "#4D5663"
         },
         "title": {
          "font": {
           "color": "#4D5663"
          },
          "text": ""
         },
         "zerolinecolor": "#E1E5ED"
        },
        "yaxis": {
         "gridcolor": "white",
         "linecolor": "black",
         "showgrid": true,
         "tickfont": {
          "color": "#4D5663"
         },
         "title": {
          "font": {
           "color": "#4D5663"
          },
          "text": "Counts"
         },
         "zerolinecolor": "#E1E5ED"
        }
       }
      },
      "text/html": [
       "<div>\n",
       "        \n",
       "        \n",
       "            <div id=\"c8091969-fe72-436a-a8ec-5ceccc277b7d\" class=\"plotly-graph-div\" style=\"height:525px; width:100%;\"></div>\n",
       "            <script type=\"text/javascript\">\n",
       "                require([\"plotly\"], function(Plotly) {\n",
       "                    window.PLOTLYENV=window.PLOTLYENV || {};\n",
       "                    window.PLOTLYENV.BASE_URL='https://plot.ly';\n",
       "                    \n",
       "                if (document.getElementById(\"c8091969-fe72-436a-a8ec-5ceccc277b7d\")) {\n",
       "                    Plotly.newPlot(\n",
       "                        'c8091969-fe72-436a-a8ec-5ceccc277b7d',\n",
       "                        [{\"marker\": {\"color\": \"rgba(55, 128, 191, 0.7)\", \"line\": {\"color\": \"rgba(55, 128, 191, 1.0)\", \"width\": 1}}, \"name\": \"SmokingStatus\", \"orientation\": \"v\", \"text\": \"\", \"type\": \"bar\", \"x\": [\"Ex-smoker\", \"Never smoked\", \"Currently smokes\"], \"y\": [118, 49, 9]}],\n",
       "                        {\"bargap\": 0.5, \"legend\": {\"bgcolor\": \"#F5F6F9\", \"font\": {\"color\": \"#4D5663\"}}, \"paper_bgcolor\": \"#F5F6F9\", \"plot_bgcolor\": \"#F5F6F9\", \"template\": {\"data\": {\"bar\": [{\"error_x\": {\"color\": \"#2a3f5f\"}, \"error_y\": {\"color\": \"#2a3f5f\"}, \"marker\": {\"line\": {\"color\": \"#E5ECF6\", \"width\": 0.5}}, \"type\": \"bar\"}], \"barpolar\": [{\"marker\": {\"line\": {\"color\": \"#E5ECF6\", \"width\": 0.5}}, \"type\": \"barpolar\"}], \"carpet\": [{\"aaxis\": {\"endlinecolor\": \"#2a3f5f\", \"gridcolor\": \"white\", \"linecolor\": \"white\", \"minorgridcolor\": \"white\", \"startlinecolor\": \"#2a3f5f\"}, \"baxis\": {\"endlinecolor\": \"#2a3f5f\", \"gridcolor\": \"white\", \"linecolor\": \"white\", \"minorgridcolor\": \"white\", \"startlinecolor\": \"#2a3f5f\"}, \"type\": \"carpet\"}], \"choropleth\": [{\"colorbar\": {\"outlinewidth\": 0, \"ticks\": \"\"}, \"type\": \"choropleth\"}], \"contour\": [{\"colorbar\": {\"outlinewidth\": 0, \"ticks\": \"\"}, \"colorscale\": [[0.0, \"#0d0887\"], [0.1111111111111111, \"#46039f\"], [0.2222222222222222, \"#7201a8\"], [0.3333333333333333, \"#9c179e\"], [0.4444444444444444, \"#bd3786\"], [0.5555555555555556, \"#d8576b\"], [0.6666666666666666, \"#ed7953\"], [0.7777777777777778, \"#fb9f3a\"], [0.8888888888888888, \"#fdca26\"], [1.0, \"#f0f921\"]], \"type\": \"contour\"}], \"contourcarpet\": [{\"colorbar\": {\"outlinewidth\": 0, \"ticks\": \"\"}, \"type\": \"contourcarpet\"}], \"heatmap\": [{\"colorbar\": {\"outlinewidth\": 0, \"ticks\": \"\"}, \"colorscale\": [[0.0, \"#0d0887\"], [0.1111111111111111, \"#46039f\"], [0.2222222222222222, \"#7201a8\"], [0.3333333333333333, \"#9c179e\"], [0.4444444444444444, \"#bd3786\"], [0.5555555555555556, \"#d8576b\"], [0.6666666666666666, \"#ed7953\"], [0.7777777777777778, \"#fb9f3a\"], [0.8888888888888888, \"#fdca26\"], [1.0, \"#f0f921\"]], \"type\": \"heatmap\"}], \"heatmapgl\": [{\"colorbar\": {\"outlinewidth\": 0, \"ticks\": \"\"}, \"colorscale\": [[0.0, \"#0d0887\"], [0.1111111111111111, \"#46039f\"], [0.2222222222222222, \"#7201a8\"], [0.3333333333333333, \"#9c179e\"], [0.4444444444444444, \"#bd3786\"], [0.5555555555555556, \"#d8576b\"], [0.6666666666666666, \"#ed7953\"], [0.7777777777777778, \"#fb9f3a\"], [0.8888888888888888, \"#fdca26\"], [1.0, \"#f0f921\"]], \"type\": \"heatmapgl\"}], \"histogram\": [{\"marker\": {\"colorbar\": {\"outlinewidth\": 0, \"ticks\": \"\"}}, \"type\": \"histogram\"}], \"histogram2d\": [{\"colorbar\": {\"outlinewidth\": 0, \"ticks\": \"\"}, \"colorscale\": [[0.0, \"#0d0887\"], [0.1111111111111111, \"#46039f\"], [0.2222222222222222, \"#7201a8\"], [0.3333333333333333, \"#9c179e\"], [0.4444444444444444, \"#bd3786\"], [0.5555555555555556, \"#d8576b\"], [0.6666666666666666, \"#ed7953\"], [0.7777777777777778, \"#fb9f3a\"], [0.8888888888888888, \"#fdca26\"], [1.0, \"#f0f921\"]], \"type\": \"histogram2d\"}], \"histogram2dcontour\": [{\"colorbar\": {\"outlinewidth\": 0, \"ticks\": \"\"}, \"colorscale\": [[0.0, \"#0d0887\"], [0.1111111111111111, \"#46039f\"], [0.2222222222222222, \"#7201a8\"], [0.3333333333333333, \"#9c179e\"], [0.4444444444444444, \"#bd3786\"], [0.5555555555555556, \"#d8576b\"], [0.6666666666666666, \"#ed7953\"], [0.7777777777777778, \"#fb9f3a\"], [0.8888888888888888, \"#fdca26\"], [1.0, \"#f0f921\"]], \"type\": \"histogram2dcontour\"}], \"mesh3d\": [{\"colorbar\": {\"outlinewidth\": 0, \"ticks\": \"\"}, \"type\": \"mesh3d\"}], \"parcoords\": [{\"line\": {\"colorbar\": {\"outlinewidth\": 0, \"ticks\": \"\"}}, \"type\": \"parcoords\"}], \"pie\": [{\"automargin\": true, \"type\": \"pie\"}], \"scatter\": [{\"marker\": {\"colorbar\": {\"outlinewidth\": 0, \"ticks\": \"\"}}, \"type\": \"scatter\"}], \"scatter3d\": [{\"line\": {\"colorbar\": {\"outlinewidth\": 0, \"ticks\": \"\"}}, \"marker\": {\"colorbar\": {\"outlinewidth\": 0, \"ticks\": \"\"}}, \"type\": \"scatter3d\"}], \"scattercarpet\": [{\"marker\": {\"colorbar\": {\"outlinewidth\": 0, \"ticks\": \"\"}}, \"type\": \"scattercarpet\"}], \"scattergeo\": [{\"marker\": {\"colorbar\": {\"outlinewidth\": 0, \"ticks\": \"\"}}, \"type\": \"scattergeo\"}], \"scattergl\": [{\"marker\": {\"colorbar\": {\"outlinewidth\": 0, \"ticks\": \"\"}}, \"type\": \"scattergl\"}], \"scattermapbox\": [{\"marker\": {\"colorbar\": {\"outlinewidth\": 0, \"ticks\": \"\"}}, \"type\": \"scattermapbox\"}], \"scatterpolar\": [{\"marker\": {\"colorbar\": {\"outlinewidth\": 0, \"ticks\": \"\"}}, \"type\": \"scatterpolar\"}], \"scatterpolargl\": [{\"marker\": {\"colorbar\": {\"outlinewidth\": 0, \"ticks\": \"\"}}, \"type\": \"scatterpolargl\"}], \"scatterternary\": [{\"marker\": {\"colorbar\": {\"outlinewidth\": 0, \"ticks\": \"\"}}, \"type\": \"scatterternary\"}], \"surface\": [{\"colorbar\": {\"outlinewidth\": 0, \"ticks\": \"\"}, \"colorscale\": [[0.0, \"#0d0887\"], [0.1111111111111111, \"#46039f\"], [0.2222222222222222, \"#7201a8\"], [0.3333333333333333, \"#9c179e\"], [0.4444444444444444, \"#bd3786\"], [0.5555555555555556, \"#d8576b\"], [0.6666666666666666, \"#ed7953\"], [0.7777777777777778, \"#fb9f3a\"], [0.8888888888888888, \"#fdca26\"], [1.0, \"#f0f921\"]], \"type\": \"surface\"}], \"table\": [{\"cells\": {\"fill\": {\"color\": \"#EBF0F8\"}, \"line\": {\"color\": \"white\"}}, \"header\": {\"fill\": {\"color\": \"#C8D4E3\"}, \"line\": {\"color\": \"white\"}}, \"type\": \"table\"}]}, \"layout\": {\"annotationdefaults\": {\"arrowcolor\": \"#2a3f5f\", \"arrowhead\": 0, \"arrowwidth\": 1}, \"coloraxis\": {\"colorbar\": {\"outlinewidth\": 0, \"ticks\": \"\"}}, \"colorscale\": {\"diverging\": [[0, \"#8e0152\"], [0.1, \"#c51b7d\"], [0.2, \"#de77ae\"], [0.3, \"#f1b6da\"], [0.4, \"#fde0ef\"], [0.5, \"#f7f7f7\"], [0.6, \"#e6f5d0\"], [0.7, \"#b8e186\"], [0.8, \"#7fbc41\"], [0.9, \"#4d9221\"], [1, \"#276419\"]], \"sequential\": [[0.0, \"#0d0887\"], [0.1111111111111111, \"#46039f\"], [0.2222222222222222, \"#7201a8\"], [0.3333333333333333, \"#9c179e\"], [0.4444444444444444, \"#bd3786\"], [0.5555555555555556, \"#d8576b\"], [0.6666666666666666, \"#ed7953\"], [0.7777777777777778, \"#fb9f3a\"], [0.8888888888888888, \"#fdca26\"], [1.0, \"#f0f921\"]], \"sequentialminus\": [[0.0, \"#0d0887\"], [0.1111111111111111, \"#46039f\"], [0.2222222222222222, \"#7201a8\"], [0.3333333333333333, \"#9c179e\"], [0.4444444444444444, \"#bd3786\"], [0.5555555555555556, \"#d8576b\"], [0.6666666666666666, \"#ed7953\"], [0.7777777777777778, \"#fb9f3a\"], [0.8888888888888888, \"#fdca26\"], [1.0, \"#f0f921\"]]}, \"colorway\": [\"#636efa\", \"#EF553B\", \"#00cc96\", \"#ab63fa\", \"#FFA15A\", \"#19d3f3\", \"#FF6692\", \"#B6E880\", \"#FF97FF\", \"#FECB52\"], \"font\": {\"color\": \"#2a3f5f\"}, \"geo\": {\"bgcolor\": \"white\", \"lakecolor\": \"white\", \"landcolor\": \"#E5ECF6\", \"showlakes\": true, \"showland\": true, \"subunitcolor\": \"white\"}, \"hoverlabel\": {\"align\": \"left\"}, \"hovermode\": \"closest\", \"mapbox\": {\"style\": \"light\"}, \"paper_bgcolor\": \"white\", \"plot_bgcolor\": \"#E5ECF6\", \"polar\": {\"angularaxis\": {\"gridcolor\": \"white\", \"linecolor\": \"white\", \"ticks\": \"\"}, \"bgcolor\": \"#E5ECF6\", \"radialaxis\": {\"gridcolor\": \"white\", \"linecolor\": \"white\", \"ticks\": \"\"}}, \"scene\": {\"xaxis\": {\"backgroundcolor\": \"#E5ECF6\", \"gridcolor\": \"white\", \"gridwidth\": 2, \"linecolor\": \"white\", \"showbackground\": true, \"ticks\": \"\", \"zerolinecolor\": \"white\"}, \"yaxis\": {\"backgroundcolor\": \"#E5ECF6\", \"gridcolor\": \"white\", \"gridwidth\": 2, \"linecolor\": \"white\", \"showbackground\": true, \"ticks\": \"\", \"zerolinecolor\": \"white\"}, \"zaxis\": {\"backgroundcolor\": \"#E5ECF6\", \"gridcolor\": \"white\", \"gridwidth\": 2, \"linecolor\": \"white\", \"showbackground\": true, \"ticks\": \"\", \"zerolinecolor\": \"white\"}}, \"shapedefaults\": {\"line\": {\"color\": \"#2a3f5f\"}}, \"ternary\": {\"aaxis\": {\"gridcolor\": \"white\", \"linecolor\": \"white\", \"ticks\": \"\"}, \"baxis\": {\"gridcolor\": \"white\", \"linecolor\": \"white\", \"ticks\": \"\"}, \"bgcolor\": \"#E5ECF6\", \"caxis\": {\"gridcolor\": \"white\", \"linecolor\": \"white\", \"ticks\": \"\"}}, \"title\": {\"x\": 0.05}, \"xaxis\": {\"automargin\": true, \"gridcolor\": \"white\", \"linecolor\": \"white\", \"ticks\": \"\", \"title\": {\"standoff\": 15}, \"zerolinecolor\": \"white\", \"zerolinewidth\": 2}, \"yaxis\": {\"automargin\": true, \"gridcolor\": \"white\", \"linecolor\": \"white\", \"ticks\": \"\", \"title\": {\"standoff\": 15}, \"zerolinecolor\": \"white\", \"zerolinewidth\": 2}}}, \"title\": {\"font\": {\"color\": \"#4D5663\"}, \"text\": \"Distribution of the SmokingStatus column in the Unique Patient Set\"}, \"xaxis\": {\"gridcolor\": \"white\", \"linecolor\": \"black\", \"showgrid\": true, \"tickfont\": {\"color\": \"#4D5663\"}, \"title\": {\"font\": {\"color\": \"#4D5663\"}, \"text\": \"\"}, \"zerolinecolor\": \"#E1E5ED\"}, \"yaxis\": {\"gridcolor\": \"white\", \"linecolor\": \"black\", \"showgrid\": true, \"tickfont\": {\"color\": \"#4D5663\"}, \"title\": {\"font\": {\"color\": \"#4D5663\"}, \"text\": \"Counts\"}, \"zerolinecolor\": \"#E1E5ED\"}},\n",
       "                        {\"showLink\": true, \"linkText\": \"Export to plot.ly\", \"plotlyServerURL\": \"https://plot.ly\", \"responsive\": true}\n",
       "                    ).then(function(){\n",
       "                            \n",
       "var gd = document.getElementById('c8091969-fe72-436a-a8ec-5ceccc277b7d');\n",
       "var x = new MutationObserver(function (mutations, observer) {{\n",
       "        var display = window.getComputedStyle(gd).display;\n",
       "        if (!display || display === 'none') {{\n",
       "            console.log([gd, 'removed!']);\n",
       "            Plotly.purge(gd);\n",
       "            observer.disconnect();\n",
       "        }}\n",
       "}});\n",
       "\n",
       "// Listen for the removal of the full notebook cells\n",
       "var notebookContainer = gd.closest('#notebook-container');\n",
       "if (notebookContainer) {{\n",
       "    x.observe(notebookContainer, {childList: true});\n",
       "}}\n",
       "\n",
       "// Listen for the clearing of the current output cell\n",
       "var outputEl = gd.closest('.output');\n",
       "if (outputEl) {{\n",
       "    x.observe(outputEl, {childList: true});\n",
       "}}\n",
       "\n",
       "                        })\n",
       "                };\n",
       "                });\n",
       "            </script>\n",
       "        </div>"
      ]
     },
     "metadata": {},
     "output_type": "display_data"
    }
   ],
   "source": [
    "# show \n",
    "patient_df['SmokingStatus'].value_counts().iplot(kind='bar',\n",
    "                                              yTitle='Counts', \n",
    "                                              linecolor='black', \n",
    "                                              opacity=0.7,\n",
    "                                              color='blue',\n",
    "                                              theme='pearl',\n",
    "                                              bargap=0.5,\n",
    "                                              gridcolor='white',\n",
    "                                              title='Distribution of the SmokingStatus column in the Unique Patient Set')"
   ]
  },
  {
   "cell_type": "code",
   "execution_count": 58,
   "metadata": {
    "scrolled": true
   },
   "outputs": [
    {
     "data": {
      "text/plain": [
       " 8     45\n",
       " 12    44\n",
       " 18    42\n",
       " 10    41\n",
       " 6     40\n",
       "       ..\n",
       " 95     1\n",
       " 93     1\n",
       " 91     1\n",
       " 88     1\n",
       "-2      1\n",
       "Name: Weeks, Length: 112, dtype: int64"
      ]
     },
     "execution_count": 58,
     "metadata": {},
     "output_type": "execute_result"
    }
   ],
   "source": [
    "#Weeks column\n",
    "train_df['Weeks'].value_counts()"
   ]
  },
  {
   "cell_type": "code",
   "execution_count": 59,
   "metadata": {
    "collapsed": true
   },
   "outputs": [
    {
     "data": {
      "application/vnd.plotly.v1+json": {
       "config": {
        "linkText": "Export to plot.ly",
        "plotlyServerURL": "https://plot.ly",
        "showLink": true
       },
       "data": [
        {
         "marker": {
          "color": "rgba(251, 128, 114, 0.7)",
          "line": {
           "color": "rgba(251, 128, 114, 1.0)",
           "width": 1
          }
         },
         "name": "Weeks",
         "orientation": "h",
         "text": "",
         "type": "bar",
         "x": [
          45,
          44,
          42,
          41,
          40,
          38,
          37,
          34,
          33,
          33,
          31,
          31,
          30,
          29,
          29,
          27,
          24,
          24,
          24,
          23,
          23,
          23,
          22,
          22,
          22,
          22,
          22,
          22,
          21,
          21,
          21,
          20,
          20,
          20,
          20,
          20,
          19,
          18,
          18,
          18,
          17,
          17,
          16,
          16,
          16,
          15,
          15,
          15,
          14,
          14,
          14,
          13,
          13,
          13,
          13,
          13,
          12,
          12,
          12,
          11,
          10,
          10,
          9,
          9,
          8,
          8,
          7,
          7,
          6,
          6,
          6,
          6,
          6,
          5,
          5,
          5,
          5,
          4,
          4,
          4,
          4,
          4,
          4,
          4,
          4,
          3,
          3,
          3,
          3,
          3,
          3,
          3,
          2,
          2,
          2,
          2,
          1,
          1,
          1,
          1,
          1,
          1,
          1,
          1,
          1,
          1,
          1,
          1,
          1,
          1,
          1,
          1
         ],
         "y": [
          8,
          12,
          18,
          10,
          6,
          9,
          11,
          7,
          14,
          13,
          15,
          17,
          16,
          5,
          30,
          42,
          23,
          44,
          29,
          3,
          4,
          20,
          41,
          27,
          31,
          28,
          21,
          19,
          58,
          33,
          39,
          48,
          47,
          54,
          34,
          37,
          40,
          59,
          0,
          26,
          36,
          24,
          32,
          49,
          57,
          35,
          56,
          22,
          43,
          25,
          60,
          38,
          46,
          51,
          53,
          55,
          63,
          50,
          45,
          70,
          62,
          52,
          61,
          65,
          2,
          66,
          79,
          67,
          82,
          71,
          64,
          73,
          69,
          76,
          85,
          1,
          83,
          100,
          87,
          102,
          84,
          -1,
          72,
          75,
          68,
          -4,
          98,
          92,
          74,
          77,
          86,
          78,
          89,
          94,
          -3,
          81,
          107,
          -5,
          133,
          117,
          116,
          99,
          104,
          101,
          80,
          97,
          96,
          95,
          93,
          91,
          88,
          -2
         ]
        }
       ],
       "layout": {
        "bargap": 0.2,
        "legend": {
         "bgcolor": "#F5F6F9",
         "font": {
          "color": "#4D5663"
         }
        },
        "paper_bgcolor": "#F5F6F9",
        "plot_bgcolor": "#F5F6F9",
        "template": {
         "data": {
          "bar": [
           {
            "error_x": {
             "color": "#2a3f5f"
            },
            "error_y": {
             "color": "#2a3f5f"
            },
            "marker": {
             "line": {
              "color": "#E5ECF6",
              "width": 0.5
             }
            },
            "type": "bar"
           }
          ],
          "barpolar": [
           {
            "marker": {
             "line": {
              "color": "#E5ECF6",
              "width": 0.5
             }
            },
            "type": "barpolar"
           }
          ],
          "carpet": [
           {
            "aaxis": {
             "endlinecolor": "#2a3f5f",
             "gridcolor": "white",
             "linecolor": "white",
             "minorgridcolor": "white",
             "startlinecolor": "#2a3f5f"
            },
            "baxis": {
             "endlinecolor": "#2a3f5f",
             "gridcolor": "white",
             "linecolor": "white",
             "minorgridcolor": "white",
             "startlinecolor": "#2a3f5f"
            },
            "type": "carpet"
           }
          ],
          "choropleth": [
           {
            "colorbar": {
             "outlinewidth": 0,
             "ticks": ""
            },
            "type": "choropleth"
           }
          ],
          "contour": [
           {
            "colorbar": {
             "outlinewidth": 0,
             "ticks": ""
            },
            "colorscale": [
             [
              0,
              "#0d0887"
             ],
             [
              0.1111111111111111,
              "#46039f"
             ],
             [
              0.2222222222222222,
              "#7201a8"
             ],
             [
              0.3333333333333333,
              "#9c179e"
             ],
             [
              0.4444444444444444,
              "#bd3786"
             ],
             [
              0.5555555555555556,
              "#d8576b"
             ],
             [
              0.6666666666666666,
              "#ed7953"
             ],
             [
              0.7777777777777778,
              "#fb9f3a"
             ],
             [
              0.8888888888888888,
              "#fdca26"
             ],
             [
              1,
              "#f0f921"
             ]
            ],
            "type": "contour"
           }
          ],
          "contourcarpet": [
           {
            "colorbar": {
             "outlinewidth": 0,
             "ticks": ""
            },
            "type": "contourcarpet"
           }
          ],
          "heatmap": [
           {
            "colorbar": {
             "outlinewidth": 0,
             "ticks": ""
            },
            "colorscale": [
             [
              0,
              "#0d0887"
             ],
             [
              0.1111111111111111,
              "#46039f"
             ],
             [
              0.2222222222222222,
              "#7201a8"
             ],
             [
              0.3333333333333333,
              "#9c179e"
             ],
             [
              0.4444444444444444,
              "#bd3786"
             ],
             [
              0.5555555555555556,
              "#d8576b"
             ],
             [
              0.6666666666666666,
              "#ed7953"
             ],
             [
              0.7777777777777778,
              "#fb9f3a"
             ],
             [
              0.8888888888888888,
              "#fdca26"
             ],
             [
              1,
              "#f0f921"
             ]
            ],
            "type": "heatmap"
           }
          ],
          "heatmapgl": [
           {
            "colorbar": {
             "outlinewidth": 0,
             "ticks": ""
            },
            "colorscale": [
             [
              0,
              "#0d0887"
             ],
             [
              0.1111111111111111,
              "#46039f"
             ],
             [
              0.2222222222222222,
              "#7201a8"
             ],
             [
              0.3333333333333333,
              "#9c179e"
             ],
             [
              0.4444444444444444,
              "#bd3786"
             ],
             [
              0.5555555555555556,
              "#d8576b"
             ],
             [
              0.6666666666666666,
              "#ed7953"
             ],
             [
              0.7777777777777778,
              "#fb9f3a"
             ],
             [
              0.8888888888888888,
              "#fdca26"
             ],
             [
              1,
              "#f0f921"
             ]
            ],
            "type": "heatmapgl"
           }
          ],
          "histogram": [
           {
            "marker": {
             "colorbar": {
              "outlinewidth": 0,
              "ticks": ""
             }
            },
            "type": "histogram"
           }
          ],
          "histogram2d": [
           {
            "colorbar": {
             "outlinewidth": 0,
             "ticks": ""
            },
            "colorscale": [
             [
              0,
              "#0d0887"
             ],
             [
              0.1111111111111111,
              "#46039f"
             ],
             [
              0.2222222222222222,
              "#7201a8"
             ],
             [
              0.3333333333333333,
              "#9c179e"
             ],
             [
              0.4444444444444444,
              "#bd3786"
             ],
             [
              0.5555555555555556,
              "#d8576b"
             ],
             [
              0.6666666666666666,
              "#ed7953"
             ],
             [
              0.7777777777777778,
              "#fb9f3a"
             ],
             [
              0.8888888888888888,
              "#fdca26"
             ],
             [
              1,
              "#f0f921"
             ]
            ],
            "type": "histogram2d"
           }
          ],
          "histogram2dcontour": [
           {
            "colorbar": {
             "outlinewidth": 0,
             "ticks": ""
            },
            "colorscale": [
             [
              0,
              "#0d0887"
             ],
             [
              0.1111111111111111,
              "#46039f"
             ],
             [
              0.2222222222222222,
              "#7201a8"
             ],
             [
              0.3333333333333333,
              "#9c179e"
             ],
             [
              0.4444444444444444,
              "#bd3786"
             ],
             [
              0.5555555555555556,
              "#d8576b"
             ],
             [
              0.6666666666666666,
              "#ed7953"
             ],
             [
              0.7777777777777778,
              "#fb9f3a"
             ],
             [
              0.8888888888888888,
              "#fdca26"
             ],
             [
              1,
              "#f0f921"
             ]
            ],
            "type": "histogram2dcontour"
           }
          ],
          "mesh3d": [
           {
            "colorbar": {
             "outlinewidth": 0,
             "ticks": ""
            },
            "type": "mesh3d"
           }
          ],
          "parcoords": [
           {
            "line": {
             "colorbar": {
              "outlinewidth": 0,
              "ticks": ""
             }
            },
            "type": "parcoords"
           }
          ],
          "pie": [
           {
            "automargin": true,
            "type": "pie"
           }
          ],
          "scatter": [
           {
            "marker": {
             "colorbar": {
              "outlinewidth": 0,
              "ticks": ""
             }
            },
            "type": "scatter"
           }
          ],
          "scatter3d": [
           {
            "line": {
             "colorbar": {
              "outlinewidth": 0,
              "ticks": ""
             }
            },
            "marker": {
             "colorbar": {
              "outlinewidth": 0,
              "ticks": ""
             }
            },
            "type": "scatter3d"
           }
          ],
          "scattercarpet": [
           {
            "marker": {
             "colorbar": {
              "outlinewidth": 0,
              "ticks": ""
             }
            },
            "type": "scattercarpet"
           }
          ],
          "scattergeo": [
           {
            "marker": {
             "colorbar": {
              "outlinewidth": 0,
              "ticks": ""
             }
            },
            "type": "scattergeo"
           }
          ],
          "scattergl": [
           {
            "marker": {
             "colorbar": {
              "outlinewidth": 0,
              "ticks": ""
             }
            },
            "type": "scattergl"
           }
          ],
          "scattermapbox": [
           {
            "marker": {
             "colorbar": {
              "outlinewidth": 0,
              "ticks": ""
             }
            },
            "type": "scattermapbox"
           }
          ],
          "scatterpolar": [
           {
            "marker": {
             "colorbar": {
              "outlinewidth": 0,
              "ticks": ""
             }
            },
            "type": "scatterpolar"
           }
          ],
          "scatterpolargl": [
           {
            "marker": {
             "colorbar": {
              "outlinewidth": 0,
              "ticks": ""
             }
            },
            "type": "scatterpolargl"
           }
          ],
          "scatterternary": [
           {
            "marker": {
             "colorbar": {
              "outlinewidth": 0,
              "ticks": ""
             }
            },
            "type": "scatterternary"
           }
          ],
          "surface": [
           {
            "colorbar": {
             "outlinewidth": 0,
             "ticks": ""
            },
            "colorscale": [
             [
              0,
              "#0d0887"
             ],
             [
              0.1111111111111111,
              "#46039f"
             ],
             [
              0.2222222222222222,
              "#7201a8"
             ],
             [
              0.3333333333333333,
              "#9c179e"
             ],
             [
              0.4444444444444444,
              "#bd3786"
             ],
             [
              0.5555555555555556,
              "#d8576b"
             ],
             [
              0.6666666666666666,
              "#ed7953"
             ],
             [
              0.7777777777777778,
              "#fb9f3a"
             ],
             [
              0.8888888888888888,
              "#fdca26"
             ],
             [
              1,
              "#f0f921"
             ]
            ],
            "type": "surface"
           }
          ],
          "table": [
           {
            "cells": {
             "fill": {
              "color": "#EBF0F8"
             },
             "line": {
              "color": "white"
             }
            },
            "header": {
             "fill": {
              "color": "#C8D4E3"
             },
             "line": {
              "color": "white"
             }
            },
            "type": "table"
           }
          ]
         },
         "layout": {
          "annotationdefaults": {
           "arrowcolor": "#2a3f5f",
           "arrowhead": 0,
           "arrowwidth": 1
          },
          "coloraxis": {
           "colorbar": {
            "outlinewidth": 0,
            "ticks": ""
           }
          },
          "colorscale": {
           "diverging": [
            [
             0,
             "#8e0152"
            ],
            [
             0.1,
             "#c51b7d"
            ],
            [
             0.2,
             "#de77ae"
            ],
            [
             0.3,
             "#f1b6da"
            ],
            [
             0.4,
             "#fde0ef"
            ],
            [
             0.5,
             "#f7f7f7"
            ],
            [
             0.6,
             "#e6f5d0"
            ],
            [
             0.7,
             "#b8e186"
            ],
            [
             0.8,
             "#7fbc41"
            ],
            [
             0.9,
             "#4d9221"
            ],
            [
             1,
             "#276419"
            ]
           ],
           "sequential": [
            [
             0,
             "#0d0887"
            ],
            [
             0.1111111111111111,
             "#46039f"
            ],
            [
             0.2222222222222222,
             "#7201a8"
            ],
            [
             0.3333333333333333,
             "#9c179e"
            ],
            [
             0.4444444444444444,
             "#bd3786"
            ],
            [
             0.5555555555555556,
             "#d8576b"
            ],
            [
             0.6666666666666666,
             "#ed7953"
            ],
            [
             0.7777777777777778,
             "#fb9f3a"
            ],
            [
             0.8888888888888888,
             "#fdca26"
            ],
            [
             1,
             "#f0f921"
            ]
           ],
           "sequentialminus": [
            [
             0,
             "#0d0887"
            ],
            [
             0.1111111111111111,
             "#46039f"
            ],
            [
             0.2222222222222222,
             "#7201a8"
            ],
            [
             0.3333333333333333,
             "#9c179e"
            ],
            [
             0.4444444444444444,
             "#bd3786"
            ],
            [
             0.5555555555555556,
             "#d8576b"
            ],
            [
             0.6666666666666666,
             "#ed7953"
            ],
            [
             0.7777777777777778,
             "#fb9f3a"
            ],
            [
             0.8888888888888888,
             "#fdca26"
            ],
            [
             1,
             "#f0f921"
            ]
           ]
          },
          "colorway": [
           "#636efa",
           "#EF553B",
           "#00cc96",
           "#ab63fa",
           "#FFA15A",
           "#19d3f3",
           "#FF6692",
           "#B6E880",
           "#FF97FF",
           "#FECB52"
          ],
          "font": {
           "color": "#2a3f5f"
          },
          "geo": {
           "bgcolor": "white",
           "lakecolor": "white",
           "landcolor": "#E5ECF6",
           "showlakes": true,
           "showland": true,
           "subunitcolor": "white"
          },
          "hoverlabel": {
           "align": "left"
          },
          "hovermode": "closest",
          "mapbox": {
           "style": "light"
          },
          "paper_bgcolor": "white",
          "plot_bgcolor": "#E5ECF6",
          "polar": {
           "angularaxis": {
            "gridcolor": "white",
            "linecolor": "white",
            "ticks": ""
           },
           "bgcolor": "#E5ECF6",
           "radialaxis": {
            "gridcolor": "white",
            "linecolor": "white",
            "ticks": ""
           }
          },
          "scene": {
           "xaxis": {
            "backgroundcolor": "#E5ECF6",
            "gridcolor": "white",
            "gridwidth": 2,
            "linecolor": "white",
            "showbackground": true,
            "ticks": "",
            "zerolinecolor": "white"
           },
           "yaxis": {
            "backgroundcolor": "#E5ECF6",
            "gridcolor": "white",
            "gridwidth": 2,
            "linecolor": "white",
            "showbackground": true,
            "ticks": "",
            "zerolinecolor": "white"
           },
           "zaxis": {
            "backgroundcolor": "#E5ECF6",
            "gridcolor": "white",
            "gridwidth": 2,
            "linecolor": "white",
            "showbackground": true,
            "ticks": "",
            "zerolinecolor": "white"
           }
          },
          "shapedefaults": {
           "line": {
            "color": "#2a3f5f"
           }
          },
          "ternary": {
           "aaxis": {
            "gridcolor": "white",
            "linecolor": "white",
            "ticks": ""
           },
           "baxis": {
            "gridcolor": "white",
            "linecolor": "white",
            "ticks": ""
           },
           "bgcolor": "#E5ECF6",
           "caxis": {
            "gridcolor": "white",
            "linecolor": "white",
            "ticks": ""
           }
          },
          "title": {
           "x": 0.05
          },
          "xaxis": {
           "automargin": true,
           "gridcolor": "white",
           "linecolor": "white",
           "ticks": "",
           "title": {
            "standoff": 15
           },
           "zerolinecolor": "white",
           "zerolinewidth": 2
          },
          "yaxis": {
           "automargin": true,
           "gridcolor": "white",
           "linecolor": "white",
           "ticks": "",
           "title": {
            "standoff": 15
           },
           "zerolinecolor": "white",
           "zerolinewidth": 2
          }
         }
        },
        "title": {
         "font": {
          "color": "#4D5663"
         },
         "text": "Distribution of the Weeks in the training set"
        },
        "xaxis": {
         "gridcolor": "white",
         "linecolor": "black",
         "showgrid": true,
         "tickfont": {
          "color": "#4D5663"
         },
         "title": {
          "font": {
           "color": "#4D5663"
          },
          "text": "Counts(Weeks)"
         },
         "zerolinecolor": "#E1E5ED"
        },
        "yaxis": {
         "gridcolor": "white",
         "linecolor": "black",
         "showgrid": true,
         "tickfont": {
          "color": "#4D5663"
         },
         "title": {
          "font": {
           "color": "#4D5663"
          },
          "text": ""
         },
         "zerolinecolor": "#E1E5ED"
        }
       }
      },
      "text/html": [
       "<div>\n",
       "        \n",
       "        \n",
       "            <div id=\"042f525f-3aba-4f6b-88ba-b1e785e488d3\" class=\"plotly-graph-div\" style=\"height:525px; width:100%;\"></div>\n",
       "            <script type=\"text/javascript\">\n",
       "                require([\"plotly\"], function(Plotly) {\n",
       "                    window.PLOTLYENV=window.PLOTLYENV || {};\n",
       "                    window.PLOTLYENV.BASE_URL='https://plot.ly';\n",
       "                    \n",
       "                if (document.getElementById(\"042f525f-3aba-4f6b-88ba-b1e785e488d3\")) {\n",
       "                    Plotly.newPlot(\n",
       "                        '042f525f-3aba-4f6b-88ba-b1e785e488d3',\n",
       "                        [{\"marker\": {\"color\": \"rgba(251, 128, 114, 0.7)\", \"line\": {\"color\": \"rgba(251, 128, 114, 1.0)\", \"width\": 1}}, \"name\": \"Weeks\", \"orientation\": \"h\", \"text\": \"\", \"type\": \"bar\", \"x\": [45, 44, 42, 41, 40, 38, 37, 34, 33, 33, 31, 31, 30, 29, 29, 27, 24, 24, 24, 23, 23, 23, 22, 22, 22, 22, 22, 22, 21, 21, 21, 20, 20, 20, 20, 20, 19, 18, 18, 18, 17, 17, 16, 16, 16, 15, 15, 15, 14, 14, 14, 13, 13, 13, 13, 13, 12, 12, 12, 11, 10, 10, 9, 9, 8, 8, 7, 7, 6, 6, 6, 6, 6, 5, 5, 5, 5, 4, 4, 4, 4, 4, 4, 4, 4, 3, 3, 3, 3, 3, 3, 3, 2, 2, 2, 2, 1, 1, 1, 1, 1, 1, 1, 1, 1, 1, 1, 1, 1, 1, 1, 1], \"y\": [8, 12, 18, 10, 6, 9, 11, 7, 14, 13, 15, 17, 16, 5, 30, 42, 23, 44, 29, 3, 4, 20, 41, 27, 31, 28, 21, 19, 58, 33, 39, 48, 47, 54, 34, 37, 40, 59, 0, 26, 36, 24, 32, 49, 57, 35, 56, 22, 43, 25, 60, 38, 46, 51, 53, 55, 63, 50, 45, 70, 62, 52, 61, 65, 2, 66, 79, 67, 82, 71, 64, 73, 69, 76, 85, 1, 83, 100, 87, 102, 84, -1, 72, 75, 68, -4, 98, 92, 74, 77, 86, 78, 89, 94, -3, 81, 107, -5, 133, 117, 116, 99, 104, 101, 80, 97, 96, 95, 93, 91, 88, -2]}],\n",
       "                        {\"bargap\": 0.2, \"legend\": {\"bgcolor\": \"#F5F6F9\", \"font\": {\"color\": \"#4D5663\"}}, \"paper_bgcolor\": \"#F5F6F9\", \"plot_bgcolor\": \"#F5F6F9\", \"template\": {\"data\": {\"bar\": [{\"error_x\": {\"color\": \"#2a3f5f\"}, \"error_y\": {\"color\": \"#2a3f5f\"}, \"marker\": {\"line\": {\"color\": \"#E5ECF6\", \"width\": 0.5}}, \"type\": \"bar\"}], \"barpolar\": [{\"marker\": {\"line\": {\"color\": \"#E5ECF6\", \"width\": 0.5}}, \"type\": \"barpolar\"}], \"carpet\": [{\"aaxis\": {\"endlinecolor\": \"#2a3f5f\", \"gridcolor\": \"white\", \"linecolor\": \"white\", \"minorgridcolor\": \"white\", \"startlinecolor\": \"#2a3f5f\"}, \"baxis\": {\"endlinecolor\": \"#2a3f5f\", \"gridcolor\": \"white\", \"linecolor\": \"white\", \"minorgridcolor\": \"white\", \"startlinecolor\": \"#2a3f5f\"}, \"type\": \"carpet\"}], \"choropleth\": [{\"colorbar\": {\"outlinewidth\": 0, \"ticks\": \"\"}, \"type\": \"choropleth\"}], \"contour\": [{\"colorbar\": {\"outlinewidth\": 0, \"ticks\": \"\"}, \"colorscale\": [[0.0, \"#0d0887\"], [0.1111111111111111, \"#46039f\"], [0.2222222222222222, \"#7201a8\"], [0.3333333333333333, \"#9c179e\"], [0.4444444444444444, \"#bd3786\"], [0.5555555555555556, \"#d8576b\"], [0.6666666666666666, \"#ed7953\"], [0.7777777777777778, \"#fb9f3a\"], [0.8888888888888888, \"#fdca26\"], [1.0, \"#f0f921\"]], \"type\": \"contour\"}], \"contourcarpet\": [{\"colorbar\": {\"outlinewidth\": 0, \"ticks\": \"\"}, \"type\": \"contourcarpet\"}], \"heatmap\": [{\"colorbar\": {\"outlinewidth\": 0, \"ticks\": \"\"}, \"colorscale\": [[0.0, \"#0d0887\"], [0.1111111111111111, \"#46039f\"], [0.2222222222222222, \"#7201a8\"], [0.3333333333333333, \"#9c179e\"], [0.4444444444444444, \"#bd3786\"], [0.5555555555555556, \"#d8576b\"], [0.6666666666666666, \"#ed7953\"], [0.7777777777777778, \"#fb9f3a\"], [0.8888888888888888, \"#fdca26\"], [1.0, \"#f0f921\"]], \"type\": \"heatmap\"}], \"heatmapgl\": [{\"colorbar\": {\"outlinewidth\": 0, \"ticks\": \"\"}, \"colorscale\": [[0.0, \"#0d0887\"], [0.1111111111111111, \"#46039f\"], [0.2222222222222222, \"#7201a8\"], [0.3333333333333333, \"#9c179e\"], [0.4444444444444444, \"#bd3786\"], [0.5555555555555556, \"#d8576b\"], [0.6666666666666666, \"#ed7953\"], [0.7777777777777778, \"#fb9f3a\"], [0.8888888888888888, \"#fdca26\"], [1.0, \"#f0f921\"]], \"type\": \"heatmapgl\"}], \"histogram\": [{\"marker\": {\"colorbar\": {\"outlinewidth\": 0, \"ticks\": \"\"}}, \"type\": \"histogram\"}], \"histogram2d\": [{\"colorbar\": {\"outlinewidth\": 0, \"ticks\": \"\"}, \"colorscale\": [[0.0, \"#0d0887\"], [0.1111111111111111, \"#46039f\"], [0.2222222222222222, \"#7201a8\"], [0.3333333333333333, \"#9c179e\"], [0.4444444444444444, \"#bd3786\"], [0.5555555555555556, \"#d8576b\"], [0.6666666666666666, \"#ed7953\"], [0.7777777777777778, \"#fb9f3a\"], [0.8888888888888888, \"#fdca26\"], [1.0, \"#f0f921\"]], \"type\": \"histogram2d\"}], \"histogram2dcontour\": [{\"colorbar\": {\"outlinewidth\": 0, \"ticks\": \"\"}, \"colorscale\": [[0.0, \"#0d0887\"], [0.1111111111111111, \"#46039f\"], [0.2222222222222222, \"#7201a8\"], [0.3333333333333333, \"#9c179e\"], [0.4444444444444444, \"#bd3786\"], [0.5555555555555556, \"#d8576b\"], [0.6666666666666666, \"#ed7953\"], [0.7777777777777778, \"#fb9f3a\"], [0.8888888888888888, \"#fdca26\"], [1.0, \"#f0f921\"]], \"type\": \"histogram2dcontour\"}], \"mesh3d\": [{\"colorbar\": {\"outlinewidth\": 0, \"ticks\": \"\"}, \"type\": \"mesh3d\"}], \"parcoords\": [{\"line\": {\"colorbar\": {\"outlinewidth\": 0, \"ticks\": \"\"}}, \"type\": \"parcoords\"}], \"pie\": [{\"automargin\": true, \"type\": \"pie\"}], \"scatter\": [{\"marker\": {\"colorbar\": {\"outlinewidth\": 0, \"ticks\": \"\"}}, \"type\": \"scatter\"}], \"scatter3d\": [{\"line\": {\"colorbar\": {\"outlinewidth\": 0, \"ticks\": \"\"}}, \"marker\": {\"colorbar\": {\"outlinewidth\": 0, \"ticks\": \"\"}}, \"type\": \"scatter3d\"}], \"scattercarpet\": [{\"marker\": {\"colorbar\": {\"outlinewidth\": 0, \"ticks\": \"\"}}, \"type\": \"scattercarpet\"}], \"scattergeo\": [{\"marker\": {\"colorbar\": {\"outlinewidth\": 0, \"ticks\": \"\"}}, \"type\": \"scattergeo\"}], \"scattergl\": [{\"marker\": {\"colorbar\": {\"outlinewidth\": 0, \"ticks\": \"\"}}, \"type\": \"scattergl\"}], \"scattermapbox\": [{\"marker\": {\"colorbar\": {\"outlinewidth\": 0, \"ticks\": \"\"}}, \"type\": \"scattermapbox\"}], \"scatterpolar\": [{\"marker\": {\"colorbar\": {\"outlinewidth\": 0, \"ticks\": \"\"}}, \"type\": \"scatterpolar\"}], \"scatterpolargl\": [{\"marker\": {\"colorbar\": {\"outlinewidth\": 0, \"ticks\": \"\"}}, \"type\": \"scatterpolargl\"}], \"scatterternary\": [{\"marker\": {\"colorbar\": {\"outlinewidth\": 0, \"ticks\": \"\"}}, \"type\": \"scatterternary\"}], \"surface\": [{\"colorbar\": {\"outlinewidth\": 0, \"ticks\": \"\"}, \"colorscale\": [[0.0, \"#0d0887\"], [0.1111111111111111, \"#46039f\"], [0.2222222222222222, \"#7201a8\"], [0.3333333333333333, \"#9c179e\"], [0.4444444444444444, \"#bd3786\"], [0.5555555555555556, \"#d8576b\"], [0.6666666666666666, \"#ed7953\"], [0.7777777777777778, \"#fb9f3a\"], [0.8888888888888888, \"#fdca26\"], [1.0, \"#f0f921\"]], \"type\": \"surface\"}], \"table\": [{\"cells\": {\"fill\": {\"color\": \"#EBF0F8\"}, \"line\": {\"color\": \"white\"}}, \"header\": {\"fill\": {\"color\": \"#C8D4E3\"}, \"line\": {\"color\": \"white\"}}, \"type\": \"table\"}]}, \"layout\": {\"annotationdefaults\": {\"arrowcolor\": \"#2a3f5f\", \"arrowhead\": 0, \"arrowwidth\": 1}, \"coloraxis\": {\"colorbar\": {\"outlinewidth\": 0, \"ticks\": \"\"}}, \"colorscale\": {\"diverging\": [[0, \"#8e0152\"], [0.1, \"#c51b7d\"], [0.2, \"#de77ae\"], [0.3, \"#f1b6da\"], [0.4, \"#fde0ef\"], [0.5, \"#f7f7f7\"], [0.6, \"#e6f5d0\"], [0.7, \"#b8e186\"], [0.8, \"#7fbc41\"], [0.9, \"#4d9221\"], [1, \"#276419\"]], \"sequential\": [[0.0, \"#0d0887\"], [0.1111111111111111, \"#46039f\"], [0.2222222222222222, \"#7201a8\"], [0.3333333333333333, \"#9c179e\"], [0.4444444444444444, \"#bd3786\"], [0.5555555555555556, \"#d8576b\"], [0.6666666666666666, \"#ed7953\"], [0.7777777777777778, \"#fb9f3a\"], [0.8888888888888888, \"#fdca26\"], [1.0, \"#f0f921\"]], \"sequentialminus\": [[0.0, \"#0d0887\"], [0.1111111111111111, \"#46039f\"], [0.2222222222222222, \"#7201a8\"], [0.3333333333333333, \"#9c179e\"], [0.4444444444444444, \"#bd3786\"], [0.5555555555555556, \"#d8576b\"], [0.6666666666666666, \"#ed7953\"], [0.7777777777777778, \"#fb9f3a\"], [0.8888888888888888, \"#fdca26\"], [1.0, \"#f0f921\"]]}, \"colorway\": [\"#636efa\", \"#EF553B\", \"#00cc96\", \"#ab63fa\", \"#FFA15A\", \"#19d3f3\", \"#FF6692\", \"#B6E880\", \"#FF97FF\", \"#FECB52\"], \"font\": {\"color\": \"#2a3f5f\"}, \"geo\": {\"bgcolor\": \"white\", \"lakecolor\": \"white\", \"landcolor\": \"#E5ECF6\", \"showlakes\": true, \"showland\": true, \"subunitcolor\": \"white\"}, \"hoverlabel\": {\"align\": \"left\"}, \"hovermode\": \"closest\", \"mapbox\": {\"style\": \"light\"}, \"paper_bgcolor\": \"white\", \"plot_bgcolor\": \"#E5ECF6\", \"polar\": {\"angularaxis\": {\"gridcolor\": \"white\", \"linecolor\": \"white\", \"ticks\": \"\"}, \"bgcolor\": \"#E5ECF6\", \"radialaxis\": {\"gridcolor\": \"white\", \"linecolor\": \"white\", \"ticks\": \"\"}}, \"scene\": {\"xaxis\": {\"backgroundcolor\": \"#E5ECF6\", \"gridcolor\": \"white\", \"gridwidth\": 2, \"linecolor\": \"white\", \"showbackground\": true, \"ticks\": \"\", \"zerolinecolor\": \"white\"}, \"yaxis\": {\"backgroundcolor\": \"#E5ECF6\", \"gridcolor\": \"white\", \"gridwidth\": 2, \"linecolor\": \"white\", \"showbackground\": true, \"ticks\": \"\", \"zerolinecolor\": \"white\"}, \"zaxis\": {\"backgroundcolor\": \"#E5ECF6\", \"gridcolor\": \"white\", \"gridwidth\": 2, \"linecolor\": \"white\", \"showbackground\": true, \"ticks\": \"\", \"zerolinecolor\": \"white\"}}, \"shapedefaults\": {\"line\": {\"color\": \"#2a3f5f\"}}, \"ternary\": {\"aaxis\": {\"gridcolor\": \"white\", \"linecolor\": \"white\", \"ticks\": \"\"}, \"baxis\": {\"gridcolor\": \"white\", \"linecolor\": \"white\", \"ticks\": \"\"}, \"bgcolor\": \"#E5ECF6\", \"caxis\": {\"gridcolor\": \"white\", \"linecolor\": \"white\", \"ticks\": \"\"}}, \"title\": {\"x\": 0.05}, \"xaxis\": {\"automargin\": true, \"gridcolor\": \"white\", \"linecolor\": \"white\", \"ticks\": \"\", \"title\": {\"standoff\": 15}, \"zerolinecolor\": \"white\", \"zerolinewidth\": 2}, \"yaxis\": {\"automargin\": true, \"gridcolor\": \"white\", \"linecolor\": \"white\", \"ticks\": \"\", \"title\": {\"standoff\": 15}, \"zerolinecolor\": \"white\", \"zerolinewidth\": 2}}}, \"title\": {\"font\": {\"color\": \"#4D5663\"}, \"text\": \"Distribution of the Weeks in the training set\"}, \"xaxis\": {\"gridcolor\": \"white\", \"linecolor\": \"black\", \"showgrid\": true, \"tickfont\": {\"color\": \"#4D5663\"}, \"title\": {\"font\": {\"color\": \"#4D5663\"}, \"text\": \"Counts(Weeks)\"}, \"zerolinecolor\": \"#E1E5ED\"}, \"yaxis\": {\"gridcolor\": \"white\", \"linecolor\": \"black\", \"showgrid\": true, \"tickfont\": {\"color\": \"#4D5663\"}, \"title\": {\"font\": {\"color\": \"#4D5663\"}, \"text\": \"\"}, \"zerolinecolor\": \"#E1E5ED\"}},\n",
       "                        {\"showLink\": true, \"linkText\": \"Export to plot.ly\", \"plotlyServerURL\": \"https://plot.ly\", \"responsive\": true}\n",
       "                    ).then(function(){\n",
       "                            \n",
       "var gd = document.getElementById('042f525f-3aba-4f6b-88ba-b1e785e488d3');\n",
       "var x = new MutationObserver(function (mutations, observer) {{\n",
       "        var display = window.getComputedStyle(gd).display;\n",
       "        if (!display || display === 'none') {{\n",
       "            console.log([gd, 'removed!']);\n",
       "            Plotly.purge(gd);\n",
       "            observer.disconnect();\n",
       "        }}\n",
       "}});\n",
       "\n",
       "// Listen for the removal of the full notebook cells\n",
       "var notebookContainer = gd.closest('#notebook-container');\n",
       "if (notebookContainer) {{\n",
       "    x.observe(notebookContainer, {childList: true});\n",
       "}}\n",
       "\n",
       "// Listen for the clearing of the current output cell\n",
       "var outputEl = gd.closest('.output');\n",
       "if (outputEl) {{\n",
       "    x.observe(outputEl, {childList: true});\n",
       "}}\n",
       "\n",
       "                        })\n",
       "                };\n",
       "                });\n",
       "            </script>\n",
       "        </div>"
      ]
     },
     "metadata": {},
     "output_type": "display_data"
    }
   ],
   "source": [
    "train_df['Weeks'].value_counts().iplot(kind='barh',\n",
    "                                      xTitle='Counts(Weeks)', \n",
    "                                      linecolor='black', \n",
    "                                      opacity=0.7,\n",
    "                                      color='#FB8072',\n",
    "                                      theme='pearl',\n",
    "                                      bargap=0.2,\n",
    "                                      gridcolor='white',\n",
    "                                      title='Distribution of the Weeks in the training set')"
   ]
  },
  {
   "cell_type": "code",
   "execution_count": 62,
   "metadata": {
    "collapsed": true
   },
   "outputs": [
    {
     "data": {
      "application/vnd.plotly.v1+json": {
       "config": {
        "linkText": "Export to plot.ly",
        "plotlyServerURL": "https://plot.ly",
        "showLink": true
       },
       "data": [
        {
         "histfunc": "count",
         "histnorm": "",
         "marker": {
          "color": "rgba(251, 128, 114, 1.0)",
          "line": {
           "color": "#000000",
           "width": 1.3
          }
         },
         "name": "Weeks",
         "opacity": 0.5,
         "orientation": "v",
         "type": "histogram",
         "x": [
          -4,
          5,
          7,
          9,
          11,
          17,
          29,
          41,
          57,
          8,
          9,
          11,
          13,
          15,
          22,
          33,
          45,
          60,
          0,
          1,
          3,
          5,
          7,
          13,
          25,
          37,
          54,
          6,
          7,
          9,
          11,
          13,
          19,
          32,
          43,
          58,
          33,
          35,
          37,
          39,
          41,
          47,
          58,
          71,
          87,
          0,
          2,
          4,
          6,
          8,
          14,
          26,
          37,
          54,
          12,
          17,
          19,
          21,
          31,
          40,
          52,
          69,
          13,
          14,
          16,
          18,
          20,
          26,
          38,
          53,
          66,
          18,
          19,
          21,
          23,
          25,
          31,
          44,
          54,
          70,
          -3,
          3,
          5,
          7,
          9,
          15,
          27,
          39,
          55,
          0,
          1,
          3,
          6,
          7,
          14,
          26,
          38,
          53,
          41,
          45,
          47,
          49,
          51,
          57,
          69,
          81,
          98,
          12,
          14,
          16,
          18,
          23,
          26,
          38,
          51,
          66,
          19,
          30,
          33,
          34,
          36,
          42,
          54,
          65,
          30,
          35,
          37,
          39,
          41,
          47,
          59,
          71,
          87,
          11,
          12,
          14,
          16,
          18,
          24,
          36,
          49,
          65,
          6,
          12,
          15,
          17,
          19,
          24,
          36,
          49,
          63,
          1,
          6,
          9,
          11,
          12,
          18,
          31,
          44,
          60,
          2,
          4,
          6,
          8,
          10,
          29,
          9,
          9,
          11,
          13,
          15,
          21,
          33,
          47,
          61,
          -1,
          1,
          3,
          6,
          7,
          13,
          26,
          37,
          54,
          48,
          51,
          53,
          56,
          58,
          63,
          75,
          16,
          18,
          20,
          23,
          24,
          31,
          43,
          55,
          71,
          23,
          24,
          26,
          28,
          30,
          36,
          48,
          60,
          76,
          44,
          46,
          48,
          50,
          52,
          58,
          70,
          83,
          98,
          4,
          5,
          7,
          9,
          11,
          17,
          28,
          41,
          11,
          11,
          13,
          15,
          16,
          22,
          35,
          46,
          62,
          15,
          18,
          20,
          22,
          24,
          30,
          42,
          55,
          70,
          3,
          6,
          8,
          10,
          12,
          18,
          30,
          42,
          25,
          28,
          29,
          32,
          33,
          40,
          51,
          61,
          79,
          -4,
          3,
          5,
          6,
          9,
          15,
          27,
          40,
          55,
          5,
          6,
          8,
          10,
          12,
          18,
          29,
          42,
          59,
          0,
          5,
          7,
          9,
          11,
          17,
          28,
          40,
          58,
          19,
          27,
          29,
          31,
          33,
          39,
          51,
          63,
          79,
          -5,
          6,
          8,
          9,
          12,
          18,
          30,
          42,
          58,
          7,
          7,
          9,
          11,
          14,
          20,
          31,
          44,
          60,
          17,
          21,
          23,
          27,
          33,
          44,
          59,
          73,
          -1,
          3,
          6,
          8,
          9,
          16,
          28,
          39,
          54,
          0,
          6,
          9,
          11,
          12,
          18,
          30,
          42,
          58,
          44,
          47,
          49,
          51,
          53,
          58,
          70,
          83,
          98,
          102,
          3,
          5,
          7,
          9,
          11,
          17,
          29,
          41,
          58,
          20,
          21,
          23,
          26,
          28,
          33,
          45,
          58,
          44,
          45,
          47,
          49,
          51,
          57,
          69,
          82,
          97,
          100,
          11,
          13,
          15,
          17,
          19,
          25,
          37,
          49,
          65,
          53,
          55,
          57,
          59,
          61,
          67,
          79,
          91,
          107,
          15,
          18,
          20,
          23,
          25,
          31,
          42,
          56,
          9,
          10,
          13,
          15,
          17,
          23,
          36,
          15,
          17,
          19,
          21,
          23,
          29,
          42,
          52,
          4,
          8,
          10,
          12,
          14,
          20,
          32,
          44,
          60,
          2,
          4,
          6,
          8,
          10,
          16,
          28,
          40,
          56,
          59,
          -4,
          6,
          8,
          10,
          12,
          18,
          30,
          43,
          58,
          48,
          49,
          51,
          53,
          55,
          61,
          73,
          85,
          102,
          47,
          48,
          50,
          53,
          55,
          60,
          72,
          84,
          100,
          8,
          8,
          10,
          12,
          14,
          20,
          34,
          45,
          18,
          26,
          28,
          30,
          32,
          38,
          50,
          62,
          78,
          44,
          48,
          50,
          52,
          54,
          61,
          72,
          84,
          100,
          34,
          36,
          37,
          39,
          41,
          47,
          59,
          0,
          3,
          5,
          7,
          10,
          15,
          27,
          39,
          56,
          11,
          12,
          14,
          17,
          18,
          24,
          36,
          48,
          64,
          63,
          64,
          66,
          68,
          70,
          76,
          89,
          101,
          116,
          6,
          10,
          13,
          14,
          16,
          22,
          34,
          46,
          63,
          -2,
          2,
          4,
          6,
          8,
          13,
          27,
          38,
          54,
          2,
          8,
          11,
          13,
          14,
          21,
          33,
          44,
          59,
          31,
          35,
          37,
          40,
          42,
          48,
          60,
          73,
          89,
          3,
          6,
          8,
          10,
          12,
          18,
          30,
          43,
          58,
          14,
          18,
          20,
          22,
          24,
          30,
          42,
          54,
          70,
          16,
          21,
          24,
          25,
          27,
          33,
          47,
          58,
          73,
          16,
          18,
          20,
          22,
          24,
          30,
          42,
          54,
          70,
          74,
          44,
          48,
          50,
          52,
          54,
          60,
          73,
          84,
          100,
          8,
          10,
          12,
          14,
          16,
          22,
          34,
          46,
          61,
          79,
          81,
          83,
          85,
          87,
          92,
          104,
          117,
          133,
          7,
          11,
          13,
          15,
          17,
          23,
          34,
          47,
          62,
          66,
          7,
          8,
          10,
          12,
          14,
          21,
          33,
          44,
          60,
          12,
          16,
          18,
          20,
          23,
          28,
          40,
          53,
          66,
          38,
          44,
          46,
          48,
          50,
          56,
          68,
          79,
          96,
          35,
          37,
          39,
          41,
          43,
          49,
          60,
          72,
          92,
          11,
          17,
          19,
          21,
          23,
          29,
          42,
          53,
          69,
          9,
          11,
          13,
          16,
          18,
          24,
          35,
          47,
          63,
          39,
          42,
          44,
          46,
          48,
          54,
          65,
          77,
          94,
          29,
          30,
          32,
          34,
          37,
          43,
          55,
          67,
          83,
          8,
          11,
          13,
          15,
          17,
          23,
          59,
          4,
          10,
          12,
          14,
          16,
          22,
          34,
          46,
          62,
          4,
          12,
          14,
          15,
          18,
          24,
          36,
          48,
          65,
          9,
          12,
          14,
          16,
          18,
          25,
          36,
          48,
          66,
          0,
          5,
          8,
          10,
          11,
          18,
          30,
          41,
          57,
          5,
          5,
          7,
          9,
          12,
          17,
          30,
          42,
          57,
          20,
          21,
          23,
          25,
          27,
          33,
          45,
          58,
          75,
          33,
          35,
          37,
          38,
          41,
          47,
          59,
          71,
          86,
          0,
          3,
          5,
          7,
          9,
          16,
          27,
          39,
          56,
          6,
          9,
          11,
          13,
          14,
          21,
          32,
          44,
          61,
          3,
          4,
          6,
          8,
          10,
          16,
          28,
          40,
          55,
          10,
          11,
          13,
          15,
          17,
          23,
          34,
          47,
          63,
          20,
          22,
          25,
          26,
          29,
          34,
          46,
          59,
          75,
          0,
          4,
          7,
          9,
          11,
          17,
          27,
          40,
          56,
          11,
          12,
          14,
          16,
          18,
          24,
          36,
          48,
          64,
          -1,
          5,
          7,
          9,
          11,
          16,
          29,
          41,
          57,
          0,
          3,
          5,
          7,
          9,
          15,
          27,
          39,
          55,
          13,
          17,
          19,
          21,
          23,
          29,
          54,
          69,
          14,
          15,
          18,
          19,
          21,
          27,
          40,
          50,
          67,
          23,
          26,
          28,
          30,
          32,
          38,
          49,
          62,
          78,
          82,
          9,
          11,
          13,
          15,
          17,
          23,
          35,
          47,
          63,
          -3,
          2,
          4,
          6,
          9,
          14,
          27,
          39,
          54,
          3,
          4,
          6,
          8,
          10,
          16,
          29,
          41,
          34,
          35,
          37,
          40,
          42,
          47,
          59,
          71,
          88,
          5,
          5,
          8,
          9,
          12,
          18,
          30,
          41,
          57,
          2,
          4,
          6,
          8,
          10,
          16,
          28,
          40,
          56,
          4,
          5,
          7,
          9,
          10,
          17,
          28,
          41,
          58,
          14,
          15,
          17,
          19,
          20,
          27,
          38,
          51,
          67,
          34,
          40,
          42,
          46,
          52,
          67,
          76,
          92,
          21,
          30,
          32,
          34,
          37,
          43,
          55,
          67,
          83,
          1,
          3,
          5,
          7,
          15,
          29,
          41,
          55,
          13,
          14,
          16,
          19,
          20,
          26,
          39,
          51,
          3,
          5,
          8,
          10,
          12,
          31,
          4,
          8,
          10,
          12,
          14,
          20,
          32,
          44,
          60,
          48,
          50,
          52,
          54,
          56,
          62,
          74,
          86,
          102,
          6,
          7,
          9,
          11,
          13,
          19,
          31,
          8,
          10,
          12,
          14,
          17,
          22,
          34,
          46,
          63,
          0,
          3,
          5,
          7,
          9,
          15,
          27,
          39,
          54,
          4,
          6,
          8,
          10,
          12,
          18,
          30,
          42,
          58,
          21,
          22,
          24,
          26,
          28,
          34,
          45,
          57,
          4,
          15,
          17,
          18,
          21,
          26,
          38,
          51,
          2,
          4,
          6,
          8,
          10,
          16,
          27,
          43,
          56,
          5,
          6,
          7,
          10,
          12,
          18,
          29,
          42,
          59,
          5,
          8,
          10,
          12,
          13,
          20,
          32,
          44,
          4,
          6,
          8,
          9,
          12,
          18,
          30,
          42,
          57,
          22,
          24,
          26,
          28,
          30,
          37,
          48,
          60,
          76,
          8,
          10,
          12,
          14,
          16,
          22,
          34,
          46,
          62,
          3,
          6,
          8,
          10,
          12,
          18,
          31,
          44,
          58,
          3,
          5,
          7,
          9,
          11,
          18,
          29,
          41,
          57,
          0,
          4,
          6,
          8,
          10,
          16,
          28,
          40,
          57,
          26,
          32,
          34,
          35,
          44,
          56,
          70,
          85,
          12,
          16,
          18,
          20,
          22,
          29,
          40,
          52,
          69,
          3,
          6,
          8,
          10,
          11,
          18,
          30,
          40,
          57,
          26,
          27,
          29,
          31,
          33,
          39,
          50,
          64,
          39,
          43,
          45,
          47,
          49,
          54,
          66,
          79,
          95,
          28,
          30,
          32,
          34,
          36,
          42,
          55,
          67,
          82,
          3,
          4,
          6,
          8,
          10,
          16,
          28,
          40,
          56,
          6,
          8,
          10,
          12,
          14,
          20,
          33,
          44,
          29,
          32,
          34,
          36,
          38,
          44,
          57,
          68,
          85,
          0,
          6,
          9,
          10,
          13,
          18,
          31,
          41,
          58,
          -1,
          5,
          8,
          10,
          12,
          18,
          30,
          42,
          58,
          28,
          32,
          35,
          36,
          38,
          44,
          56,
          68,
          84,
          23,
          25,
          27,
          29,
          31,
          37,
          49,
          62,
          78,
          23,
          25,
          27,
          28,
          30,
          36,
          48,
          62,
          76,
          79,
          0,
          4,
          6,
          8,
          10,
          16,
          31,
          14,
          15,
          17,
          19,
          21,
          27,
          39,
          51,
          66,
          24,
          28,
          30,
          32,
          34,
          40,
          52,
          65,
          82,
          4,
          8,
          12,
          14,
          20,
          33,
          45,
          62,
          3,
          5,
          7,
          10,
          12,
          17,
          29,
          41,
          57,
          37,
          41,
          43,
          45,
          47,
          53,
          65,
          77,
          94,
          35,
          37,
          39,
          42,
          43,
          49,
          61,
          73,
          35,
          36,
          38,
          40,
          42,
          48,
          59,
          72,
          87,
          7,
          11,
          13,
          15,
          17,
          23,
          35,
          47,
          64,
          12,
          13,
          15,
          17,
          19,
          25,
          37,
          49,
          64,
          6,
          8,
          10,
          12,
          14,
          20,
          33,
          44,
          60,
          39,
          41,
          44,
          46,
          48,
          53,
          65,
          77,
          93,
          25,
          27,
          29,
          31,
          33,
          39,
          50,
          63,
          80,
          5,
          7,
          9,
          11,
          13,
          19,
          31,
          48,
          50,
          52,
          54,
          56,
          63,
          74,
          86,
          102,
          0,
          3,
          5,
          7,
          8,
          15,
          27,
          39,
          56,
          59,
          5,
          7,
          9,
          11,
          13,
          19,
          31,
          43,
          59,
          0,
          6,
          8,
          10,
          12,
          18,
          30,
          41,
          58,
          11,
          13,
          15,
          17,
          19,
          25,
          37,
          49,
          29,
          30,
          32,
          33,
          36,
          42,
          54,
          65,
          82,
          85,
          42,
          47,
          49,
          51,
          53,
          59,
          71,
          82,
          99,
          0,
          6,
          8,
          11,
          12,
          18,
          31,
          42,
          58,
          21,
          22,
          24,
          26,
          28,
          33,
          46,
          57,
          75,
          13,
          14,
          16,
          18,
          20,
          26,
          37,
          50,
          7,
          8,
          10,
          12,
          14,
          20,
          31,
          45,
          60,
          7,
          12,
          14,
          16,
          18,
          24,
          36,
          49,
          63,
          8,
          9,
          12,
          13,
          15,
          21,
          33,
          45,
          61,
          6,
          7,
          9,
          10,
          13,
          18,
          31,
          43,
          59,
          15,
          17,
          19,
          21,
          23,
          29,
          41,
          54,
          70,
          70,
          6,
          11,
          13,
          15,
          17,
          23,
          35,
          47,
          17,
          18,
          19,
          21,
          23,
          30,
          42,
          53,
          70,
          0,
          7,
          9,
          11,
          13,
          19,
          31,
          43,
          59
         ]
        }
       ],
       "layout": {
        "bargap": 0.2,
        "barmode": "overlay",
        "legend": {
         "bgcolor": "#F5F6F9",
         "font": {
          "color": "#4D5663"
         }
        },
        "paper_bgcolor": "#F5F6F9",
        "plot_bgcolor": "#F5F6F9",
        "template": {
         "data": {
          "bar": [
           {
            "error_x": {
             "color": "#2a3f5f"
            },
            "error_y": {
             "color": "#2a3f5f"
            },
            "marker": {
             "line": {
              "color": "#E5ECF6",
              "width": 0.5
             }
            },
            "type": "bar"
           }
          ],
          "barpolar": [
           {
            "marker": {
             "line": {
              "color": "#E5ECF6",
              "width": 0.5
             }
            },
            "type": "barpolar"
           }
          ],
          "carpet": [
           {
            "aaxis": {
             "endlinecolor": "#2a3f5f",
             "gridcolor": "white",
             "linecolor": "white",
             "minorgridcolor": "white",
             "startlinecolor": "#2a3f5f"
            },
            "baxis": {
             "endlinecolor": "#2a3f5f",
             "gridcolor": "white",
             "linecolor": "white",
             "minorgridcolor": "white",
             "startlinecolor": "#2a3f5f"
            },
            "type": "carpet"
           }
          ],
          "choropleth": [
           {
            "colorbar": {
             "outlinewidth": 0,
             "ticks": ""
            },
            "type": "choropleth"
           }
          ],
          "contour": [
           {
            "colorbar": {
             "outlinewidth": 0,
             "ticks": ""
            },
            "colorscale": [
             [
              0,
              "#0d0887"
             ],
             [
              0.1111111111111111,
              "#46039f"
             ],
             [
              0.2222222222222222,
              "#7201a8"
             ],
             [
              0.3333333333333333,
              "#9c179e"
             ],
             [
              0.4444444444444444,
              "#bd3786"
             ],
             [
              0.5555555555555556,
              "#d8576b"
             ],
             [
              0.6666666666666666,
              "#ed7953"
             ],
             [
              0.7777777777777778,
              "#fb9f3a"
             ],
             [
              0.8888888888888888,
              "#fdca26"
             ],
             [
              1,
              "#f0f921"
             ]
            ],
            "type": "contour"
           }
          ],
          "contourcarpet": [
           {
            "colorbar": {
             "outlinewidth": 0,
             "ticks": ""
            },
            "type": "contourcarpet"
           }
          ],
          "heatmap": [
           {
            "colorbar": {
             "outlinewidth": 0,
             "ticks": ""
            },
            "colorscale": [
             [
              0,
              "#0d0887"
             ],
             [
              0.1111111111111111,
              "#46039f"
             ],
             [
              0.2222222222222222,
              "#7201a8"
             ],
             [
              0.3333333333333333,
              "#9c179e"
             ],
             [
              0.4444444444444444,
              "#bd3786"
             ],
             [
              0.5555555555555556,
              "#d8576b"
             ],
             [
              0.6666666666666666,
              "#ed7953"
             ],
             [
              0.7777777777777778,
              "#fb9f3a"
             ],
             [
              0.8888888888888888,
              "#fdca26"
             ],
             [
              1,
              "#f0f921"
             ]
            ],
            "type": "heatmap"
           }
          ],
          "heatmapgl": [
           {
            "colorbar": {
             "outlinewidth": 0,
             "ticks": ""
            },
            "colorscale": [
             [
              0,
              "#0d0887"
             ],
             [
              0.1111111111111111,
              "#46039f"
             ],
             [
              0.2222222222222222,
              "#7201a8"
             ],
             [
              0.3333333333333333,
              "#9c179e"
             ],
             [
              0.4444444444444444,
              "#bd3786"
             ],
             [
              0.5555555555555556,
              "#d8576b"
             ],
             [
              0.6666666666666666,
              "#ed7953"
             ],
             [
              0.7777777777777778,
              "#fb9f3a"
             ],
             [
              0.8888888888888888,
              "#fdca26"
             ],
             [
              1,
              "#f0f921"
             ]
            ],
            "type": "heatmapgl"
           }
          ],
          "histogram": [
           {
            "marker": {
             "colorbar": {
              "outlinewidth": 0,
              "ticks": ""
             }
            },
            "type": "histogram"
           }
          ],
          "histogram2d": [
           {
            "colorbar": {
             "outlinewidth": 0,
             "ticks": ""
            },
            "colorscale": [
             [
              0,
              "#0d0887"
             ],
             [
              0.1111111111111111,
              "#46039f"
             ],
             [
              0.2222222222222222,
              "#7201a8"
             ],
             [
              0.3333333333333333,
              "#9c179e"
             ],
             [
              0.4444444444444444,
              "#bd3786"
             ],
             [
              0.5555555555555556,
              "#d8576b"
             ],
             [
              0.6666666666666666,
              "#ed7953"
             ],
             [
              0.7777777777777778,
              "#fb9f3a"
             ],
             [
              0.8888888888888888,
              "#fdca26"
             ],
             [
              1,
              "#f0f921"
             ]
            ],
            "type": "histogram2d"
           }
          ],
          "histogram2dcontour": [
           {
            "colorbar": {
             "outlinewidth": 0,
             "ticks": ""
            },
            "colorscale": [
             [
              0,
              "#0d0887"
             ],
             [
              0.1111111111111111,
              "#46039f"
             ],
             [
              0.2222222222222222,
              "#7201a8"
             ],
             [
              0.3333333333333333,
              "#9c179e"
             ],
             [
              0.4444444444444444,
              "#bd3786"
             ],
             [
              0.5555555555555556,
              "#d8576b"
             ],
             [
              0.6666666666666666,
              "#ed7953"
             ],
             [
              0.7777777777777778,
              "#fb9f3a"
             ],
             [
              0.8888888888888888,
              "#fdca26"
             ],
             [
              1,
              "#f0f921"
             ]
            ],
            "type": "histogram2dcontour"
           }
          ],
          "mesh3d": [
           {
            "colorbar": {
             "outlinewidth": 0,
             "ticks": ""
            },
            "type": "mesh3d"
           }
          ],
          "parcoords": [
           {
            "line": {
             "colorbar": {
              "outlinewidth": 0,
              "ticks": ""
             }
            },
            "type": "parcoords"
           }
          ],
          "pie": [
           {
            "automargin": true,
            "type": "pie"
           }
          ],
          "scatter": [
           {
            "marker": {
             "colorbar": {
              "outlinewidth": 0,
              "ticks": ""
             }
            },
            "type": "scatter"
           }
          ],
          "scatter3d": [
           {
            "line": {
             "colorbar": {
              "outlinewidth": 0,
              "ticks": ""
             }
            },
            "marker": {
             "colorbar": {
              "outlinewidth": 0,
              "ticks": ""
             }
            },
            "type": "scatter3d"
           }
          ],
          "scattercarpet": [
           {
            "marker": {
             "colorbar": {
              "outlinewidth": 0,
              "ticks": ""
             }
            },
            "type": "scattercarpet"
           }
          ],
          "scattergeo": [
           {
            "marker": {
             "colorbar": {
              "outlinewidth": 0,
              "ticks": ""
             }
            },
            "type": "scattergeo"
           }
          ],
          "scattergl": [
           {
            "marker": {
             "colorbar": {
              "outlinewidth": 0,
              "ticks": ""
             }
            },
            "type": "scattergl"
           }
          ],
          "scattermapbox": [
           {
            "marker": {
             "colorbar": {
              "outlinewidth": 0,
              "ticks": ""
             }
            },
            "type": "scattermapbox"
           }
          ],
          "scatterpolar": [
           {
            "marker": {
             "colorbar": {
              "outlinewidth": 0,
              "ticks": ""
             }
            },
            "type": "scatterpolar"
           }
          ],
          "scatterpolargl": [
           {
            "marker": {
             "colorbar": {
              "outlinewidth": 0,
              "ticks": ""
             }
            },
            "type": "scatterpolargl"
           }
          ],
          "scatterternary": [
           {
            "marker": {
             "colorbar": {
              "outlinewidth": 0,
              "ticks": ""
             }
            },
            "type": "scatterternary"
           }
          ],
          "surface": [
           {
            "colorbar": {
             "outlinewidth": 0,
             "ticks": ""
            },
            "colorscale": [
             [
              0,
              "#0d0887"
             ],
             [
              0.1111111111111111,
              "#46039f"
             ],
             [
              0.2222222222222222,
              "#7201a8"
             ],
             [
              0.3333333333333333,
              "#9c179e"
             ],
             [
              0.4444444444444444,
              "#bd3786"
             ],
             [
              0.5555555555555556,
              "#d8576b"
             ],
             [
              0.6666666666666666,
              "#ed7953"
             ],
             [
              0.7777777777777778,
              "#fb9f3a"
             ],
             [
              0.8888888888888888,
              "#fdca26"
             ],
             [
              1,
              "#f0f921"
             ]
            ],
            "type": "surface"
           }
          ],
          "table": [
           {
            "cells": {
             "fill": {
              "color": "#EBF0F8"
             },
             "line": {
              "color": "white"
             }
            },
            "header": {
             "fill": {
              "color": "#C8D4E3"
             },
             "line": {
              "color": "white"
             }
            },
            "type": "table"
           }
          ]
         },
         "layout": {
          "annotationdefaults": {
           "arrowcolor": "#2a3f5f",
           "arrowhead": 0,
           "arrowwidth": 1
          },
          "coloraxis": {
           "colorbar": {
            "outlinewidth": 0,
            "ticks": ""
           }
          },
          "colorscale": {
           "diverging": [
            [
             0,
             "#8e0152"
            ],
            [
             0.1,
             "#c51b7d"
            ],
            [
             0.2,
             "#de77ae"
            ],
            [
             0.3,
             "#f1b6da"
            ],
            [
             0.4,
             "#fde0ef"
            ],
            [
             0.5,
             "#f7f7f7"
            ],
            [
             0.6,
             "#e6f5d0"
            ],
            [
             0.7,
             "#b8e186"
            ],
            [
             0.8,
             "#7fbc41"
            ],
            [
             0.9,
             "#4d9221"
            ],
            [
             1,
             "#276419"
            ]
           ],
           "sequential": [
            [
             0,
             "#0d0887"
            ],
            [
             0.1111111111111111,
             "#46039f"
            ],
            [
             0.2222222222222222,
             "#7201a8"
            ],
            [
             0.3333333333333333,
             "#9c179e"
            ],
            [
             0.4444444444444444,
             "#bd3786"
            ],
            [
             0.5555555555555556,
             "#d8576b"
            ],
            [
             0.6666666666666666,
             "#ed7953"
            ],
            [
             0.7777777777777778,
             "#fb9f3a"
            ],
            [
             0.8888888888888888,
             "#fdca26"
            ],
            [
             1,
             "#f0f921"
            ]
           ],
           "sequentialminus": [
            [
             0,
             "#0d0887"
            ],
            [
             0.1111111111111111,
             "#46039f"
            ],
            [
             0.2222222222222222,
             "#7201a8"
            ],
            [
             0.3333333333333333,
             "#9c179e"
            ],
            [
             0.4444444444444444,
             "#bd3786"
            ],
            [
             0.5555555555555556,
             "#d8576b"
            ],
            [
             0.6666666666666666,
             "#ed7953"
            ],
            [
             0.7777777777777778,
             "#fb9f3a"
            ],
            [
             0.8888888888888888,
             "#fdca26"
            ],
            [
             1,
             "#f0f921"
            ]
           ]
          },
          "colorway": [
           "#636efa",
           "#EF553B",
           "#00cc96",
           "#ab63fa",
           "#FFA15A",
           "#19d3f3",
           "#FF6692",
           "#B6E880",
           "#FF97FF",
           "#FECB52"
          ],
          "font": {
           "color": "#2a3f5f"
          },
          "geo": {
           "bgcolor": "white",
           "lakecolor": "white",
           "landcolor": "#E5ECF6",
           "showlakes": true,
           "showland": true,
           "subunitcolor": "white"
          },
          "hoverlabel": {
           "align": "left"
          },
          "hovermode": "closest",
          "mapbox": {
           "style": "light"
          },
          "paper_bgcolor": "white",
          "plot_bgcolor": "#E5ECF6",
          "polar": {
           "angularaxis": {
            "gridcolor": "white",
            "linecolor": "white",
            "ticks": ""
           },
           "bgcolor": "#E5ECF6",
           "radialaxis": {
            "gridcolor": "white",
            "linecolor": "white",
            "ticks": ""
           }
          },
          "scene": {
           "xaxis": {
            "backgroundcolor": "#E5ECF6",
            "gridcolor": "white",
            "gridwidth": 2,
            "linecolor": "white",
            "showbackground": true,
            "ticks": "",
            "zerolinecolor": "white"
           },
           "yaxis": {
            "backgroundcolor": "#E5ECF6",
            "gridcolor": "white",
            "gridwidth": 2,
            "linecolor": "white",
            "showbackground": true,
            "ticks": "",
            "zerolinecolor": "white"
           },
           "zaxis": {
            "backgroundcolor": "#E5ECF6",
            "gridcolor": "white",
            "gridwidth": 2,
            "linecolor": "white",
            "showbackground": true,
            "ticks": "",
            "zerolinecolor": "white"
           }
          },
          "shapedefaults": {
           "line": {
            "color": "#2a3f5f"
           }
          },
          "ternary": {
           "aaxis": {
            "gridcolor": "white",
            "linecolor": "white",
            "ticks": ""
           },
           "baxis": {
            "gridcolor": "white",
            "linecolor": "white",
            "ticks": ""
           },
           "bgcolor": "#E5ECF6",
           "caxis": {
            "gridcolor": "white",
            "linecolor": "white",
            "ticks": ""
           }
          },
          "title": {
           "x": 0.05
          },
          "xaxis": {
           "automargin": true,
           "gridcolor": "white",
           "linecolor": "white",
           "ticks": "",
           "title": {
            "standoff": 15
           },
           "zerolinecolor": "white",
           "zerolinewidth": 2
          },
          "yaxis": {
           "automargin": true,
           "gridcolor": "white",
           "linecolor": "white",
           "ticks": "",
           "title": {
            "standoff": 15
           },
           "zerolinecolor": "white",
           "zerolinewidth": 2
          }
         }
        },
        "title": {
         "font": {
          "color": "#4D5663"
         },
         "text": "Distribution of the Weeks in the training set"
        },
        "xaxis": {
         "gridcolor": "white",
         "linecolor": "black",
         "showgrid": true,
         "tickfont": {
          "color": "#4D5663"
         },
         "title": {
          "font": {
           "color": "#4D5663"
          },
          "text": "Weeks"
         },
         "zerolinecolor": "#E1E5ED"
        },
        "yaxis": {
         "gridcolor": "white",
         "linecolor": "black",
         "showgrid": true,
         "tickfont": {
          "color": "#4D5663"
         },
         "title": {
          "font": {
           "color": "#4D5663"
          },
          "text": "Counts"
         },
         "zerolinecolor": "#E1E5ED"
        }
       }
      },
      "text/html": [
       "<div>\n",
       "        \n",
       "        \n",
       "            <div id=\"81d0f59a-bf16-43f7-8213-be3fda91e2b6\" class=\"plotly-graph-div\" style=\"height:525px; width:100%;\"></div>\n",
       "            <script type=\"text/javascript\">\n",
       "                require([\"plotly\"], function(Plotly) {\n",
       "                    window.PLOTLYENV=window.PLOTLYENV || {};\n",
       "                    window.PLOTLYENV.BASE_URL='https://plot.ly';\n",
       "                    \n",
       "                if (document.getElementById(\"81d0f59a-bf16-43f7-8213-be3fda91e2b6\")) {\n",
       "                    Plotly.newPlot(\n",
       "                        '81d0f59a-bf16-43f7-8213-be3fda91e2b6',\n",
       "                        [{\"histfunc\": \"count\", \"histnorm\": \"\", \"marker\": {\"color\": \"rgba(251, 128, 114, 1.0)\", \"line\": {\"color\": \"#000000\", \"width\": 1.3}}, \"name\": \"Weeks\", \"opacity\": 0.5, \"orientation\": \"v\", \"type\": \"histogram\", \"x\": [-4, 5, 7, 9, 11, 17, 29, 41, 57, 8, 9, 11, 13, 15, 22, 33, 45, 60, 0, 1, 3, 5, 7, 13, 25, 37, 54, 6, 7, 9, 11, 13, 19, 32, 43, 58, 33, 35, 37, 39, 41, 47, 58, 71, 87, 0, 2, 4, 6, 8, 14, 26, 37, 54, 12, 17, 19, 21, 31, 40, 52, 69, 13, 14, 16, 18, 20, 26, 38, 53, 66, 18, 19, 21, 23, 25, 31, 44, 54, 70, -3, 3, 5, 7, 9, 15, 27, 39, 55, 0, 1, 3, 6, 7, 14, 26, 38, 53, 41, 45, 47, 49, 51, 57, 69, 81, 98, 12, 14, 16, 18, 23, 26, 38, 51, 66, 19, 30, 33, 34, 36, 42, 54, 65, 30, 35, 37, 39, 41, 47, 59, 71, 87, 11, 12, 14, 16, 18, 24, 36, 49, 65, 6, 12, 15, 17, 19, 24, 36, 49, 63, 1, 6, 9, 11, 12, 18, 31, 44, 60, 2, 4, 6, 8, 10, 29, 9, 9, 11, 13, 15, 21, 33, 47, 61, -1, 1, 3, 6, 7, 13, 26, 37, 54, 48, 51, 53, 56, 58, 63, 75, 16, 18, 20, 23, 24, 31, 43, 55, 71, 23, 24, 26, 28, 30, 36, 48, 60, 76, 44, 46, 48, 50, 52, 58, 70, 83, 98, 4, 5, 7, 9, 11, 17, 28, 41, 11, 11, 13, 15, 16, 22, 35, 46, 62, 15, 18, 20, 22, 24, 30, 42, 55, 70, 3, 6, 8, 10, 12, 18, 30, 42, 25, 28, 29, 32, 33, 40, 51, 61, 79, -4, 3, 5, 6, 9, 15, 27, 40, 55, 5, 6, 8, 10, 12, 18, 29, 42, 59, 0, 5, 7, 9, 11, 17, 28, 40, 58, 19, 27, 29, 31, 33, 39, 51, 63, 79, -5, 6, 8, 9, 12, 18, 30, 42, 58, 7, 7, 9, 11, 14, 20, 31, 44, 60, 17, 21, 23, 27, 33, 44, 59, 73, -1, 3, 6, 8, 9, 16, 28, 39, 54, 0, 6, 9, 11, 12, 18, 30, 42, 58, 44, 47, 49, 51, 53, 58, 70, 83, 98, 102, 3, 5, 7, 9, 11, 17, 29, 41, 58, 20, 21, 23, 26, 28, 33, 45, 58, 44, 45, 47, 49, 51, 57, 69, 82, 97, 100, 11, 13, 15, 17, 19, 25, 37, 49, 65, 53, 55, 57, 59, 61, 67, 79, 91, 107, 15, 18, 20, 23, 25, 31, 42, 56, 9, 10, 13, 15, 17, 23, 36, 15, 17, 19, 21, 23, 29, 42, 52, 4, 8, 10, 12, 14, 20, 32, 44, 60, 2, 4, 6, 8, 10, 16, 28, 40, 56, 59, -4, 6, 8, 10, 12, 18, 30, 43, 58, 48, 49, 51, 53, 55, 61, 73, 85, 102, 47, 48, 50, 53, 55, 60, 72, 84, 100, 8, 8, 10, 12, 14, 20, 34, 45, 18, 26, 28, 30, 32, 38, 50, 62, 78, 44, 48, 50, 52, 54, 61, 72, 84, 100, 34, 36, 37, 39, 41, 47, 59, 0, 3, 5, 7, 10, 15, 27, 39, 56, 11, 12, 14, 17, 18, 24, 36, 48, 64, 63, 64, 66, 68, 70, 76, 89, 101, 116, 6, 10, 13, 14, 16, 22, 34, 46, 63, -2, 2, 4, 6, 8, 13, 27, 38, 54, 2, 8, 11, 13, 14, 21, 33, 44, 59, 31, 35, 37, 40, 42, 48, 60, 73, 89, 3, 6, 8, 10, 12, 18, 30, 43, 58, 14, 18, 20, 22, 24, 30, 42, 54, 70, 16, 21, 24, 25, 27, 33, 47, 58, 73, 16, 18, 20, 22, 24, 30, 42, 54, 70, 74, 44, 48, 50, 52, 54, 60, 73, 84, 100, 8, 10, 12, 14, 16, 22, 34, 46, 61, 79, 81, 83, 85, 87, 92, 104, 117, 133, 7, 11, 13, 15, 17, 23, 34, 47, 62, 66, 7, 8, 10, 12, 14, 21, 33, 44, 60, 12, 16, 18, 20, 23, 28, 40, 53, 66, 38, 44, 46, 48, 50, 56, 68, 79, 96, 35, 37, 39, 41, 43, 49, 60, 72, 92, 11, 17, 19, 21, 23, 29, 42, 53, 69, 9, 11, 13, 16, 18, 24, 35, 47, 63, 39, 42, 44, 46, 48, 54, 65, 77, 94, 29, 30, 32, 34, 37, 43, 55, 67, 83, 8, 11, 13, 15, 17, 23, 59, 4, 10, 12, 14, 16, 22, 34, 46, 62, 4, 12, 14, 15, 18, 24, 36, 48, 65, 9, 12, 14, 16, 18, 25, 36, 48, 66, 0, 5, 8, 10, 11, 18, 30, 41, 57, 5, 5, 7, 9, 12, 17, 30, 42, 57, 20, 21, 23, 25, 27, 33, 45, 58, 75, 33, 35, 37, 38, 41, 47, 59, 71, 86, 0, 3, 5, 7, 9, 16, 27, 39, 56, 6, 9, 11, 13, 14, 21, 32, 44, 61, 3, 4, 6, 8, 10, 16, 28, 40, 55, 10, 11, 13, 15, 17, 23, 34, 47, 63, 20, 22, 25, 26, 29, 34, 46, 59, 75, 0, 4, 7, 9, 11, 17, 27, 40, 56, 11, 12, 14, 16, 18, 24, 36, 48, 64, -1, 5, 7, 9, 11, 16, 29, 41, 57, 0, 3, 5, 7, 9, 15, 27, 39, 55, 13, 17, 19, 21, 23, 29, 54, 69, 14, 15, 18, 19, 21, 27, 40, 50, 67, 23, 26, 28, 30, 32, 38, 49, 62, 78, 82, 9, 11, 13, 15, 17, 23, 35, 47, 63, -3, 2, 4, 6, 9, 14, 27, 39, 54, 3, 4, 6, 8, 10, 16, 29, 41, 34, 35, 37, 40, 42, 47, 59, 71, 88, 5, 5, 8, 9, 12, 18, 30, 41, 57, 2, 4, 6, 8, 10, 16, 28, 40, 56, 4, 5, 7, 9, 10, 17, 28, 41, 58, 14, 15, 17, 19, 20, 27, 38, 51, 67, 34, 40, 42, 46, 52, 67, 76, 92, 21, 30, 32, 34, 37, 43, 55, 67, 83, 1, 3, 5, 7, 15, 29, 41, 55, 13, 14, 16, 19, 20, 26, 39, 51, 3, 5, 8, 10, 12, 31, 4, 8, 10, 12, 14, 20, 32, 44, 60, 48, 50, 52, 54, 56, 62, 74, 86, 102, 6, 7, 9, 11, 13, 19, 31, 8, 10, 12, 14, 17, 22, 34, 46, 63, 0, 3, 5, 7, 9, 15, 27, 39, 54, 4, 6, 8, 10, 12, 18, 30, 42, 58, 21, 22, 24, 26, 28, 34, 45, 57, 4, 15, 17, 18, 21, 26, 38, 51, 2, 4, 6, 8, 10, 16, 27, 43, 56, 5, 6, 7, 10, 12, 18, 29, 42, 59, 5, 8, 10, 12, 13, 20, 32, 44, 4, 6, 8, 9, 12, 18, 30, 42, 57, 22, 24, 26, 28, 30, 37, 48, 60, 76, 8, 10, 12, 14, 16, 22, 34, 46, 62, 3, 6, 8, 10, 12, 18, 31, 44, 58, 3, 5, 7, 9, 11, 18, 29, 41, 57, 0, 4, 6, 8, 10, 16, 28, 40, 57, 26, 32, 34, 35, 44, 56, 70, 85, 12, 16, 18, 20, 22, 29, 40, 52, 69, 3, 6, 8, 10, 11, 18, 30, 40, 57, 26, 27, 29, 31, 33, 39, 50, 64, 39, 43, 45, 47, 49, 54, 66, 79, 95, 28, 30, 32, 34, 36, 42, 55, 67, 82, 3, 4, 6, 8, 10, 16, 28, 40, 56, 6, 8, 10, 12, 14, 20, 33, 44, 29, 32, 34, 36, 38, 44, 57, 68, 85, 0, 6, 9, 10, 13, 18, 31, 41, 58, -1, 5, 8, 10, 12, 18, 30, 42, 58, 28, 32, 35, 36, 38, 44, 56, 68, 84, 23, 25, 27, 29, 31, 37, 49, 62, 78, 23, 25, 27, 28, 30, 36, 48, 62, 76, 79, 0, 4, 6, 8, 10, 16, 31, 14, 15, 17, 19, 21, 27, 39, 51, 66, 24, 28, 30, 32, 34, 40, 52, 65, 82, 4, 8, 12, 14, 20, 33, 45, 62, 3, 5, 7, 10, 12, 17, 29, 41, 57, 37, 41, 43, 45, 47, 53, 65, 77, 94, 35, 37, 39, 42, 43, 49, 61, 73, 35, 36, 38, 40, 42, 48, 59, 72, 87, 7, 11, 13, 15, 17, 23, 35, 47, 64, 12, 13, 15, 17, 19, 25, 37, 49, 64, 6, 8, 10, 12, 14, 20, 33, 44, 60, 39, 41, 44, 46, 48, 53, 65, 77, 93, 25, 27, 29, 31, 33, 39, 50, 63, 80, 5, 7, 9, 11, 13, 19, 31, 48, 50, 52, 54, 56, 63, 74, 86, 102, 0, 3, 5, 7, 8, 15, 27, 39, 56, 59, 5, 7, 9, 11, 13, 19, 31, 43, 59, 0, 6, 8, 10, 12, 18, 30, 41, 58, 11, 13, 15, 17, 19, 25, 37, 49, 29, 30, 32, 33, 36, 42, 54, 65, 82, 85, 42, 47, 49, 51, 53, 59, 71, 82, 99, 0, 6, 8, 11, 12, 18, 31, 42, 58, 21, 22, 24, 26, 28, 33, 46, 57, 75, 13, 14, 16, 18, 20, 26, 37, 50, 7, 8, 10, 12, 14, 20, 31, 45, 60, 7, 12, 14, 16, 18, 24, 36, 49, 63, 8, 9, 12, 13, 15, 21, 33, 45, 61, 6, 7, 9, 10, 13, 18, 31, 43, 59, 15, 17, 19, 21, 23, 29, 41, 54, 70, 70, 6, 11, 13, 15, 17, 23, 35, 47, 17, 18, 19, 21, 23, 30, 42, 53, 70, 0, 7, 9, 11, 13, 19, 31, 43, 59]}],\n",
       "                        {\"bargap\": 0.2, \"barmode\": \"overlay\", \"legend\": {\"bgcolor\": \"#F5F6F9\", \"font\": {\"color\": \"#4D5663\"}}, \"paper_bgcolor\": \"#F5F6F9\", \"plot_bgcolor\": \"#F5F6F9\", \"template\": {\"data\": {\"bar\": [{\"error_x\": {\"color\": \"#2a3f5f\"}, \"error_y\": {\"color\": \"#2a3f5f\"}, \"marker\": {\"line\": {\"color\": \"#E5ECF6\", \"width\": 0.5}}, \"type\": \"bar\"}], \"barpolar\": [{\"marker\": {\"line\": {\"color\": \"#E5ECF6\", \"width\": 0.5}}, \"type\": \"barpolar\"}], \"carpet\": [{\"aaxis\": {\"endlinecolor\": \"#2a3f5f\", \"gridcolor\": \"white\", \"linecolor\": \"white\", \"minorgridcolor\": \"white\", \"startlinecolor\": \"#2a3f5f\"}, \"baxis\": {\"endlinecolor\": \"#2a3f5f\", \"gridcolor\": \"white\", \"linecolor\": \"white\", \"minorgridcolor\": \"white\", \"startlinecolor\": \"#2a3f5f\"}, \"type\": \"carpet\"}], \"choropleth\": [{\"colorbar\": {\"outlinewidth\": 0, \"ticks\": \"\"}, \"type\": \"choropleth\"}], \"contour\": [{\"colorbar\": {\"outlinewidth\": 0, \"ticks\": \"\"}, \"colorscale\": [[0.0, \"#0d0887\"], [0.1111111111111111, \"#46039f\"], [0.2222222222222222, \"#7201a8\"], [0.3333333333333333, \"#9c179e\"], [0.4444444444444444, \"#bd3786\"], [0.5555555555555556, \"#d8576b\"], [0.6666666666666666, \"#ed7953\"], [0.7777777777777778, \"#fb9f3a\"], [0.8888888888888888, \"#fdca26\"], [1.0, \"#f0f921\"]], \"type\": \"contour\"}], \"contourcarpet\": [{\"colorbar\": {\"outlinewidth\": 0, \"ticks\": \"\"}, \"type\": \"contourcarpet\"}], \"heatmap\": [{\"colorbar\": {\"outlinewidth\": 0, \"ticks\": \"\"}, \"colorscale\": [[0.0, \"#0d0887\"], [0.1111111111111111, \"#46039f\"], [0.2222222222222222, \"#7201a8\"], [0.3333333333333333, \"#9c179e\"], [0.4444444444444444, \"#bd3786\"], [0.5555555555555556, \"#d8576b\"], [0.6666666666666666, \"#ed7953\"], [0.7777777777777778, \"#fb9f3a\"], [0.8888888888888888, \"#fdca26\"], [1.0, \"#f0f921\"]], \"type\": \"heatmap\"}], \"heatmapgl\": [{\"colorbar\": {\"outlinewidth\": 0, \"ticks\": \"\"}, \"colorscale\": [[0.0, \"#0d0887\"], [0.1111111111111111, \"#46039f\"], [0.2222222222222222, \"#7201a8\"], [0.3333333333333333, \"#9c179e\"], [0.4444444444444444, \"#bd3786\"], [0.5555555555555556, \"#d8576b\"], [0.6666666666666666, \"#ed7953\"], [0.7777777777777778, \"#fb9f3a\"], [0.8888888888888888, \"#fdca26\"], [1.0, \"#f0f921\"]], \"type\": \"heatmapgl\"}], \"histogram\": [{\"marker\": {\"colorbar\": {\"outlinewidth\": 0, \"ticks\": \"\"}}, \"type\": \"histogram\"}], \"histogram2d\": [{\"colorbar\": {\"outlinewidth\": 0, \"ticks\": \"\"}, \"colorscale\": [[0.0, \"#0d0887\"], [0.1111111111111111, \"#46039f\"], [0.2222222222222222, \"#7201a8\"], [0.3333333333333333, \"#9c179e\"], [0.4444444444444444, \"#bd3786\"], [0.5555555555555556, \"#d8576b\"], [0.6666666666666666, \"#ed7953\"], [0.7777777777777778, \"#fb9f3a\"], [0.8888888888888888, \"#fdca26\"], [1.0, \"#f0f921\"]], \"type\": \"histogram2d\"}], \"histogram2dcontour\": [{\"colorbar\": {\"outlinewidth\": 0, \"ticks\": \"\"}, \"colorscale\": [[0.0, \"#0d0887\"], [0.1111111111111111, \"#46039f\"], [0.2222222222222222, \"#7201a8\"], [0.3333333333333333, \"#9c179e\"], [0.4444444444444444, \"#bd3786\"], [0.5555555555555556, \"#d8576b\"], [0.6666666666666666, \"#ed7953\"], [0.7777777777777778, \"#fb9f3a\"], [0.8888888888888888, \"#fdca26\"], [1.0, \"#f0f921\"]], \"type\": \"histogram2dcontour\"}], \"mesh3d\": [{\"colorbar\": {\"outlinewidth\": 0, \"ticks\": \"\"}, \"type\": \"mesh3d\"}], \"parcoords\": [{\"line\": {\"colorbar\": {\"outlinewidth\": 0, \"ticks\": \"\"}}, \"type\": \"parcoords\"}], \"pie\": [{\"automargin\": true, \"type\": \"pie\"}], \"scatter\": [{\"marker\": {\"colorbar\": {\"outlinewidth\": 0, \"ticks\": \"\"}}, \"type\": \"scatter\"}], \"scatter3d\": [{\"line\": {\"colorbar\": {\"outlinewidth\": 0, \"ticks\": \"\"}}, \"marker\": {\"colorbar\": {\"outlinewidth\": 0, \"ticks\": \"\"}}, \"type\": \"scatter3d\"}], \"scattercarpet\": [{\"marker\": {\"colorbar\": {\"outlinewidth\": 0, \"ticks\": \"\"}}, \"type\": \"scattercarpet\"}], \"scattergeo\": [{\"marker\": {\"colorbar\": {\"outlinewidth\": 0, \"ticks\": \"\"}}, \"type\": \"scattergeo\"}], \"scattergl\": [{\"marker\": {\"colorbar\": {\"outlinewidth\": 0, \"ticks\": \"\"}}, \"type\": \"scattergl\"}], \"scattermapbox\": [{\"marker\": {\"colorbar\": {\"outlinewidth\": 0, \"ticks\": \"\"}}, \"type\": \"scattermapbox\"}], \"scatterpolar\": [{\"marker\": {\"colorbar\": {\"outlinewidth\": 0, \"ticks\": \"\"}}, \"type\": \"scatterpolar\"}], \"scatterpolargl\": [{\"marker\": {\"colorbar\": {\"outlinewidth\": 0, \"ticks\": \"\"}}, \"type\": \"scatterpolargl\"}], \"scatterternary\": [{\"marker\": {\"colorbar\": {\"outlinewidth\": 0, \"ticks\": \"\"}}, \"type\": \"scatterternary\"}], \"surface\": [{\"colorbar\": {\"outlinewidth\": 0, \"ticks\": \"\"}, \"colorscale\": [[0.0, \"#0d0887\"], [0.1111111111111111, \"#46039f\"], [0.2222222222222222, \"#7201a8\"], [0.3333333333333333, \"#9c179e\"], [0.4444444444444444, \"#bd3786\"], [0.5555555555555556, \"#d8576b\"], [0.6666666666666666, \"#ed7953\"], [0.7777777777777778, \"#fb9f3a\"], [0.8888888888888888, \"#fdca26\"], [1.0, \"#f0f921\"]], \"type\": \"surface\"}], \"table\": [{\"cells\": {\"fill\": {\"color\": \"#EBF0F8\"}, \"line\": {\"color\": \"white\"}}, \"header\": {\"fill\": {\"color\": \"#C8D4E3\"}, \"line\": {\"color\": \"white\"}}, \"type\": \"table\"}]}, \"layout\": {\"annotationdefaults\": {\"arrowcolor\": \"#2a3f5f\", \"arrowhead\": 0, \"arrowwidth\": 1}, \"coloraxis\": {\"colorbar\": {\"outlinewidth\": 0, \"ticks\": \"\"}}, \"colorscale\": {\"diverging\": [[0, \"#8e0152\"], [0.1, \"#c51b7d\"], [0.2, \"#de77ae\"], [0.3, \"#f1b6da\"], [0.4, \"#fde0ef\"], [0.5, \"#f7f7f7\"], [0.6, \"#e6f5d0\"], [0.7, \"#b8e186\"], [0.8, \"#7fbc41\"], [0.9, \"#4d9221\"], [1, \"#276419\"]], \"sequential\": [[0.0, \"#0d0887\"], [0.1111111111111111, \"#46039f\"], [0.2222222222222222, \"#7201a8\"], [0.3333333333333333, \"#9c179e\"], [0.4444444444444444, \"#bd3786\"], [0.5555555555555556, \"#d8576b\"], [0.6666666666666666, \"#ed7953\"], [0.7777777777777778, \"#fb9f3a\"], [0.8888888888888888, \"#fdca26\"], [1.0, \"#f0f921\"]], \"sequentialminus\": [[0.0, \"#0d0887\"], [0.1111111111111111, \"#46039f\"], [0.2222222222222222, \"#7201a8\"], [0.3333333333333333, \"#9c179e\"], [0.4444444444444444, \"#bd3786\"], [0.5555555555555556, \"#d8576b\"], [0.6666666666666666, \"#ed7953\"], [0.7777777777777778, \"#fb9f3a\"], [0.8888888888888888, \"#fdca26\"], [1.0, \"#f0f921\"]]}, \"colorway\": [\"#636efa\", \"#EF553B\", \"#00cc96\", \"#ab63fa\", \"#FFA15A\", \"#19d3f3\", \"#FF6692\", \"#B6E880\", \"#FF97FF\", \"#FECB52\"], \"font\": {\"color\": \"#2a3f5f\"}, \"geo\": {\"bgcolor\": \"white\", \"lakecolor\": \"white\", \"landcolor\": \"#E5ECF6\", \"showlakes\": true, \"showland\": true, \"subunitcolor\": \"white\"}, \"hoverlabel\": {\"align\": \"left\"}, \"hovermode\": \"closest\", \"mapbox\": {\"style\": \"light\"}, \"paper_bgcolor\": \"white\", \"plot_bgcolor\": \"#E5ECF6\", \"polar\": {\"angularaxis\": {\"gridcolor\": \"white\", \"linecolor\": \"white\", \"ticks\": \"\"}, \"bgcolor\": \"#E5ECF6\", \"radialaxis\": {\"gridcolor\": \"white\", \"linecolor\": \"white\", \"ticks\": \"\"}}, \"scene\": {\"xaxis\": {\"backgroundcolor\": \"#E5ECF6\", \"gridcolor\": \"white\", \"gridwidth\": 2, \"linecolor\": \"white\", \"showbackground\": true, \"ticks\": \"\", \"zerolinecolor\": \"white\"}, \"yaxis\": {\"backgroundcolor\": \"#E5ECF6\", \"gridcolor\": \"white\", \"gridwidth\": 2, \"linecolor\": \"white\", \"showbackground\": true, \"ticks\": \"\", \"zerolinecolor\": \"white\"}, \"zaxis\": {\"backgroundcolor\": \"#E5ECF6\", \"gridcolor\": \"white\", \"gridwidth\": 2, \"linecolor\": \"white\", \"showbackground\": true, \"ticks\": \"\", \"zerolinecolor\": \"white\"}}, \"shapedefaults\": {\"line\": {\"color\": \"#2a3f5f\"}}, \"ternary\": {\"aaxis\": {\"gridcolor\": \"white\", \"linecolor\": \"white\", \"ticks\": \"\"}, \"baxis\": {\"gridcolor\": \"white\", \"linecolor\": \"white\", \"ticks\": \"\"}, \"bgcolor\": \"#E5ECF6\", \"caxis\": {\"gridcolor\": \"white\", \"linecolor\": \"white\", \"ticks\": \"\"}}, \"title\": {\"x\": 0.05}, \"xaxis\": {\"automargin\": true, \"gridcolor\": \"white\", \"linecolor\": \"white\", \"ticks\": \"\", \"title\": {\"standoff\": 15}, \"zerolinecolor\": \"white\", \"zerolinewidth\": 2}, \"yaxis\": {\"automargin\": true, \"gridcolor\": \"white\", \"linecolor\": \"white\", \"ticks\": \"\", \"title\": {\"standoff\": 15}, \"zerolinecolor\": \"white\", \"zerolinewidth\": 2}}}, \"title\": {\"font\": {\"color\": \"#4D5663\"}, \"text\": \"Distribution of the Weeks in the training set\"}, \"xaxis\": {\"gridcolor\": \"white\", \"linecolor\": \"black\", \"showgrid\": true, \"tickfont\": {\"color\": \"#4D5663\"}, \"title\": {\"font\": {\"color\": \"#4D5663\"}, \"text\": \"Weeks\"}, \"zerolinecolor\": \"#E1E5ED\"}, \"yaxis\": {\"gridcolor\": \"white\", \"linecolor\": \"black\", \"showgrid\": true, \"tickfont\": {\"color\": \"#4D5663\"}, \"title\": {\"font\": {\"color\": \"#4D5663\"}, \"text\": \"Counts\"}, \"zerolinecolor\": \"#E1E5ED\"}},\n",
       "                        {\"showLink\": true, \"linkText\": \"Export to plot.ly\", \"plotlyServerURL\": \"https://plot.ly\", \"responsive\": true}\n",
       "                    ).then(function(){\n",
       "                            \n",
       "var gd = document.getElementById('81d0f59a-bf16-43f7-8213-be3fda91e2b6');\n",
       "var x = new MutationObserver(function (mutations, observer) {{\n",
       "        var display = window.getComputedStyle(gd).display;\n",
       "        if (!display || display === 'none') {{\n",
       "            console.log([gd, 'removed!']);\n",
       "            Plotly.purge(gd);\n",
       "            observer.disconnect();\n",
       "        }}\n",
       "}});\n",
       "\n",
       "// Listen for the removal of the full notebook cells\n",
       "var notebookContainer = gd.closest('#notebook-container');\n",
       "if (notebookContainer) {{\n",
       "    x.observe(notebookContainer, {childList: true});\n",
       "}}\n",
       "\n",
       "// Listen for the clearing of the current output cell\n",
       "var outputEl = gd.closest('.output');\n",
       "if (outputEl) {{\n",
       "    x.observe(outputEl, {childList: true});\n",
       "}}\n",
       "\n",
       "                        })\n",
       "                };\n",
       "                });\n",
       "            </script>\n",
       "        </div>"
      ]
     },
     "metadata": {},
     "output_type": "display_data"
    }
   ],
   "source": [
    "train_df['Weeks'].iplot(kind='hist',\n",
    "                              xTitle='Weeks', \n",
    "                              yTitle='Counts',\n",
    "                              linecolor='black', \n",
    "                              opacity=0.5,\n",
    "                              color='#FB8072',\n",
    "                              theme='pearl',\n",
    "                              bargap=0.2,\n",
    "                              gridcolor='white',\n",
    "                              title='Distribution of the Weeks in the training set')"
   ]
  },
  {
   "cell_type": "code",
   "execution_count": 63,
   "metadata": {},
   "outputs": [
    {
     "data": {
      "application/vnd.plotly.v1+json": {
       "config": {
        "plotlyServerURL": "https://plot.ly"
       },
       "data": [
        {
         "hovertemplate": "Sex=Male<br>Weeks=%{x}<br>Age=%{y}<extra></extra>",
         "legendgroup": "Male",
         "marker": {
          "color": "#636efa",
          "symbol": "circle"
         },
         "mode": "markers",
         "name": "Male",
         "showlegend": true,
         "type": "scattergl",
         "x": [
          -4,
          5,
          7,
          9,
          11,
          17,
          29,
          41,
          57,
          8,
          9,
          11,
          13,
          15,
          22,
          33,
          45,
          60,
          0,
          1,
          3,
          5,
          7,
          13,
          25,
          37,
          54,
          6,
          7,
          9,
          11,
          13,
          19,
          32,
          43,
          58,
          33,
          35,
          37,
          39,
          41,
          47,
          58,
          71,
          87,
          0,
          2,
          4,
          6,
          8,
          14,
          26,
          37,
          54,
          12,
          17,
          19,
          21,
          31,
          40,
          52,
          69,
          0,
          1,
          3,
          6,
          7,
          14,
          26,
          38,
          53,
          41,
          45,
          47,
          49,
          51,
          57,
          69,
          81,
          98,
          12,
          14,
          16,
          18,
          23,
          26,
          38,
          51,
          66,
          19,
          30,
          33,
          34,
          36,
          42,
          54,
          65,
          30,
          35,
          37,
          39,
          41,
          47,
          59,
          71,
          87,
          11,
          12,
          14,
          16,
          18,
          24,
          36,
          49,
          65,
          6,
          12,
          15,
          17,
          19,
          24,
          36,
          49,
          63,
          1,
          6,
          9,
          11,
          12,
          18,
          31,
          44,
          60,
          2,
          4,
          6,
          8,
          10,
          29,
          48,
          51,
          53,
          56,
          58,
          63,
          75,
          16,
          18,
          20,
          23,
          24,
          31,
          43,
          55,
          71,
          23,
          24,
          26,
          28,
          30,
          36,
          48,
          60,
          76,
          44,
          46,
          48,
          50,
          52,
          58,
          70,
          83,
          98,
          4,
          5,
          7,
          9,
          11,
          17,
          28,
          41,
          11,
          11,
          13,
          15,
          16,
          22,
          35,
          46,
          62,
          15,
          18,
          20,
          22,
          24,
          30,
          42,
          55,
          70,
          3,
          6,
          8,
          10,
          12,
          18,
          30,
          42,
          -4,
          3,
          5,
          6,
          9,
          15,
          27,
          40,
          55,
          5,
          6,
          8,
          10,
          12,
          18,
          29,
          42,
          59,
          7,
          7,
          9,
          11,
          14,
          20,
          31,
          44,
          60,
          17,
          21,
          23,
          27,
          33,
          44,
          59,
          73,
          -1,
          3,
          6,
          8,
          9,
          16,
          28,
          39,
          54,
          0,
          6,
          9,
          11,
          12,
          18,
          30,
          42,
          58,
          44,
          47,
          49,
          51,
          53,
          58,
          70,
          83,
          98,
          102,
          3,
          5,
          7,
          9,
          11,
          17,
          29,
          41,
          58,
          20,
          21,
          23,
          26,
          28,
          33,
          45,
          58,
          44,
          45,
          47,
          49,
          51,
          57,
          69,
          82,
          97,
          100,
          11,
          13,
          15,
          17,
          19,
          25,
          37,
          49,
          65,
          53,
          55,
          57,
          59,
          61,
          67,
          79,
          91,
          107,
          15,
          18,
          20,
          23,
          25,
          31,
          42,
          56,
          9,
          10,
          13,
          15,
          17,
          23,
          36,
          15,
          17,
          19,
          21,
          23,
          29,
          42,
          52,
          4,
          8,
          10,
          12,
          14,
          20,
          32,
          44,
          60,
          2,
          4,
          6,
          8,
          10,
          16,
          28,
          40,
          56,
          59,
          -4,
          6,
          8,
          10,
          12,
          18,
          30,
          43,
          58,
          47,
          48,
          50,
          53,
          55,
          60,
          72,
          84,
          100,
          8,
          8,
          10,
          12,
          14,
          20,
          34,
          45,
          18,
          26,
          28,
          30,
          32,
          38,
          50,
          62,
          78,
          0,
          3,
          5,
          7,
          10,
          15,
          27,
          39,
          56,
          63,
          64,
          66,
          68,
          70,
          76,
          89,
          101,
          116,
          6,
          10,
          13,
          14,
          16,
          22,
          34,
          46,
          63,
          -2,
          2,
          4,
          6,
          8,
          13,
          27,
          38,
          54,
          2,
          8,
          11,
          13,
          14,
          21,
          33,
          44,
          59,
          31,
          35,
          37,
          40,
          42,
          48,
          60,
          73,
          89,
          3,
          6,
          8,
          10,
          12,
          18,
          30,
          43,
          58,
          14,
          18,
          20,
          22,
          24,
          30,
          42,
          54,
          70,
          16,
          21,
          24,
          25,
          27,
          33,
          47,
          58,
          73,
          16,
          18,
          20,
          22,
          24,
          30,
          42,
          54,
          70,
          74,
          8,
          10,
          12,
          14,
          16,
          22,
          34,
          46,
          61,
          79,
          81,
          83,
          85,
          87,
          92,
          104,
          117,
          133,
          7,
          11,
          13,
          15,
          17,
          23,
          34,
          47,
          62,
          66,
          7,
          8,
          10,
          12,
          14,
          21,
          33,
          44,
          60,
          35,
          37,
          39,
          41,
          43,
          49,
          60,
          72,
          92,
          11,
          17,
          19,
          21,
          23,
          29,
          42,
          53,
          69,
          9,
          11,
          13,
          16,
          18,
          24,
          35,
          47,
          63,
          39,
          42,
          44,
          46,
          48,
          54,
          65,
          77,
          94,
          29,
          30,
          32,
          34,
          37,
          43,
          55,
          67,
          83,
          8,
          11,
          13,
          15,
          17,
          23,
          59,
          4,
          10,
          12,
          14,
          16,
          22,
          34,
          46,
          62,
          9,
          12,
          14,
          16,
          18,
          25,
          36,
          48,
          66,
          0,
          5,
          8,
          10,
          11,
          18,
          30,
          41,
          57,
          5,
          5,
          7,
          9,
          12,
          17,
          30,
          42,
          57,
          20,
          21,
          23,
          25,
          27,
          33,
          45,
          58,
          75,
          33,
          35,
          37,
          38,
          41,
          47,
          59,
          71,
          86,
          0,
          3,
          5,
          7,
          9,
          16,
          27,
          39,
          56,
          6,
          9,
          11,
          13,
          14,
          21,
          32,
          44,
          61,
          3,
          4,
          6,
          8,
          10,
          16,
          28,
          40,
          55,
          10,
          11,
          13,
          15,
          17,
          23,
          34,
          47,
          63,
          20,
          22,
          25,
          26,
          29,
          34,
          46,
          59,
          75,
          0,
          4,
          7,
          9,
          11,
          17,
          27,
          40,
          56,
          -1,
          5,
          7,
          9,
          11,
          16,
          29,
          41,
          57,
          0,
          3,
          5,
          7,
          9,
          15,
          27,
          39,
          55,
          23,
          26,
          28,
          30,
          32,
          38,
          49,
          62,
          78,
          82,
          -3,
          2,
          4,
          6,
          9,
          14,
          27,
          39,
          54,
          3,
          4,
          6,
          8,
          10,
          16,
          29,
          41,
          34,
          35,
          37,
          40,
          42,
          47,
          59,
          71,
          88,
          5,
          5,
          8,
          9,
          12,
          18,
          30,
          41,
          57,
          4,
          5,
          7,
          9,
          10,
          17,
          28,
          41,
          58,
          34,
          40,
          42,
          46,
          52,
          67,
          76,
          92,
          21,
          30,
          32,
          34,
          37,
          43,
          55,
          67,
          83,
          4,
          8,
          10,
          12,
          14,
          20,
          32,
          44,
          60,
          6,
          7,
          9,
          11,
          13,
          19,
          31,
          8,
          10,
          12,
          14,
          17,
          22,
          34,
          46,
          63,
          0,
          3,
          5,
          7,
          9,
          15,
          27,
          39,
          54,
          4,
          15,
          17,
          18,
          21,
          26,
          38,
          51,
          2,
          4,
          6,
          8,
          10,
          16,
          27,
          43,
          56,
          5,
          6,
          7,
          10,
          12,
          18,
          29,
          42,
          59,
          5,
          8,
          10,
          12,
          13,
          20,
          32,
          44,
          22,
          24,
          26,
          28,
          30,
          37,
          48,
          60,
          76,
          8,
          10,
          12,
          14,
          16,
          22,
          34,
          46,
          62,
          3,
          6,
          8,
          10,
          12,
          18,
          31,
          44,
          58,
          3,
          5,
          7,
          9,
          11,
          18,
          29,
          41,
          57,
          26,
          32,
          34,
          35,
          44,
          56,
          70,
          85,
          12,
          16,
          18,
          20,
          22,
          29,
          40,
          52,
          69,
          3,
          6,
          8,
          10,
          11,
          18,
          30,
          40,
          57,
          26,
          27,
          29,
          31,
          33,
          39,
          50,
          64,
          39,
          43,
          45,
          47,
          49,
          54,
          66,
          79,
          95,
          28,
          30,
          32,
          34,
          36,
          42,
          55,
          67,
          82,
          3,
          4,
          6,
          8,
          10,
          16,
          28,
          40,
          56,
          6,
          8,
          10,
          12,
          14,
          20,
          33,
          44,
          29,
          32,
          34,
          36,
          38,
          44,
          57,
          68,
          85,
          0,
          6,
          9,
          10,
          13,
          18,
          31,
          41,
          58,
          -1,
          5,
          8,
          10,
          12,
          18,
          30,
          42,
          58,
          23,
          25,
          27,
          29,
          31,
          37,
          49,
          62,
          78,
          0,
          4,
          6,
          8,
          10,
          16,
          31,
          14,
          15,
          17,
          19,
          21,
          27,
          39,
          51,
          66,
          24,
          28,
          30,
          32,
          34,
          40,
          52,
          65,
          82,
          4,
          8,
          12,
          14,
          20,
          33,
          45,
          62,
          3,
          5,
          7,
          10,
          12,
          17,
          29,
          41,
          57,
          37,
          41,
          43,
          45,
          47,
          53,
          65,
          77,
          94,
          35,
          37,
          39,
          42,
          43,
          49,
          61,
          73,
          7,
          11,
          13,
          15,
          17,
          23,
          35,
          47,
          64,
          12,
          13,
          15,
          17,
          19,
          25,
          37,
          49,
          64,
          6,
          8,
          10,
          12,
          14,
          20,
          33,
          44,
          60,
          39,
          41,
          44,
          46,
          48,
          53,
          65,
          77,
          93,
          25,
          27,
          29,
          31,
          33,
          39,
          50,
          63,
          80,
          5,
          7,
          9,
          11,
          13,
          19,
          31,
          0,
          3,
          5,
          7,
          8,
          15,
          27,
          39,
          56,
          59,
          5,
          7,
          9,
          11,
          13,
          19,
          31,
          43,
          59,
          0,
          6,
          8,
          10,
          12,
          18,
          30,
          41,
          58,
          11,
          13,
          15,
          17,
          19,
          25,
          37,
          49,
          29,
          30,
          32,
          33,
          36,
          42,
          54,
          65,
          82,
          85,
          21,
          22,
          24,
          26,
          28,
          33,
          46,
          57,
          75,
          13,
          14,
          16,
          18,
          20,
          26,
          37,
          50,
          7,
          8,
          10,
          12,
          14,
          20,
          31,
          45,
          60,
          7,
          12,
          14,
          16,
          18,
          24,
          36,
          49,
          63,
          8,
          9,
          12,
          13,
          15,
          21,
          33,
          45,
          61,
          6,
          7,
          9,
          10,
          13,
          18,
          31,
          43,
          59,
          15,
          17,
          19,
          21,
          23,
          29,
          41,
          54,
          70,
          70,
          6,
          11,
          13,
          15,
          17,
          23,
          35,
          47,
          17,
          18,
          19,
          21,
          23,
          30,
          42,
          53,
          70,
          0,
          7,
          9,
          11,
          13,
          19,
          31,
          43,
          59
         ],
         "xaxis": "x",
         "y": [
          79,
          79,
          79,
          79,
          79,
          79,
          79,
          79,
          79,
          69,
          69,
          69,
          69,
          69,
          69,
          69,
          69,
          69,
          60,
          60,
          60,
          60,
          60,
          60,
          60,
          60,
          60,
          72,
          72,
          72,
          72,
          72,
          72,
          72,
          72,
          72,
          65,
          65,
          65,
          65,
          65,
          65,
          65,
          65,
          65,
          56,
          56,
          56,
          56,
          56,
          56,
          56,
          56,
          56,
          71,
          71,
          71,
          71,
          71,
          71,
          71,
          71,
          65,
          65,
          65,
          65,
          65,
          65,
          65,
          65,
          65,
          57,
          57,
          57,
          57,
          57,
          57,
          57,
          57,
          57,
          73,
          73,
          73,
          73,
          73,
          73,
          73,
          73,
          73,
          69,
          69,
          69,
          69,
          69,
          69,
          69,
          69,
          63,
          63,
          63,
          63,
          63,
          63,
          63,
          63,
          63,
          69,
          69,
          69,
          69,
          69,
          69,
          69,
          69,
          69,
          71,
          71,
          71,
          71,
          71,
          71,
          71,
          71,
          71,
          58,
          58,
          58,
          58,
          58,
          58,
          58,
          58,
          58,
          68,
          68,
          68,
          68,
          68,
          68,
          54,
          54,
          54,
          54,
          54,
          54,
          54,
          63,
          63,
          63,
          63,
          63,
          63,
          63,
          63,
          63,
          68,
          68,
          68,
          68,
          68,
          68,
          68,
          68,
          68,
          74,
          74,
          74,
          74,
          74,
          74,
          74,
          74,
          74,
          64,
          64,
          64,
          64,
          64,
          64,
          64,
          64,
          73,
          73,
          73,
          73,
          73,
          73,
          73,
          73,
          73,
          71,
          71,
          71,
          71,
          71,
          71,
          71,
          71,
          71,
          69,
          69,
          69,
          69,
          69,
          69,
          69,
          69,
          51,
          51,
          51,
          51,
          51,
          51,
          51,
          51,
          51,
          70,
          70,
          70,
          70,
          70,
          70,
          70,
          70,
          70,
          63,
          63,
          63,
          63,
          63,
          63,
          63,
          63,
          63,
          69,
          69,
          69,
          69,
          69,
          69,
          69,
          69,
          69,
          69,
          69,
          69,
          69,
          69,
          69,
          69,
          69,
          64,
          64,
          64,
          64,
          64,
          64,
          64,
          64,
          64,
          68,
          68,
          68,
          68,
          68,
          68,
          68,
          68,
          68,
          68,
          60,
          60,
          60,
          60,
          60,
          60,
          60,
          60,
          60,
          74,
          74,
          74,
          74,
          74,
          74,
          74,
          74,
          64,
          64,
          64,
          64,
          64,
          64,
          64,
          64,
          64,
          64,
          73,
          73,
          73,
          73,
          73,
          73,
          73,
          73,
          73,
          73,
          73,
          73,
          73,
          73,
          73,
          73,
          73,
          73,
          74,
          74,
          74,
          74,
          74,
          74,
          74,
          74,
          72,
          72,
          72,
          72,
          72,
          72,
          72,
          77,
          77,
          77,
          77,
          77,
          77,
          77,
          77,
          68,
          68,
          68,
          68,
          68,
          68,
          68,
          68,
          68,
          57,
          57,
          57,
          57,
          57,
          57,
          57,
          57,
          57,
          57,
          58,
          58,
          58,
          58,
          58,
          58,
          58,
          58,
          58,
          60,
          60,
          60,
          60,
          60,
          60,
          60,
          60,
          60,
          65,
          65,
          65,
          65,
          65,
          65,
          65,
          65,
          78,
          78,
          78,
          78,
          78,
          78,
          78,
          78,
          78,
          71,
          71,
          71,
          71,
          71,
          71,
          71,
          71,
          71,
          61,
          61,
          61,
          61,
          61,
          61,
          61,
          61,
          61,
          69,
          69,
          69,
          69,
          69,
          69,
          69,
          69,
          69,
          83,
          83,
          83,
          83,
          83,
          83,
          83,
          83,
          83,
          67,
          67,
          67,
          67,
          67,
          67,
          67,
          67,
          67,
          65,
          65,
          65,
          65,
          65,
          65,
          65,
          65,
          65,
          64,
          64,
          64,
          64,
          64,
          64,
          64,
          64,
          64,
          66,
          66,
          66,
          66,
          66,
          66,
          66,
          66,
          66,
          76,
          76,
          76,
          76,
          76,
          76,
          76,
          76,
          76,
          58,
          58,
          58,
          58,
          58,
          58,
          58,
          58,
          58,
          58,
          63,
          63,
          63,
          63,
          63,
          63,
          63,
          63,
          63,
          54,
          54,
          54,
          54,
          54,
          54,
          54,
          54,
          54,
          58,
          58,
          58,
          58,
          58,
          58,
          58,
          58,
          58,
          58,
          62,
          62,
          62,
          62,
          62,
          62,
          62,
          62,
          62,
          73,
          73,
          73,
          73,
          73,
          73,
          73,
          73,
          73,
          73,
          73,
          73,
          73,
          73,
          73,
          73,
          73,
          73,
          68,
          68,
          68,
          68,
          68,
          68,
          68,
          68,
          68,
          71,
          71,
          71,
          71,
          71,
          71,
          71,
          71,
          71,
          52,
          52,
          52,
          52,
          52,
          52,
          52,
          52,
          52,
          69,
          69,
          69,
          69,
          69,
          69,
          69,
          69,
          69,
          69,
          69,
          69,
          69,
          69,
          69,
          69,
          65,
          65,
          65,
          65,
          65,
          65,
          65,
          65,
          65,
          65,
          65,
          65,
          65,
          65,
          65,
          65,
          65,
          65,
          62,
          62,
          62,
          62,
          62,
          62,
          62,
          62,
          62,
          64,
          64,
          64,
          64,
          64,
          64,
          64,
          64,
          64,
          67,
          67,
          67,
          67,
          67,
          67,
          67,
          67,
          67,
          76,
          76,
          76,
          76,
          76,
          76,
          76,
          76,
          76,
          70,
          70,
          70,
          70,
          70,
          70,
          70,
          70,
          70,
          69,
          69,
          69,
          69,
          69,
          69,
          69,
          69,
          69,
          65,
          65,
          65,
          65,
          65,
          65,
          65,
          65,
          65,
          81,
          81,
          81,
          81,
          81,
          81,
          81,
          81,
          81,
          71,
          71,
          71,
          71,
          71,
          71,
          71,
          71,
          71,
          70,
          70,
          70,
          70,
          70,
          70,
          70,
          70,
          70,
          72,
          72,
          72,
          72,
          72,
          72,
          72,
          72,
          72,
          71,
          71,
          71,
          71,
          71,
          71,
          71,
          71,
          71,
          71,
          68,
          68,
          68,
          68,
          68,
          68,
          68,
          68,
          68,
          66,
          66,
          66,
          66,
          66,
          66,
          66,
          66,
          67,
          67,
          67,
          67,
          67,
          67,
          67,
          67,
          67,
          63,
          63,
          63,
          63,
          63,
          63,
          63,
          63,
          63,
          64,
          64,
          64,
          64,
          64,
          64,
          64,
          64,
          64,
          56,
          56,
          56,
          56,
          56,
          56,
          56,
          56,
          88,
          88,
          88,
          88,
          88,
          88,
          88,
          88,
          88,
          60,
          60,
          60,
          60,
          60,
          60,
          60,
          60,
          60,
          77,
          77,
          77,
          77,
          77,
          77,
          77,
          70,
          70,
          70,
          70,
          70,
          70,
          70,
          70,
          70,
          60,
          60,
          60,
          60,
          60,
          60,
          60,
          60,
          60,
          75,
          75,
          75,
          75,
          75,
          75,
          75,
          75,
          72,
          72,
          72,
          72,
          72,
          72,
          72,
          72,
          72,
          74,
          74,
          74,
          74,
          74,
          74,
          74,
          74,
          74,
          58,
          58,
          58,
          58,
          58,
          58,
          58,
          58,
          78,
          78,
          78,
          78,
          78,
          78,
          78,
          78,
          78,
          62,
          62,
          62,
          62,
          62,
          62,
          62,
          62,
          62,
          65,
          65,
          65,
          65,
          65,
          65,
          65,
          65,
          65,
          73,
          73,
          73,
          73,
          73,
          73,
          73,
          73,
          73,
          64,
          64,
          64,
          64,
          64,
          64,
          64,
          64,
          72,
          72,
          72,
          72,
          72,
          72,
          72,
          72,
          72,
          59,
          59,
          59,
          59,
          59,
          59,
          59,
          59,
          59,
          77,
          77,
          77,
          77,
          77,
          77,
          77,
          77,
          69,
          69,
          69,
          69,
          69,
          69,
          69,
          69,
          69,
          69,
          69,
          69,
          69,
          69,
          69,
          69,
          69,
          69,
          74,
          74,
          74,
          74,
          74,
          74,
          74,
          74,
          74,
          56,
          56,
          56,
          56,
          56,
          56,
          56,
          56,
          69,
          69,
          69,
          69,
          69,
          69,
          69,
          69,
          69,
          64,
          64,
          64,
          64,
          64,
          64,
          64,
          64,
          64,
          68,
          68,
          68,
          68,
          68,
          68,
          68,
          68,
          68,
          72,
          72,
          72,
          72,
          72,
          72,
          72,
          72,
          72,
          58,
          58,
          58,
          58,
          58,
          58,
          58,
          78,
          78,
          78,
          78,
          78,
          78,
          78,
          78,
          78,
          65,
          65,
          65,
          65,
          65,
          65,
          65,
          65,
          65,
          65,
          65,
          65,
          65,
          65,
          65,
          65,
          65,
          79,
          79,
          79,
          79,
          79,
          79,
          79,
          79,
          79,
          64,
          64,
          64,
          64,
          64,
          64,
          64,
          64,
          64,
          71,
          71,
          71,
          71,
          71,
          71,
          71,
          71,
          65,
          65,
          65,
          65,
          65,
          65,
          65,
          65,
          65,
          75,
          75,
          75,
          75,
          75,
          75,
          75,
          75,
          75,
          71,
          71,
          71,
          71,
          71,
          71,
          71,
          71,
          71,
          72,
          72,
          72,
          72,
          72,
          72,
          72,
          72,
          72,
          56,
          56,
          56,
          56,
          56,
          56,
          56,
          56,
          56,
          62,
          62,
          62,
          62,
          62,
          62,
          62,
          53,
          53,
          53,
          53,
          53,
          53,
          53,
          53,
          53,
          53,
          66,
          66,
          66,
          66,
          66,
          66,
          66,
          66,
          66,
          67,
          67,
          67,
          67,
          67,
          67,
          67,
          67,
          67,
          70,
          70,
          70,
          70,
          70,
          70,
          70,
          70,
          55,
          55,
          55,
          55,
          55,
          55,
          55,
          55,
          55,
          55,
          66,
          66,
          66,
          66,
          66,
          66,
          66,
          66,
          66,
          74,
          74,
          74,
          74,
          74,
          74,
          74,
          74,
          65,
          65,
          65,
          65,
          65,
          65,
          65,
          65,
          65,
          65,
          65,
          65,
          65,
          65,
          65,
          65,
          65,
          65,
          66,
          66,
          66,
          66,
          66,
          66,
          66,
          66,
          66,
          73,
          73,
          73,
          73,
          73,
          73,
          73,
          73,
          73,
          68,
          68,
          68,
          68,
          68,
          68,
          68,
          68,
          68,
          68,
          73,
          73,
          73,
          73,
          73,
          73,
          73,
          73,
          72,
          72,
          72,
          72,
          72,
          72,
          72,
          72,
          72,
          73,
          73,
          73,
          73,
          73,
          73,
          73,
          73,
          73
         ],
         "yaxis": "y"
        },
        {
         "hovertemplate": "Sex=Female<br>Weeks=%{x}<br>Age=%{y}<extra></extra>",
         "legendgroup": "Female",
         "marker": {
          "color": "#EF553B",
          "symbol": "circle"
         },
         "mode": "markers",
         "name": "Female",
         "showlegend": true,
         "type": "scattergl",
         "x": [
          13,
          14,
          16,
          18,
          20,
          26,
          38,
          53,
          66,
          18,
          19,
          21,
          23,
          25,
          31,
          44,
          54,
          70,
          -3,
          3,
          5,
          7,
          9,
          15,
          27,
          39,
          55,
          9,
          9,
          11,
          13,
          15,
          21,
          33,
          47,
          61,
          -1,
          1,
          3,
          6,
          7,
          13,
          26,
          37,
          54,
          25,
          28,
          29,
          32,
          33,
          40,
          51,
          61,
          79,
          0,
          5,
          7,
          9,
          11,
          17,
          28,
          40,
          58,
          19,
          27,
          29,
          31,
          33,
          39,
          51,
          63,
          79,
          -5,
          6,
          8,
          9,
          12,
          18,
          30,
          42,
          58,
          48,
          49,
          51,
          53,
          55,
          61,
          73,
          85,
          102,
          44,
          48,
          50,
          52,
          54,
          61,
          72,
          84,
          100,
          34,
          36,
          37,
          39,
          41,
          47,
          59,
          11,
          12,
          14,
          17,
          18,
          24,
          36,
          48,
          64,
          44,
          48,
          50,
          52,
          54,
          60,
          73,
          84,
          100,
          12,
          16,
          18,
          20,
          23,
          28,
          40,
          53,
          66,
          38,
          44,
          46,
          48,
          50,
          56,
          68,
          79,
          96,
          4,
          12,
          14,
          15,
          18,
          24,
          36,
          48,
          65,
          11,
          12,
          14,
          16,
          18,
          24,
          36,
          48,
          64,
          13,
          17,
          19,
          21,
          23,
          29,
          54,
          69,
          14,
          15,
          18,
          19,
          21,
          27,
          40,
          50,
          67,
          9,
          11,
          13,
          15,
          17,
          23,
          35,
          47,
          63,
          2,
          4,
          6,
          8,
          10,
          16,
          28,
          40,
          56,
          14,
          15,
          17,
          19,
          20,
          27,
          38,
          51,
          67,
          1,
          3,
          5,
          7,
          15,
          29,
          41,
          55,
          13,
          14,
          16,
          19,
          20,
          26,
          39,
          51,
          3,
          5,
          8,
          10,
          12,
          31,
          48,
          50,
          52,
          54,
          56,
          62,
          74,
          86,
          102,
          4,
          6,
          8,
          10,
          12,
          18,
          30,
          42,
          58,
          21,
          22,
          24,
          26,
          28,
          34,
          45,
          57,
          4,
          6,
          8,
          9,
          12,
          18,
          30,
          42,
          57,
          0,
          4,
          6,
          8,
          10,
          16,
          28,
          40,
          57,
          28,
          32,
          35,
          36,
          38,
          44,
          56,
          68,
          84,
          23,
          25,
          27,
          28,
          30,
          36,
          48,
          62,
          76,
          79,
          35,
          36,
          38,
          40,
          42,
          48,
          59,
          72,
          87,
          48,
          50,
          52,
          54,
          56,
          63,
          74,
          86,
          102,
          42,
          47,
          49,
          51,
          53,
          59,
          71,
          82,
          99,
          0,
          6,
          8,
          11,
          12,
          18,
          31,
          42,
          58
         ],
         "xaxis": "x",
         "y": [
          83,
          83,
          83,
          83,
          83,
          83,
          83,
          83,
          83,
          66,
          66,
          66,
          66,
          66,
          66,
          66,
          66,
          66,
          71,
          71,
          71,
          71,
          71,
          71,
          71,
          71,
          71,
          70,
          70,
          70,
          70,
          70,
          70,
          70,
          70,
          70,
          73,
          73,
          73,
          73,
          73,
          73,
          73,
          73,
          73,
          52,
          52,
          52,
          52,
          52,
          52,
          52,
          52,
          52,
          55,
          55,
          55,
          55,
          55,
          55,
          55,
          55,
          55,
          49,
          49,
          49,
          49,
          49,
          49,
          49,
          49,
          49,
          65,
          65,
          65,
          65,
          65,
          65,
          65,
          65,
          65,
          69,
          69,
          69,
          69,
          69,
          69,
          69,
          69,
          69,
          55,
          55,
          55,
          55,
          55,
          55,
          55,
          55,
          55,
          87,
          87,
          87,
          87,
          87,
          87,
          87,
          65,
          65,
          65,
          65,
          65,
          65,
          65,
          65,
          65,
          66,
          66,
          66,
          66,
          66,
          66,
          66,
          66,
          66,
          66,
          66,
          66,
          66,
          66,
          66,
          66,
          66,
          66,
          79,
          79,
          79,
          79,
          79,
          79,
          79,
          79,
          79,
          56,
          56,
          56,
          56,
          56,
          56,
          56,
          56,
          56,
          76,
          76,
          76,
          76,
          76,
          76,
          76,
          76,
          76,
          77,
          77,
          77,
          77,
          77,
          77,
          77,
          77,
          58,
          58,
          58,
          58,
          58,
          58,
          58,
          58,
          58,
          74,
          74,
          74,
          74,
          74,
          74,
          74,
          74,
          74,
          66,
          66,
          66,
          66,
          66,
          66,
          66,
          66,
          66,
          71,
          71,
          71,
          71,
          71,
          71,
          71,
          71,
          71,
          62,
          62,
          62,
          62,
          62,
          62,
          62,
          62,
          76,
          76,
          76,
          76,
          76,
          76,
          76,
          76,
          70,
          70,
          70,
          70,
          70,
          70,
          62,
          62,
          62,
          62,
          62,
          62,
          62,
          62,
          62,
          61,
          61,
          61,
          61,
          61,
          61,
          61,
          61,
          61,
          63,
          63,
          63,
          63,
          63,
          63,
          63,
          63,
          67,
          67,
          67,
          67,
          67,
          67,
          67,
          67,
          67,
          72,
          72,
          72,
          72,
          72,
          72,
          72,
          72,
          72,
          68,
          68,
          68,
          68,
          68,
          68,
          68,
          68,
          68,
          68,
          68,
          68,
          68,
          68,
          68,
          68,
          68,
          68,
          68,
          57,
          57,
          57,
          57,
          57,
          57,
          57,
          57,
          57,
          64,
          64,
          64,
          64,
          64,
          64,
          64,
          64,
          64,
          74,
          74,
          74,
          74,
          74,
          74,
          74,
          74,
          74,
          61,
          61,
          61,
          61,
          61,
          61,
          61,
          61,
          61
         ],
         "yaxis": "y"
        }
       ],
       "layout": {
        "legend": {
         "title": {
          "text": "Sex"
         },
         "tracegroupgap": 0
        },
        "margin": {
         "t": 60
        },
        "template": {
         "data": {
          "bar": [
           {
            "error_x": {
             "color": "#2a3f5f"
            },
            "error_y": {
             "color": "#2a3f5f"
            },
            "marker": {
             "line": {
              "color": "#E5ECF6",
              "width": 0.5
             }
            },
            "type": "bar"
           }
          ],
          "barpolar": [
           {
            "marker": {
             "line": {
              "color": "#E5ECF6",
              "width": 0.5
             }
            },
            "type": "barpolar"
           }
          ],
          "carpet": [
           {
            "aaxis": {
             "endlinecolor": "#2a3f5f",
             "gridcolor": "white",
             "linecolor": "white",
             "minorgridcolor": "white",
             "startlinecolor": "#2a3f5f"
            },
            "baxis": {
             "endlinecolor": "#2a3f5f",
             "gridcolor": "white",
             "linecolor": "white",
             "minorgridcolor": "white",
             "startlinecolor": "#2a3f5f"
            },
            "type": "carpet"
           }
          ],
          "choropleth": [
           {
            "colorbar": {
             "outlinewidth": 0,
             "ticks": ""
            },
            "type": "choropleth"
           }
          ],
          "contour": [
           {
            "colorbar": {
             "outlinewidth": 0,
             "ticks": ""
            },
            "colorscale": [
             [
              0,
              "#0d0887"
             ],
             [
              0.1111111111111111,
              "#46039f"
             ],
             [
              0.2222222222222222,
              "#7201a8"
             ],
             [
              0.3333333333333333,
              "#9c179e"
             ],
             [
              0.4444444444444444,
              "#bd3786"
             ],
             [
              0.5555555555555556,
              "#d8576b"
             ],
             [
              0.6666666666666666,
              "#ed7953"
             ],
             [
              0.7777777777777778,
              "#fb9f3a"
             ],
             [
              0.8888888888888888,
              "#fdca26"
             ],
             [
              1,
              "#f0f921"
             ]
            ],
            "type": "contour"
           }
          ],
          "contourcarpet": [
           {
            "colorbar": {
             "outlinewidth": 0,
             "ticks": ""
            },
            "type": "contourcarpet"
           }
          ],
          "heatmap": [
           {
            "colorbar": {
             "outlinewidth": 0,
             "ticks": ""
            },
            "colorscale": [
             [
              0,
              "#0d0887"
             ],
             [
              0.1111111111111111,
              "#46039f"
             ],
             [
              0.2222222222222222,
              "#7201a8"
             ],
             [
              0.3333333333333333,
              "#9c179e"
             ],
             [
              0.4444444444444444,
              "#bd3786"
             ],
             [
              0.5555555555555556,
              "#d8576b"
             ],
             [
              0.6666666666666666,
              "#ed7953"
             ],
             [
              0.7777777777777778,
              "#fb9f3a"
             ],
             [
              0.8888888888888888,
              "#fdca26"
             ],
             [
              1,
              "#f0f921"
             ]
            ],
            "type": "heatmap"
           }
          ],
          "heatmapgl": [
           {
            "colorbar": {
             "outlinewidth": 0,
             "ticks": ""
            },
            "colorscale": [
             [
              0,
              "#0d0887"
             ],
             [
              0.1111111111111111,
              "#46039f"
             ],
             [
              0.2222222222222222,
              "#7201a8"
             ],
             [
              0.3333333333333333,
              "#9c179e"
             ],
             [
              0.4444444444444444,
              "#bd3786"
             ],
             [
              0.5555555555555556,
              "#d8576b"
             ],
             [
              0.6666666666666666,
              "#ed7953"
             ],
             [
              0.7777777777777778,
              "#fb9f3a"
             ],
             [
              0.8888888888888888,
              "#fdca26"
             ],
             [
              1,
              "#f0f921"
             ]
            ],
            "type": "heatmapgl"
           }
          ],
          "histogram": [
           {
            "marker": {
             "colorbar": {
              "outlinewidth": 0,
              "ticks": ""
             }
            },
            "type": "histogram"
           }
          ],
          "histogram2d": [
           {
            "colorbar": {
             "outlinewidth": 0,
             "ticks": ""
            },
            "colorscale": [
             [
              0,
              "#0d0887"
             ],
             [
              0.1111111111111111,
              "#46039f"
             ],
             [
              0.2222222222222222,
              "#7201a8"
             ],
             [
              0.3333333333333333,
              "#9c179e"
             ],
             [
              0.4444444444444444,
              "#bd3786"
             ],
             [
              0.5555555555555556,
              "#d8576b"
             ],
             [
              0.6666666666666666,
              "#ed7953"
             ],
             [
              0.7777777777777778,
              "#fb9f3a"
             ],
             [
              0.8888888888888888,
              "#fdca26"
             ],
             [
              1,
              "#f0f921"
             ]
            ],
            "type": "histogram2d"
           }
          ],
          "histogram2dcontour": [
           {
            "colorbar": {
             "outlinewidth": 0,
             "ticks": ""
            },
            "colorscale": [
             [
              0,
              "#0d0887"
             ],
             [
              0.1111111111111111,
              "#46039f"
             ],
             [
              0.2222222222222222,
              "#7201a8"
             ],
             [
              0.3333333333333333,
              "#9c179e"
             ],
             [
              0.4444444444444444,
              "#bd3786"
             ],
             [
              0.5555555555555556,
              "#d8576b"
             ],
             [
              0.6666666666666666,
              "#ed7953"
             ],
             [
              0.7777777777777778,
              "#fb9f3a"
             ],
             [
              0.8888888888888888,
              "#fdca26"
             ],
             [
              1,
              "#f0f921"
             ]
            ],
            "type": "histogram2dcontour"
           }
          ],
          "mesh3d": [
           {
            "colorbar": {
             "outlinewidth": 0,
             "ticks": ""
            },
            "type": "mesh3d"
           }
          ],
          "parcoords": [
           {
            "line": {
             "colorbar": {
              "outlinewidth": 0,
              "ticks": ""
             }
            },
            "type": "parcoords"
           }
          ],
          "pie": [
           {
            "automargin": true,
            "type": "pie"
           }
          ],
          "scatter": [
           {
            "marker": {
             "colorbar": {
              "outlinewidth": 0,
              "ticks": ""
             }
            },
            "type": "scatter"
           }
          ],
          "scatter3d": [
           {
            "line": {
             "colorbar": {
              "outlinewidth": 0,
              "ticks": ""
             }
            },
            "marker": {
             "colorbar": {
              "outlinewidth": 0,
              "ticks": ""
             }
            },
            "type": "scatter3d"
           }
          ],
          "scattercarpet": [
           {
            "marker": {
             "colorbar": {
              "outlinewidth": 0,
              "ticks": ""
             }
            },
            "type": "scattercarpet"
           }
          ],
          "scattergeo": [
           {
            "marker": {
             "colorbar": {
              "outlinewidth": 0,
              "ticks": ""
             }
            },
            "type": "scattergeo"
           }
          ],
          "scattergl": [
           {
            "marker": {
             "colorbar": {
              "outlinewidth": 0,
              "ticks": ""
             }
            },
            "type": "scattergl"
           }
          ],
          "scattermapbox": [
           {
            "marker": {
             "colorbar": {
              "outlinewidth": 0,
              "ticks": ""
             }
            },
            "type": "scattermapbox"
           }
          ],
          "scatterpolar": [
           {
            "marker": {
             "colorbar": {
              "outlinewidth": 0,
              "ticks": ""
             }
            },
            "type": "scatterpolar"
           }
          ],
          "scatterpolargl": [
           {
            "marker": {
             "colorbar": {
              "outlinewidth": 0,
              "ticks": ""
             }
            },
            "type": "scatterpolargl"
           }
          ],
          "scatterternary": [
           {
            "marker": {
             "colorbar": {
              "outlinewidth": 0,
              "ticks": ""
             }
            },
            "type": "scatterternary"
           }
          ],
          "surface": [
           {
            "colorbar": {
             "outlinewidth": 0,
             "ticks": ""
            },
            "colorscale": [
             [
              0,
              "#0d0887"
             ],
             [
              0.1111111111111111,
              "#46039f"
             ],
             [
              0.2222222222222222,
              "#7201a8"
             ],
             [
              0.3333333333333333,
              "#9c179e"
             ],
             [
              0.4444444444444444,
              "#bd3786"
             ],
             [
              0.5555555555555556,
              "#d8576b"
             ],
             [
              0.6666666666666666,
              "#ed7953"
             ],
             [
              0.7777777777777778,
              "#fb9f3a"
             ],
             [
              0.8888888888888888,
              "#fdca26"
             ],
             [
              1,
              "#f0f921"
             ]
            ],
            "type": "surface"
           }
          ],
          "table": [
           {
            "cells": {
             "fill": {
              "color": "#EBF0F8"
             },
             "line": {
              "color": "white"
             }
            },
            "header": {
             "fill": {
              "color": "#C8D4E3"
             },
             "line": {
              "color": "white"
             }
            },
            "type": "table"
           }
          ]
         },
         "layout": {
          "annotationdefaults": {
           "arrowcolor": "#2a3f5f",
           "arrowhead": 0,
           "arrowwidth": 1
          },
          "coloraxis": {
           "colorbar": {
            "outlinewidth": 0,
            "ticks": ""
           }
          },
          "colorscale": {
           "diverging": [
            [
             0,
             "#8e0152"
            ],
            [
             0.1,
             "#c51b7d"
            ],
            [
             0.2,
             "#de77ae"
            ],
            [
             0.3,
             "#f1b6da"
            ],
            [
             0.4,
             "#fde0ef"
            ],
            [
             0.5,
             "#f7f7f7"
            ],
            [
             0.6,
             "#e6f5d0"
            ],
            [
             0.7,
             "#b8e186"
            ],
            [
             0.8,
             "#7fbc41"
            ],
            [
             0.9,
             "#4d9221"
            ],
            [
             1,
             "#276419"
            ]
           ],
           "sequential": [
            [
             0,
             "#0d0887"
            ],
            [
             0.1111111111111111,
             "#46039f"
            ],
            [
             0.2222222222222222,
             "#7201a8"
            ],
            [
             0.3333333333333333,
             "#9c179e"
            ],
            [
             0.4444444444444444,
             "#bd3786"
            ],
            [
             0.5555555555555556,
             "#d8576b"
            ],
            [
             0.6666666666666666,
             "#ed7953"
            ],
            [
             0.7777777777777778,
             "#fb9f3a"
            ],
            [
             0.8888888888888888,
             "#fdca26"
            ],
            [
             1,
             "#f0f921"
            ]
           ],
           "sequentialminus": [
            [
             0,
             "#0d0887"
            ],
            [
             0.1111111111111111,
             "#46039f"
            ],
            [
             0.2222222222222222,
             "#7201a8"
            ],
            [
             0.3333333333333333,
             "#9c179e"
            ],
            [
             0.4444444444444444,
             "#bd3786"
            ],
            [
             0.5555555555555556,
             "#d8576b"
            ],
            [
             0.6666666666666666,
             "#ed7953"
            ],
            [
             0.7777777777777778,
             "#fb9f3a"
            ],
            [
             0.8888888888888888,
             "#fdca26"
            ],
            [
             1,
             "#f0f921"
            ]
           ]
          },
          "colorway": [
           "#636efa",
           "#EF553B",
           "#00cc96",
           "#ab63fa",
           "#FFA15A",
           "#19d3f3",
           "#FF6692",
           "#B6E880",
           "#FF97FF",
           "#FECB52"
          ],
          "font": {
           "color": "#2a3f5f"
          },
          "geo": {
           "bgcolor": "white",
           "lakecolor": "white",
           "landcolor": "#E5ECF6",
           "showlakes": true,
           "showland": true,
           "subunitcolor": "white"
          },
          "hoverlabel": {
           "align": "left"
          },
          "hovermode": "closest",
          "mapbox": {
           "style": "light"
          },
          "paper_bgcolor": "white",
          "plot_bgcolor": "#E5ECF6",
          "polar": {
           "angularaxis": {
            "gridcolor": "white",
            "linecolor": "white",
            "ticks": ""
           },
           "bgcolor": "#E5ECF6",
           "radialaxis": {
            "gridcolor": "white",
            "linecolor": "white",
            "ticks": ""
           }
          },
          "scene": {
           "xaxis": {
            "backgroundcolor": "#E5ECF6",
            "gridcolor": "white",
            "gridwidth": 2,
            "linecolor": "white",
            "showbackground": true,
            "ticks": "",
            "zerolinecolor": "white"
           },
           "yaxis": {
            "backgroundcolor": "#E5ECF6",
            "gridcolor": "white",
            "gridwidth": 2,
            "linecolor": "white",
            "showbackground": true,
            "ticks": "",
            "zerolinecolor": "white"
           },
           "zaxis": {
            "backgroundcolor": "#E5ECF6",
            "gridcolor": "white",
            "gridwidth": 2,
            "linecolor": "white",
            "showbackground": true,
            "ticks": "",
            "zerolinecolor": "white"
           }
          },
          "shapedefaults": {
           "line": {
            "color": "#2a3f5f"
           }
          },
          "ternary": {
           "aaxis": {
            "gridcolor": "white",
            "linecolor": "white",
            "ticks": ""
           },
           "baxis": {
            "gridcolor": "white",
            "linecolor": "white",
            "ticks": ""
           },
           "bgcolor": "#E5ECF6",
           "caxis": {
            "gridcolor": "white",
            "linecolor": "white",
            "ticks": ""
           }
          },
          "title": {
           "x": 0.05
          },
          "xaxis": {
           "automargin": true,
           "gridcolor": "white",
           "linecolor": "white",
           "ticks": "",
           "title": {
            "standoff": 15
           },
           "zerolinecolor": "white",
           "zerolinewidth": 2
          },
          "yaxis": {
           "automargin": true,
           "gridcolor": "white",
           "linecolor": "white",
           "ticks": "",
           "title": {
            "standoff": 15
           },
           "zerolinecolor": "white",
           "zerolinewidth": 2
          }
         }
        },
        "xaxis": {
         "anchor": "y",
         "domain": [
          0,
          1
         ],
         "title": {
          "text": "Weeks"
         }
        },
        "yaxis": {
         "anchor": "x",
         "domain": [
          0,
          1
         ],
         "title": {
          "text": "Age"
         }
        }
       }
      },
      "text/html": [
       "<div>\n",
       "        \n",
       "        \n",
       "            <div id=\"b8a7b6b8-3302-47e3-bd27-fe2e4a81c3bb\" class=\"plotly-graph-div\" style=\"height:525px; width:100%;\"></div>\n",
       "            <script type=\"text/javascript\">\n",
       "                require([\"plotly\"], function(Plotly) {\n",
       "                    window.PLOTLYENV=window.PLOTLYENV || {};\n",
       "                    \n",
       "                if (document.getElementById(\"b8a7b6b8-3302-47e3-bd27-fe2e4a81c3bb\")) {\n",
       "                    Plotly.newPlot(\n",
       "                        'b8a7b6b8-3302-47e3-bd27-fe2e4a81c3bb',\n",
       "                        [{\"hovertemplate\": \"Sex=Male<br>Weeks=%{x}<br>Age=%{y}<extra></extra>\", \"legendgroup\": \"Male\", \"marker\": {\"color\": \"#636efa\", \"symbol\": \"circle\"}, \"mode\": \"markers\", \"name\": \"Male\", \"showlegend\": true, \"type\": \"scattergl\", \"x\": [-4, 5, 7, 9, 11, 17, 29, 41, 57, 8, 9, 11, 13, 15, 22, 33, 45, 60, 0, 1, 3, 5, 7, 13, 25, 37, 54, 6, 7, 9, 11, 13, 19, 32, 43, 58, 33, 35, 37, 39, 41, 47, 58, 71, 87, 0, 2, 4, 6, 8, 14, 26, 37, 54, 12, 17, 19, 21, 31, 40, 52, 69, 0, 1, 3, 6, 7, 14, 26, 38, 53, 41, 45, 47, 49, 51, 57, 69, 81, 98, 12, 14, 16, 18, 23, 26, 38, 51, 66, 19, 30, 33, 34, 36, 42, 54, 65, 30, 35, 37, 39, 41, 47, 59, 71, 87, 11, 12, 14, 16, 18, 24, 36, 49, 65, 6, 12, 15, 17, 19, 24, 36, 49, 63, 1, 6, 9, 11, 12, 18, 31, 44, 60, 2, 4, 6, 8, 10, 29, 48, 51, 53, 56, 58, 63, 75, 16, 18, 20, 23, 24, 31, 43, 55, 71, 23, 24, 26, 28, 30, 36, 48, 60, 76, 44, 46, 48, 50, 52, 58, 70, 83, 98, 4, 5, 7, 9, 11, 17, 28, 41, 11, 11, 13, 15, 16, 22, 35, 46, 62, 15, 18, 20, 22, 24, 30, 42, 55, 70, 3, 6, 8, 10, 12, 18, 30, 42, -4, 3, 5, 6, 9, 15, 27, 40, 55, 5, 6, 8, 10, 12, 18, 29, 42, 59, 7, 7, 9, 11, 14, 20, 31, 44, 60, 17, 21, 23, 27, 33, 44, 59, 73, -1, 3, 6, 8, 9, 16, 28, 39, 54, 0, 6, 9, 11, 12, 18, 30, 42, 58, 44, 47, 49, 51, 53, 58, 70, 83, 98, 102, 3, 5, 7, 9, 11, 17, 29, 41, 58, 20, 21, 23, 26, 28, 33, 45, 58, 44, 45, 47, 49, 51, 57, 69, 82, 97, 100, 11, 13, 15, 17, 19, 25, 37, 49, 65, 53, 55, 57, 59, 61, 67, 79, 91, 107, 15, 18, 20, 23, 25, 31, 42, 56, 9, 10, 13, 15, 17, 23, 36, 15, 17, 19, 21, 23, 29, 42, 52, 4, 8, 10, 12, 14, 20, 32, 44, 60, 2, 4, 6, 8, 10, 16, 28, 40, 56, 59, -4, 6, 8, 10, 12, 18, 30, 43, 58, 47, 48, 50, 53, 55, 60, 72, 84, 100, 8, 8, 10, 12, 14, 20, 34, 45, 18, 26, 28, 30, 32, 38, 50, 62, 78, 0, 3, 5, 7, 10, 15, 27, 39, 56, 63, 64, 66, 68, 70, 76, 89, 101, 116, 6, 10, 13, 14, 16, 22, 34, 46, 63, -2, 2, 4, 6, 8, 13, 27, 38, 54, 2, 8, 11, 13, 14, 21, 33, 44, 59, 31, 35, 37, 40, 42, 48, 60, 73, 89, 3, 6, 8, 10, 12, 18, 30, 43, 58, 14, 18, 20, 22, 24, 30, 42, 54, 70, 16, 21, 24, 25, 27, 33, 47, 58, 73, 16, 18, 20, 22, 24, 30, 42, 54, 70, 74, 8, 10, 12, 14, 16, 22, 34, 46, 61, 79, 81, 83, 85, 87, 92, 104, 117, 133, 7, 11, 13, 15, 17, 23, 34, 47, 62, 66, 7, 8, 10, 12, 14, 21, 33, 44, 60, 35, 37, 39, 41, 43, 49, 60, 72, 92, 11, 17, 19, 21, 23, 29, 42, 53, 69, 9, 11, 13, 16, 18, 24, 35, 47, 63, 39, 42, 44, 46, 48, 54, 65, 77, 94, 29, 30, 32, 34, 37, 43, 55, 67, 83, 8, 11, 13, 15, 17, 23, 59, 4, 10, 12, 14, 16, 22, 34, 46, 62, 9, 12, 14, 16, 18, 25, 36, 48, 66, 0, 5, 8, 10, 11, 18, 30, 41, 57, 5, 5, 7, 9, 12, 17, 30, 42, 57, 20, 21, 23, 25, 27, 33, 45, 58, 75, 33, 35, 37, 38, 41, 47, 59, 71, 86, 0, 3, 5, 7, 9, 16, 27, 39, 56, 6, 9, 11, 13, 14, 21, 32, 44, 61, 3, 4, 6, 8, 10, 16, 28, 40, 55, 10, 11, 13, 15, 17, 23, 34, 47, 63, 20, 22, 25, 26, 29, 34, 46, 59, 75, 0, 4, 7, 9, 11, 17, 27, 40, 56, -1, 5, 7, 9, 11, 16, 29, 41, 57, 0, 3, 5, 7, 9, 15, 27, 39, 55, 23, 26, 28, 30, 32, 38, 49, 62, 78, 82, -3, 2, 4, 6, 9, 14, 27, 39, 54, 3, 4, 6, 8, 10, 16, 29, 41, 34, 35, 37, 40, 42, 47, 59, 71, 88, 5, 5, 8, 9, 12, 18, 30, 41, 57, 4, 5, 7, 9, 10, 17, 28, 41, 58, 34, 40, 42, 46, 52, 67, 76, 92, 21, 30, 32, 34, 37, 43, 55, 67, 83, 4, 8, 10, 12, 14, 20, 32, 44, 60, 6, 7, 9, 11, 13, 19, 31, 8, 10, 12, 14, 17, 22, 34, 46, 63, 0, 3, 5, 7, 9, 15, 27, 39, 54, 4, 15, 17, 18, 21, 26, 38, 51, 2, 4, 6, 8, 10, 16, 27, 43, 56, 5, 6, 7, 10, 12, 18, 29, 42, 59, 5, 8, 10, 12, 13, 20, 32, 44, 22, 24, 26, 28, 30, 37, 48, 60, 76, 8, 10, 12, 14, 16, 22, 34, 46, 62, 3, 6, 8, 10, 12, 18, 31, 44, 58, 3, 5, 7, 9, 11, 18, 29, 41, 57, 26, 32, 34, 35, 44, 56, 70, 85, 12, 16, 18, 20, 22, 29, 40, 52, 69, 3, 6, 8, 10, 11, 18, 30, 40, 57, 26, 27, 29, 31, 33, 39, 50, 64, 39, 43, 45, 47, 49, 54, 66, 79, 95, 28, 30, 32, 34, 36, 42, 55, 67, 82, 3, 4, 6, 8, 10, 16, 28, 40, 56, 6, 8, 10, 12, 14, 20, 33, 44, 29, 32, 34, 36, 38, 44, 57, 68, 85, 0, 6, 9, 10, 13, 18, 31, 41, 58, -1, 5, 8, 10, 12, 18, 30, 42, 58, 23, 25, 27, 29, 31, 37, 49, 62, 78, 0, 4, 6, 8, 10, 16, 31, 14, 15, 17, 19, 21, 27, 39, 51, 66, 24, 28, 30, 32, 34, 40, 52, 65, 82, 4, 8, 12, 14, 20, 33, 45, 62, 3, 5, 7, 10, 12, 17, 29, 41, 57, 37, 41, 43, 45, 47, 53, 65, 77, 94, 35, 37, 39, 42, 43, 49, 61, 73, 7, 11, 13, 15, 17, 23, 35, 47, 64, 12, 13, 15, 17, 19, 25, 37, 49, 64, 6, 8, 10, 12, 14, 20, 33, 44, 60, 39, 41, 44, 46, 48, 53, 65, 77, 93, 25, 27, 29, 31, 33, 39, 50, 63, 80, 5, 7, 9, 11, 13, 19, 31, 0, 3, 5, 7, 8, 15, 27, 39, 56, 59, 5, 7, 9, 11, 13, 19, 31, 43, 59, 0, 6, 8, 10, 12, 18, 30, 41, 58, 11, 13, 15, 17, 19, 25, 37, 49, 29, 30, 32, 33, 36, 42, 54, 65, 82, 85, 21, 22, 24, 26, 28, 33, 46, 57, 75, 13, 14, 16, 18, 20, 26, 37, 50, 7, 8, 10, 12, 14, 20, 31, 45, 60, 7, 12, 14, 16, 18, 24, 36, 49, 63, 8, 9, 12, 13, 15, 21, 33, 45, 61, 6, 7, 9, 10, 13, 18, 31, 43, 59, 15, 17, 19, 21, 23, 29, 41, 54, 70, 70, 6, 11, 13, 15, 17, 23, 35, 47, 17, 18, 19, 21, 23, 30, 42, 53, 70, 0, 7, 9, 11, 13, 19, 31, 43, 59], \"xaxis\": \"x\", \"y\": [79, 79, 79, 79, 79, 79, 79, 79, 79, 69, 69, 69, 69, 69, 69, 69, 69, 69, 60, 60, 60, 60, 60, 60, 60, 60, 60, 72, 72, 72, 72, 72, 72, 72, 72, 72, 65, 65, 65, 65, 65, 65, 65, 65, 65, 56, 56, 56, 56, 56, 56, 56, 56, 56, 71, 71, 71, 71, 71, 71, 71, 71, 65, 65, 65, 65, 65, 65, 65, 65, 65, 57, 57, 57, 57, 57, 57, 57, 57, 57, 73, 73, 73, 73, 73, 73, 73, 73, 73, 69, 69, 69, 69, 69, 69, 69, 69, 63, 63, 63, 63, 63, 63, 63, 63, 63, 69, 69, 69, 69, 69, 69, 69, 69, 69, 71, 71, 71, 71, 71, 71, 71, 71, 71, 58, 58, 58, 58, 58, 58, 58, 58, 58, 68, 68, 68, 68, 68, 68, 54, 54, 54, 54, 54, 54, 54, 63, 63, 63, 63, 63, 63, 63, 63, 63, 68, 68, 68, 68, 68, 68, 68, 68, 68, 74, 74, 74, 74, 74, 74, 74, 74, 74, 64, 64, 64, 64, 64, 64, 64, 64, 73, 73, 73, 73, 73, 73, 73, 73, 73, 71, 71, 71, 71, 71, 71, 71, 71, 71, 69, 69, 69, 69, 69, 69, 69, 69, 51, 51, 51, 51, 51, 51, 51, 51, 51, 70, 70, 70, 70, 70, 70, 70, 70, 70, 63, 63, 63, 63, 63, 63, 63, 63, 63, 69, 69, 69, 69, 69, 69, 69, 69, 69, 69, 69, 69, 69, 69, 69, 69, 69, 64, 64, 64, 64, 64, 64, 64, 64, 64, 68, 68, 68, 68, 68, 68, 68, 68, 68, 68, 60, 60, 60, 60, 60, 60, 60, 60, 60, 74, 74, 74, 74, 74, 74, 74, 74, 64, 64, 64, 64, 64, 64, 64, 64, 64, 64, 73, 73, 73, 73, 73, 73, 73, 73, 73, 73, 73, 73, 73, 73, 73, 73, 73, 73, 74, 74, 74, 74, 74, 74, 74, 74, 72, 72, 72, 72, 72, 72, 72, 77, 77, 77, 77, 77, 77, 77, 77, 68, 68, 68, 68, 68, 68, 68, 68, 68, 57, 57, 57, 57, 57, 57, 57, 57, 57, 57, 58, 58, 58, 58, 58, 58, 58, 58, 58, 60, 60, 60, 60, 60, 60, 60, 60, 60, 65, 65, 65, 65, 65, 65, 65, 65, 78, 78, 78, 78, 78, 78, 78, 78, 78, 71, 71, 71, 71, 71, 71, 71, 71, 71, 61, 61, 61, 61, 61, 61, 61, 61, 61, 69, 69, 69, 69, 69, 69, 69, 69, 69, 83, 83, 83, 83, 83, 83, 83, 83, 83, 67, 67, 67, 67, 67, 67, 67, 67, 67, 65, 65, 65, 65, 65, 65, 65, 65, 65, 64, 64, 64, 64, 64, 64, 64, 64, 64, 66, 66, 66, 66, 66, 66, 66, 66, 66, 76, 76, 76, 76, 76, 76, 76, 76, 76, 58, 58, 58, 58, 58, 58, 58, 58, 58, 58, 63, 63, 63, 63, 63, 63, 63, 63, 63, 54, 54, 54, 54, 54, 54, 54, 54, 54, 58, 58, 58, 58, 58, 58, 58, 58, 58, 58, 62, 62, 62, 62, 62, 62, 62, 62, 62, 73, 73, 73, 73, 73, 73, 73, 73, 73, 73, 73, 73, 73, 73, 73, 73, 73, 73, 68, 68, 68, 68, 68, 68, 68, 68, 68, 71, 71, 71, 71, 71, 71, 71, 71, 71, 52, 52, 52, 52, 52, 52, 52, 52, 52, 69, 69, 69, 69, 69, 69, 69, 69, 69, 69, 69, 69, 69, 69, 69, 69, 65, 65, 65, 65, 65, 65, 65, 65, 65, 65, 65, 65, 65, 65, 65, 65, 65, 65, 62, 62, 62, 62, 62, 62, 62, 62, 62, 64, 64, 64, 64, 64, 64, 64, 64, 64, 67, 67, 67, 67, 67, 67, 67, 67, 67, 76, 76, 76, 76, 76, 76, 76, 76, 76, 70, 70, 70, 70, 70, 70, 70, 70, 70, 69, 69, 69, 69, 69, 69, 69, 69, 69, 65, 65, 65, 65, 65, 65, 65, 65, 65, 81, 81, 81, 81, 81, 81, 81, 81, 81, 71, 71, 71, 71, 71, 71, 71, 71, 71, 70, 70, 70, 70, 70, 70, 70, 70, 70, 72, 72, 72, 72, 72, 72, 72, 72, 72, 71, 71, 71, 71, 71, 71, 71, 71, 71, 71, 68, 68, 68, 68, 68, 68, 68, 68, 68, 66, 66, 66, 66, 66, 66, 66, 66, 67, 67, 67, 67, 67, 67, 67, 67, 67, 63, 63, 63, 63, 63, 63, 63, 63, 63, 64, 64, 64, 64, 64, 64, 64, 64, 64, 56, 56, 56, 56, 56, 56, 56, 56, 88, 88, 88, 88, 88, 88, 88, 88, 88, 60, 60, 60, 60, 60, 60, 60, 60, 60, 77, 77, 77, 77, 77, 77, 77, 70, 70, 70, 70, 70, 70, 70, 70, 70, 60, 60, 60, 60, 60, 60, 60, 60, 60, 75, 75, 75, 75, 75, 75, 75, 75, 72, 72, 72, 72, 72, 72, 72, 72, 72, 74, 74, 74, 74, 74, 74, 74, 74, 74, 58, 58, 58, 58, 58, 58, 58, 58, 78, 78, 78, 78, 78, 78, 78, 78, 78, 62, 62, 62, 62, 62, 62, 62, 62, 62, 65, 65, 65, 65, 65, 65, 65, 65, 65, 73, 73, 73, 73, 73, 73, 73, 73, 73, 64, 64, 64, 64, 64, 64, 64, 64, 72, 72, 72, 72, 72, 72, 72, 72, 72, 59, 59, 59, 59, 59, 59, 59, 59, 59, 77, 77, 77, 77, 77, 77, 77, 77, 69, 69, 69, 69, 69, 69, 69, 69, 69, 69, 69, 69, 69, 69, 69, 69, 69, 69, 74, 74, 74, 74, 74, 74, 74, 74, 74, 56, 56, 56, 56, 56, 56, 56, 56, 69, 69, 69, 69, 69, 69, 69, 69, 69, 64, 64, 64, 64, 64, 64, 64, 64, 64, 68, 68, 68, 68, 68, 68, 68, 68, 68, 72, 72, 72, 72, 72, 72, 72, 72, 72, 58, 58, 58, 58, 58, 58, 58, 78, 78, 78, 78, 78, 78, 78, 78, 78, 65, 65, 65, 65, 65, 65, 65, 65, 65, 65, 65, 65, 65, 65, 65, 65, 65, 79, 79, 79, 79, 79, 79, 79, 79, 79, 64, 64, 64, 64, 64, 64, 64, 64, 64, 71, 71, 71, 71, 71, 71, 71, 71, 65, 65, 65, 65, 65, 65, 65, 65, 65, 75, 75, 75, 75, 75, 75, 75, 75, 75, 71, 71, 71, 71, 71, 71, 71, 71, 71, 72, 72, 72, 72, 72, 72, 72, 72, 72, 56, 56, 56, 56, 56, 56, 56, 56, 56, 62, 62, 62, 62, 62, 62, 62, 53, 53, 53, 53, 53, 53, 53, 53, 53, 53, 66, 66, 66, 66, 66, 66, 66, 66, 66, 67, 67, 67, 67, 67, 67, 67, 67, 67, 70, 70, 70, 70, 70, 70, 70, 70, 55, 55, 55, 55, 55, 55, 55, 55, 55, 55, 66, 66, 66, 66, 66, 66, 66, 66, 66, 74, 74, 74, 74, 74, 74, 74, 74, 65, 65, 65, 65, 65, 65, 65, 65, 65, 65, 65, 65, 65, 65, 65, 65, 65, 65, 66, 66, 66, 66, 66, 66, 66, 66, 66, 73, 73, 73, 73, 73, 73, 73, 73, 73, 68, 68, 68, 68, 68, 68, 68, 68, 68, 68, 73, 73, 73, 73, 73, 73, 73, 73, 72, 72, 72, 72, 72, 72, 72, 72, 72, 73, 73, 73, 73, 73, 73, 73, 73, 73], \"yaxis\": \"y\"}, {\"hovertemplate\": \"Sex=Female<br>Weeks=%{x}<br>Age=%{y}<extra></extra>\", \"legendgroup\": \"Female\", \"marker\": {\"color\": \"#EF553B\", \"symbol\": \"circle\"}, \"mode\": \"markers\", \"name\": \"Female\", \"showlegend\": true, \"type\": \"scattergl\", \"x\": [13, 14, 16, 18, 20, 26, 38, 53, 66, 18, 19, 21, 23, 25, 31, 44, 54, 70, -3, 3, 5, 7, 9, 15, 27, 39, 55, 9, 9, 11, 13, 15, 21, 33, 47, 61, -1, 1, 3, 6, 7, 13, 26, 37, 54, 25, 28, 29, 32, 33, 40, 51, 61, 79, 0, 5, 7, 9, 11, 17, 28, 40, 58, 19, 27, 29, 31, 33, 39, 51, 63, 79, -5, 6, 8, 9, 12, 18, 30, 42, 58, 48, 49, 51, 53, 55, 61, 73, 85, 102, 44, 48, 50, 52, 54, 61, 72, 84, 100, 34, 36, 37, 39, 41, 47, 59, 11, 12, 14, 17, 18, 24, 36, 48, 64, 44, 48, 50, 52, 54, 60, 73, 84, 100, 12, 16, 18, 20, 23, 28, 40, 53, 66, 38, 44, 46, 48, 50, 56, 68, 79, 96, 4, 12, 14, 15, 18, 24, 36, 48, 65, 11, 12, 14, 16, 18, 24, 36, 48, 64, 13, 17, 19, 21, 23, 29, 54, 69, 14, 15, 18, 19, 21, 27, 40, 50, 67, 9, 11, 13, 15, 17, 23, 35, 47, 63, 2, 4, 6, 8, 10, 16, 28, 40, 56, 14, 15, 17, 19, 20, 27, 38, 51, 67, 1, 3, 5, 7, 15, 29, 41, 55, 13, 14, 16, 19, 20, 26, 39, 51, 3, 5, 8, 10, 12, 31, 48, 50, 52, 54, 56, 62, 74, 86, 102, 4, 6, 8, 10, 12, 18, 30, 42, 58, 21, 22, 24, 26, 28, 34, 45, 57, 4, 6, 8, 9, 12, 18, 30, 42, 57, 0, 4, 6, 8, 10, 16, 28, 40, 57, 28, 32, 35, 36, 38, 44, 56, 68, 84, 23, 25, 27, 28, 30, 36, 48, 62, 76, 79, 35, 36, 38, 40, 42, 48, 59, 72, 87, 48, 50, 52, 54, 56, 63, 74, 86, 102, 42, 47, 49, 51, 53, 59, 71, 82, 99, 0, 6, 8, 11, 12, 18, 31, 42, 58], \"xaxis\": \"x\", \"y\": [83, 83, 83, 83, 83, 83, 83, 83, 83, 66, 66, 66, 66, 66, 66, 66, 66, 66, 71, 71, 71, 71, 71, 71, 71, 71, 71, 70, 70, 70, 70, 70, 70, 70, 70, 70, 73, 73, 73, 73, 73, 73, 73, 73, 73, 52, 52, 52, 52, 52, 52, 52, 52, 52, 55, 55, 55, 55, 55, 55, 55, 55, 55, 49, 49, 49, 49, 49, 49, 49, 49, 49, 65, 65, 65, 65, 65, 65, 65, 65, 65, 69, 69, 69, 69, 69, 69, 69, 69, 69, 55, 55, 55, 55, 55, 55, 55, 55, 55, 87, 87, 87, 87, 87, 87, 87, 65, 65, 65, 65, 65, 65, 65, 65, 65, 66, 66, 66, 66, 66, 66, 66, 66, 66, 66, 66, 66, 66, 66, 66, 66, 66, 66, 79, 79, 79, 79, 79, 79, 79, 79, 79, 56, 56, 56, 56, 56, 56, 56, 56, 56, 76, 76, 76, 76, 76, 76, 76, 76, 76, 77, 77, 77, 77, 77, 77, 77, 77, 58, 58, 58, 58, 58, 58, 58, 58, 58, 74, 74, 74, 74, 74, 74, 74, 74, 74, 66, 66, 66, 66, 66, 66, 66, 66, 66, 71, 71, 71, 71, 71, 71, 71, 71, 71, 62, 62, 62, 62, 62, 62, 62, 62, 76, 76, 76, 76, 76, 76, 76, 76, 70, 70, 70, 70, 70, 70, 62, 62, 62, 62, 62, 62, 62, 62, 62, 61, 61, 61, 61, 61, 61, 61, 61, 61, 63, 63, 63, 63, 63, 63, 63, 63, 67, 67, 67, 67, 67, 67, 67, 67, 67, 72, 72, 72, 72, 72, 72, 72, 72, 72, 68, 68, 68, 68, 68, 68, 68, 68, 68, 68, 68, 68, 68, 68, 68, 68, 68, 68, 68, 57, 57, 57, 57, 57, 57, 57, 57, 57, 64, 64, 64, 64, 64, 64, 64, 64, 64, 74, 74, 74, 74, 74, 74, 74, 74, 74, 61, 61, 61, 61, 61, 61, 61, 61, 61], \"yaxis\": \"y\"}],\n",
       "                        {\"legend\": {\"title\": {\"text\": \"Sex\"}, \"tracegroupgap\": 0}, \"margin\": {\"t\": 60}, \"template\": {\"data\": {\"bar\": [{\"error_x\": {\"color\": \"#2a3f5f\"}, \"error_y\": {\"color\": \"#2a3f5f\"}, \"marker\": {\"line\": {\"color\": \"#E5ECF6\", \"width\": 0.5}}, \"type\": \"bar\"}], \"barpolar\": [{\"marker\": {\"line\": {\"color\": \"#E5ECF6\", \"width\": 0.5}}, \"type\": \"barpolar\"}], \"carpet\": [{\"aaxis\": {\"endlinecolor\": \"#2a3f5f\", \"gridcolor\": \"white\", \"linecolor\": \"white\", \"minorgridcolor\": \"white\", \"startlinecolor\": \"#2a3f5f\"}, \"baxis\": {\"endlinecolor\": \"#2a3f5f\", \"gridcolor\": \"white\", \"linecolor\": \"white\", \"minorgridcolor\": \"white\", \"startlinecolor\": \"#2a3f5f\"}, \"type\": \"carpet\"}], \"choropleth\": [{\"colorbar\": {\"outlinewidth\": 0, \"ticks\": \"\"}, \"type\": \"choropleth\"}], \"contour\": [{\"colorbar\": {\"outlinewidth\": 0, \"ticks\": \"\"}, \"colorscale\": [[0.0, \"#0d0887\"], [0.1111111111111111, \"#46039f\"], [0.2222222222222222, \"#7201a8\"], [0.3333333333333333, \"#9c179e\"], [0.4444444444444444, \"#bd3786\"], [0.5555555555555556, \"#d8576b\"], [0.6666666666666666, \"#ed7953\"], [0.7777777777777778, \"#fb9f3a\"], [0.8888888888888888, \"#fdca26\"], [1.0, \"#f0f921\"]], \"type\": \"contour\"}], \"contourcarpet\": [{\"colorbar\": {\"outlinewidth\": 0, \"ticks\": \"\"}, \"type\": \"contourcarpet\"}], \"heatmap\": [{\"colorbar\": {\"outlinewidth\": 0, \"ticks\": \"\"}, \"colorscale\": [[0.0, \"#0d0887\"], [0.1111111111111111, \"#46039f\"], [0.2222222222222222, \"#7201a8\"], [0.3333333333333333, \"#9c179e\"], [0.4444444444444444, \"#bd3786\"], [0.5555555555555556, \"#d8576b\"], [0.6666666666666666, \"#ed7953\"], [0.7777777777777778, \"#fb9f3a\"], [0.8888888888888888, \"#fdca26\"], [1.0, \"#f0f921\"]], \"type\": \"heatmap\"}], \"heatmapgl\": [{\"colorbar\": {\"outlinewidth\": 0, \"ticks\": \"\"}, \"colorscale\": [[0.0, \"#0d0887\"], [0.1111111111111111, \"#46039f\"], [0.2222222222222222, \"#7201a8\"], [0.3333333333333333, \"#9c179e\"], [0.4444444444444444, \"#bd3786\"], [0.5555555555555556, \"#d8576b\"], [0.6666666666666666, \"#ed7953\"], [0.7777777777777778, \"#fb9f3a\"], [0.8888888888888888, \"#fdca26\"], [1.0, \"#f0f921\"]], \"type\": \"heatmapgl\"}], \"histogram\": [{\"marker\": {\"colorbar\": {\"outlinewidth\": 0, \"ticks\": \"\"}}, \"type\": \"histogram\"}], \"histogram2d\": [{\"colorbar\": {\"outlinewidth\": 0, \"ticks\": \"\"}, \"colorscale\": [[0.0, \"#0d0887\"], [0.1111111111111111, \"#46039f\"], [0.2222222222222222, \"#7201a8\"], [0.3333333333333333, \"#9c179e\"], [0.4444444444444444, \"#bd3786\"], [0.5555555555555556, \"#d8576b\"], [0.6666666666666666, \"#ed7953\"], [0.7777777777777778, \"#fb9f3a\"], [0.8888888888888888, \"#fdca26\"], [1.0, \"#f0f921\"]], \"type\": \"histogram2d\"}], \"histogram2dcontour\": [{\"colorbar\": {\"outlinewidth\": 0, \"ticks\": \"\"}, \"colorscale\": [[0.0, \"#0d0887\"], [0.1111111111111111, \"#46039f\"], [0.2222222222222222, \"#7201a8\"], [0.3333333333333333, \"#9c179e\"], [0.4444444444444444, \"#bd3786\"], [0.5555555555555556, \"#d8576b\"], [0.6666666666666666, \"#ed7953\"], [0.7777777777777778, \"#fb9f3a\"], [0.8888888888888888, \"#fdca26\"], [1.0, \"#f0f921\"]], \"type\": \"histogram2dcontour\"}], \"mesh3d\": [{\"colorbar\": {\"outlinewidth\": 0, \"ticks\": \"\"}, \"type\": \"mesh3d\"}], \"parcoords\": [{\"line\": {\"colorbar\": {\"outlinewidth\": 0, \"ticks\": \"\"}}, \"type\": \"parcoords\"}], \"pie\": [{\"automargin\": true, \"type\": \"pie\"}], \"scatter\": [{\"marker\": {\"colorbar\": {\"outlinewidth\": 0, \"ticks\": \"\"}}, \"type\": \"scatter\"}], \"scatter3d\": [{\"line\": {\"colorbar\": {\"outlinewidth\": 0, \"ticks\": \"\"}}, \"marker\": {\"colorbar\": {\"outlinewidth\": 0, \"ticks\": \"\"}}, \"type\": \"scatter3d\"}], \"scattercarpet\": [{\"marker\": {\"colorbar\": {\"outlinewidth\": 0, \"ticks\": \"\"}}, \"type\": \"scattercarpet\"}], \"scattergeo\": [{\"marker\": {\"colorbar\": {\"outlinewidth\": 0, \"ticks\": \"\"}}, \"type\": \"scattergeo\"}], \"scattergl\": [{\"marker\": {\"colorbar\": {\"outlinewidth\": 0, \"ticks\": \"\"}}, \"type\": \"scattergl\"}], \"scattermapbox\": [{\"marker\": {\"colorbar\": {\"outlinewidth\": 0, \"ticks\": \"\"}}, \"type\": \"scattermapbox\"}], \"scatterpolar\": [{\"marker\": {\"colorbar\": {\"outlinewidth\": 0, \"ticks\": \"\"}}, \"type\": \"scatterpolar\"}], \"scatterpolargl\": [{\"marker\": {\"colorbar\": {\"outlinewidth\": 0, \"ticks\": \"\"}}, \"type\": \"scatterpolargl\"}], \"scatterternary\": [{\"marker\": {\"colorbar\": {\"outlinewidth\": 0, \"ticks\": \"\"}}, \"type\": \"scatterternary\"}], \"surface\": [{\"colorbar\": {\"outlinewidth\": 0, \"ticks\": \"\"}, \"colorscale\": [[0.0, \"#0d0887\"], [0.1111111111111111, \"#46039f\"], [0.2222222222222222, \"#7201a8\"], [0.3333333333333333, \"#9c179e\"], [0.4444444444444444, \"#bd3786\"], [0.5555555555555556, \"#d8576b\"], [0.6666666666666666, \"#ed7953\"], [0.7777777777777778, \"#fb9f3a\"], [0.8888888888888888, \"#fdca26\"], [1.0, \"#f0f921\"]], \"type\": \"surface\"}], \"table\": [{\"cells\": {\"fill\": {\"color\": \"#EBF0F8\"}, \"line\": {\"color\": \"white\"}}, \"header\": {\"fill\": {\"color\": \"#C8D4E3\"}, \"line\": {\"color\": \"white\"}}, \"type\": \"table\"}]}, \"layout\": {\"annotationdefaults\": {\"arrowcolor\": \"#2a3f5f\", \"arrowhead\": 0, \"arrowwidth\": 1}, \"coloraxis\": {\"colorbar\": {\"outlinewidth\": 0, \"ticks\": \"\"}}, \"colorscale\": {\"diverging\": [[0, \"#8e0152\"], [0.1, \"#c51b7d\"], [0.2, \"#de77ae\"], [0.3, \"#f1b6da\"], [0.4, \"#fde0ef\"], [0.5, \"#f7f7f7\"], [0.6, \"#e6f5d0\"], [0.7, \"#b8e186\"], [0.8, \"#7fbc41\"], [0.9, \"#4d9221\"], [1, \"#276419\"]], \"sequential\": [[0.0, \"#0d0887\"], [0.1111111111111111, \"#46039f\"], [0.2222222222222222, \"#7201a8\"], [0.3333333333333333, \"#9c179e\"], [0.4444444444444444, \"#bd3786\"], [0.5555555555555556, \"#d8576b\"], [0.6666666666666666, \"#ed7953\"], [0.7777777777777778, \"#fb9f3a\"], [0.8888888888888888, \"#fdca26\"], [1.0, \"#f0f921\"]], \"sequentialminus\": [[0.0, \"#0d0887\"], [0.1111111111111111, \"#46039f\"], [0.2222222222222222, \"#7201a8\"], [0.3333333333333333, \"#9c179e\"], [0.4444444444444444, \"#bd3786\"], [0.5555555555555556, \"#d8576b\"], [0.6666666666666666, \"#ed7953\"], [0.7777777777777778, \"#fb9f3a\"], [0.8888888888888888, \"#fdca26\"], [1.0, \"#f0f921\"]]}, \"colorway\": [\"#636efa\", \"#EF553B\", \"#00cc96\", \"#ab63fa\", \"#FFA15A\", \"#19d3f3\", \"#FF6692\", \"#B6E880\", \"#FF97FF\", \"#FECB52\"], \"font\": {\"color\": \"#2a3f5f\"}, \"geo\": {\"bgcolor\": \"white\", \"lakecolor\": \"white\", \"landcolor\": \"#E5ECF6\", \"showlakes\": true, \"showland\": true, \"subunitcolor\": \"white\"}, \"hoverlabel\": {\"align\": \"left\"}, \"hovermode\": \"closest\", \"mapbox\": {\"style\": \"light\"}, \"paper_bgcolor\": \"white\", \"plot_bgcolor\": \"#E5ECF6\", \"polar\": {\"angularaxis\": {\"gridcolor\": \"white\", \"linecolor\": \"white\", \"ticks\": \"\"}, \"bgcolor\": \"#E5ECF6\", \"radialaxis\": {\"gridcolor\": \"white\", \"linecolor\": \"white\", \"ticks\": \"\"}}, \"scene\": {\"xaxis\": {\"backgroundcolor\": \"#E5ECF6\", \"gridcolor\": \"white\", \"gridwidth\": 2, \"linecolor\": \"white\", \"showbackground\": true, \"ticks\": \"\", \"zerolinecolor\": \"white\"}, \"yaxis\": {\"backgroundcolor\": \"#E5ECF6\", \"gridcolor\": \"white\", \"gridwidth\": 2, \"linecolor\": \"white\", \"showbackground\": true, \"ticks\": \"\", \"zerolinecolor\": \"white\"}, \"zaxis\": {\"backgroundcolor\": \"#E5ECF6\", \"gridcolor\": \"white\", \"gridwidth\": 2, \"linecolor\": \"white\", \"showbackground\": true, \"ticks\": \"\", \"zerolinecolor\": \"white\"}}, \"shapedefaults\": {\"line\": {\"color\": \"#2a3f5f\"}}, \"ternary\": {\"aaxis\": {\"gridcolor\": \"white\", \"linecolor\": \"white\", \"ticks\": \"\"}, \"baxis\": {\"gridcolor\": \"white\", \"linecolor\": \"white\", \"ticks\": \"\"}, \"bgcolor\": \"#E5ECF6\", \"caxis\": {\"gridcolor\": \"white\", \"linecolor\": \"white\", \"ticks\": \"\"}}, \"title\": {\"x\": 0.05}, \"xaxis\": {\"automargin\": true, \"gridcolor\": \"white\", \"linecolor\": \"white\", \"ticks\": \"\", \"title\": {\"standoff\": 15}, \"zerolinecolor\": \"white\", \"zerolinewidth\": 2}, \"yaxis\": {\"automargin\": true, \"gridcolor\": \"white\", \"linecolor\": \"white\", \"ticks\": \"\", \"title\": {\"standoff\": 15}, \"zerolinecolor\": \"white\", \"zerolinewidth\": 2}}}, \"xaxis\": {\"anchor\": \"y\", \"domain\": [0.0, 1.0], \"title\": {\"text\": \"Weeks\"}}, \"yaxis\": {\"anchor\": \"x\", \"domain\": [0.0, 1.0], \"title\": {\"text\": \"Age\"}}},\n",
       "                        {\"responsive\": true}\n",
       "                    ).then(function(){\n",
       "                            \n",
       "var gd = document.getElementById('b8a7b6b8-3302-47e3-bd27-fe2e4a81c3bb');\n",
       "var x = new MutationObserver(function (mutations, observer) {{\n",
       "        var display = window.getComputedStyle(gd).display;\n",
       "        if (!display || display === 'none') {{\n",
       "            console.log([gd, 'removed!']);\n",
       "            Plotly.purge(gd);\n",
       "            observer.disconnect();\n",
       "        }}\n",
       "}});\n",
       "\n",
       "// Listen for the removal of the full notebook cells\n",
       "var notebookContainer = gd.closest('#notebook-container');\n",
       "if (notebookContainer) {{\n",
       "    x.observe(notebookContainer, {childList: true});\n",
       "}}\n",
       "\n",
       "// Listen for the clearing of the current output cell\n",
       "var outputEl = gd.closest('.output');\n",
       "if (outputEl) {{\n",
       "    x.observe(outputEl, {childList: true});\n",
       "}}\n",
       "\n",
       "                        })\n",
       "                };\n",
       "                });\n",
       "            </script>\n",
       "        </div>"
      ]
     },
     "metadata": {},
     "output_type": "display_data"
    }
   ],
   "source": [
    "fig = px.scatter(train_df, x=\"Weeks\", y=\"Age\", color='Sex')\n",
    "fig.show()"
   ]
  }
 ],
 "metadata": {
  "kernelspec": {
   "display_name": "Python 3",
   "language": "python",
   "name": "python3"
  },
  "language_info": {
   "codemirror_mode": {
    "name": "ipython",
    "version": 3
   },
   "file_extension": ".py",
   "mimetype": "text/x-python",
   "name": "python",
   "nbconvert_exporter": "python",
   "pygments_lexer": "ipython3",
   "version": "3.8.3"
  }
 },
 "nbformat": 4,
 "nbformat_minor": 4
}
